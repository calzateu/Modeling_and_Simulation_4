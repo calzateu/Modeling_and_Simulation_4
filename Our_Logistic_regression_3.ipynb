{
  "nbformat": 4,
  "nbformat_minor": 0,
  "metadata": {
    "colab": {
      "name": "Our_Logistic_regression_3.ipynb",
      "provenance": [],
      "collapsed_sections": [],
      "include_colab_link": true
    },
    "kernelspec": {
      "name": "python3",
      "display_name": "Python 3"
    },
    "language_info": {
      "name": "python"
    }
  },
  "cells": [
    {
      "cell_type": "markdown",
      "metadata": {
        "id": "view-in-github",
        "colab_type": "text"
      },
      "source": [
        "<a href=\"https://colab.research.google.com/github/calzateu/Modeling_and_Simulation_4/blob/main/Our_Logistic_regression_3.ipynb\" target=\"_parent\"><img src=\"https://colab.research.google.com/assets/colab-badge.svg\" alt=\"Open In Colab\"/></a>"
      ]
    },
    {
      "cell_type": "code",
      "metadata": {
        "id": "J5gFZ-WNWB_E"
      },
      "source": [
        "import pandas as pd\n",
        "from scipy import linalg as LA"
      ],
      "execution_count": 461,
      "outputs": []
    },
    {
      "cell_type": "code",
      "metadata": {
        "colab": {
          "base_uri": "https://localhost:8080/",
          "height": 255
        },
        "id": "sOc_oI2WKASW",
        "outputId": "1c966d45-48ac-4d10-f82a-8b8c0df38ea1"
      },
      "source": [
        "data = pd.read_csv('Dataset-with-sentiments.csv')\n",
        "data.head(5)"
      ],
      "execution_count": 462,
      "outputs": [
        {
          "output_type": "execute_result",
          "data": {
            "text/html": [
              "<div>\n",
              "<style scoped>\n",
              "    .dataframe tbody tr th:only-of-type {\n",
              "        vertical-align: middle;\n",
              "    }\n",
              "\n",
              "    .dataframe tbody tr th {\n",
              "        vertical-align: top;\n",
              "    }\n",
              "\n",
              "    .dataframe thead th {\n",
              "        text-align: right;\n",
              "    }\n",
              "</style>\n",
              "<table border=\"1\" class=\"dataframe\">\n",
              "  <thead>\n",
              "    <tr style=\"text-align: right;\">\n",
              "      <th></th>\n",
              "      <th>Video ID</th>\n",
              "      <th>Comment ID</th>\n",
              "      <th>comments</th>\n",
              "      <th>Likes</th>\n",
              "      <th>polarity</th>\n",
              "      <th>pol_cat</th>\n",
              "      <th>stop_comments</th>\n",
              "    </tr>\n",
              "  </thead>\n",
              "  <tbody>\n",
              "    <tr>\n",
              "      <th>0</th>\n",
              "      <td>MwpMEbgC7DA</td>\n",
              "      <td>UgzSCaG-BeNW0LkW2px4AaABAg</td>\n",
              "      <td>that  s  beautiful</td>\n",
              "      <td>0</td>\n",
              "      <td>0.850000</td>\n",
              "      <td>1</td>\n",
              "      <td>beautiful</td>\n",
              "    </tr>\n",
              "    <tr>\n",
              "      <th>1</th>\n",
              "      <td>MwpMEbgC7DA</td>\n",
              "      <td>Ugw6J6RLt2VGaKMAz4h4AaABAg</td>\n",
              "      <td>imagine  being  able  to  listen  to  this  so...</td>\n",
              "      <td>176</td>\n",
              "      <td>0.375000</td>\n",
              "      <td>1</td>\n",
              "      <td>imagine able listen song like first time ever ...</td>\n",
              "    </tr>\n",
              "    <tr>\n",
              "      <th>2</th>\n",
              "      <td>MwpMEbgC7DA</td>\n",
              "      <td>UgwyFvqt1jZGR1l32sl4AaABAg</td>\n",
              "      <td>i've  memorized  this  song  more  than  math ...</td>\n",
              "      <td>4</td>\n",
              "      <td>0.333333</td>\n",
              "      <td>1</td>\n",
              "      <td>'ve memorized song math equations think song m...</td>\n",
              "    </tr>\n",
              "    <tr>\n",
              "      <th>3</th>\n",
              "      <td>MwpMEbgC7DA</td>\n",
              "      <td>UgzzG2fg2Aq8HjJAQUB4AaABAg</td>\n",
              "      <td>every  time  i  listen  to  this  reminds  me ...</td>\n",
              "      <td>0</td>\n",
              "      <td>0.850000</td>\n",
              "      <td>1</td>\n",
              "      <td>every time listen reminds tvd elena damon rain...</td>\n",
              "    </tr>\n",
              "    <tr>\n",
              "      <th>4</th>\n",
              "      <td>MwpMEbgC7DA</td>\n",
              "      <td>Ugwx9ephHmJlIN8Sc614AaABAg</td>\n",
              "      <td>forever  my  cry  song</td>\n",
              "      <td>2</td>\n",
              "      <td>0.000000</td>\n",
              "      <td>0</td>\n",
              "      <td>forever cry song</td>\n",
              "    </tr>\n",
              "  </tbody>\n",
              "</table>\n",
              "</div>"
            ],
            "text/plain": [
              "      Video ID  ...                                      stop_comments\n",
              "0  MwpMEbgC7DA  ...                                          beautiful\n",
              "1  MwpMEbgC7DA  ...  imagine able listen song like first time ever ...\n",
              "2  MwpMEbgC7DA  ...  've memorized song math equations think song m...\n",
              "3  MwpMEbgC7DA  ...  every time listen reminds tvd elena damon rain...\n",
              "4  MwpMEbgC7DA  ...                                   forever cry song\n",
              "\n",
              "[5 rows x 7 columns]"
            ]
          },
          "metadata": {},
          "execution_count": 462
        }
      ]
    },
    {
      "cell_type": "code",
      "metadata": {
        "id": "NAVjRxpEXhzs"
      },
      "source": [
        ""
      ],
      "execution_count": 462,
      "outputs": []
    },
    {
      "cell_type": "code",
      "metadata": {
        "id": "f_gyN-auXh2F"
      },
      "source": [
        ""
      ],
      "execution_count": 462,
      "outputs": []
    },
    {
      "cell_type": "code",
      "metadata": {
        "id": "HIdiQSNaXh62"
      },
      "source": [
        ""
      ],
      "execution_count": 462,
      "outputs": []
    },
    {
      "cell_type": "code",
      "metadata": {
        "colab": {
          "base_uri": "https://localhost:8080/"
        },
        "id": "mpRMqsFCXsmq",
        "outputId": "9b679710-1e58-4291-8b8c-a8ea286466bc"
      },
      "source": [
        "sum(data['stop_comments'].isnull())\n"
      ],
      "execution_count": 463,
      "outputs": [
        {
          "output_type": "execute_result",
          "data": {
            "text/plain": [
              "0"
            ]
          },
          "metadata": {},
          "execution_count": 463
        }
      ]
    },
    {
      "cell_type": "code",
      "metadata": {
        "id": "J2c0AVHVXsom"
      },
      "source": [
        "data = data[data['stop_comments'].notnull()]"
      ],
      "execution_count": 464,
      "outputs": []
    },
    {
      "cell_type": "code",
      "metadata": {
        "colab": {
          "base_uri": "https://localhost:8080/"
        },
        "id": "X47G8LtaXsqa",
        "outputId": "b50c1ab2-71a0-4faa-cc81-f93dd2ec01ff"
      },
      "source": [
        "sum(data['stop_comments'].isnull())"
      ],
      "execution_count": 465,
      "outputs": [
        {
          "output_type": "execute_result",
          "data": {
            "text/plain": [
              "0"
            ]
          },
          "metadata": {},
          "execution_count": 465
        }
      ]
    },
    {
      "cell_type": "code",
      "metadata": {
        "id": "4oJdYZIfkahB"
      },
      "source": [
        ""
      ],
      "execution_count": 465,
      "outputs": []
    },
    {
      "cell_type": "code",
      "metadata": {
        "id": "MGATddlAkanR"
      },
      "source": [
        ""
      ],
      "execution_count": 465,
      "outputs": []
    },
    {
      "cell_type": "code",
      "metadata": {
        "colab": {
          "base_uri": "https://localhost:8080/"
        },
        "id": "s3j4DacKXssL",
        "outputId": "ec90f237-d923-4118-f6d4-e70aa0f6b71f"
      },
      "source": [
        "data['pol_cat']"
      ],
      "execution_count": 466,
      "outputs": [
        {
          "output_type": "execute_result",
          "data": {
            "text/plain": [
              "0       1\n",
              "1       1\n",
              "2       1\n",
              "3       1\n",
              "4       0\n",
              "       ..\n",
              "1068    1\n",
              "1069    1\n",
              "1070    0\n",
              "1071    0\n",
              "1072    1\n",
              "Name: pol_cat, Length: 1073, dtype: int64"
            ]
          },
          "metadata": {},
          "execution_count": 466
        }
      ]
    },
    {
      "cell_type": "code",
      "metadata": {
        "id": "AGN10wmnkbnJ"
      },
      "source": [
        "data[data['pol_cat']==-1] = 0"
      ],
      "execution_count": 467,
      "outputs": []
    },
    {
      "cell_type": "code",
      "metadata": {
        "colab": {
          "base_uri": "https://localhost:8080/"
        },
        "id": "qVmBbynlkbt5",
        "outputId": "feaa41d3-c153-455c-895a-e13648b1e7cc"
      },
      "source": [
        "data['pol_cat']"
      ],
      "execution_count": 468,
      "outputs": [
        {
          "output_type": "execute_result",
          "data": {
            "text/plain": [
              "0       1\n",
              "1       1\n",
              "2       1\n",
              "3       1\n",
              "4       0\n",
              "       ..\n",
              "1068    1\n",
              "1069    1\n",
              "1070    0\n",
              "1071    0\n",
              "1072    1\n",
              "Name: pol_cat, Length: 1073, dtype: int64"
            ]
          },
          "metadata": {},
          "execution_count": 468
        }
      ]
    },
    {
      "cell_type": "code",
      "metadata": {
        "id": "q-vcKnLxlYzE"
      },
      "source": [
        ""
      ],
      "execution_count": 468,
      "outputs": []
    },
    {
      "cell_type": "code",
      "metadata": {
        "colab": {
          "base_uri": "https://localhost:8080/"
        },
        "id": "5JrH_VwMlY2C",
        "outputId": "701bec4e-ff2e-4c7f-a9fe-d675faebc7ab"
      },
      "source": [
        "data.info()"
      ],
      "execution_count": 469,
      "outputs": [
        {
          "output_type": "stream",
          "name": "stdout",
          "text": [
            "<class 'pandas.core.frame.DataFrame'>\n",
            "Int64Index: 1073 entries, 0 to 1072\n",
            "Data columns (total 7 columns):\n",
            " #   Column         Non-Null Count  Dtype  \n",
            "---  ------         --------------  -----  \n",
            " 0   Video ID       1073 non-null   object \n",
            " 1   Comment ID     1073 non-null   object \n",
            " 2   comments       1073 non-null   object \n",
            " 3   Likes          1073 non-null   int64  \n",
            " 4   polarity       1073 non-null   float64\n",
            " 5   pol_cat        1073 non-null   int64  \n",
            " 6   stop_comments  1073 non-null   object \n",
            "dtypes: float64(1), int64(2), object(4)\n",
            "memory usage: 67.1+ KB\n"
          ]
        }
      ]
    },
    {
      "cell_type": "code",
      "metadata": {
        "id": "1HEC6o4mlwxg"
      },
      "source": [
        "data['stop_comments'] = data[['stop_comments']].astype(str)"
      ],
      "execution_count": 470,
      "outputs": []
    },
    {
      "cell_type": "code",
      "metadata": {
        "id": "5AMmchcUXsue"
      },
      "source": [
        ""
      ],
      "execution_count": 470,
      "outputs": []
    },
    {
      "cell_type": "code",
      "metadata": {
        "id": "2c7nj5ojXfk9"
      },
      "source": [
        "from sklearn.model_selection import train_test_split"
      ],
      "execution_count": 471,
      "outputs": []
    },
    {
      "cell_type": "code",
      "metadata": {
        "id": "w4zTUfJVXcV7"
      },
      "source": [
        "X_train,X_test,y_train,y_test = train_test_split(data['stop_comments'],data['pol_cat'],test_size = 0.2,random_state = 324)"
      ],
      "execution_count": 472,
      "outputs": []
    },
    {
      "cell_type": "code",
      "metadata": {
        "id": "GaDH7-GalgVs"
      },
      "source": [
        ""
      ],
      "execution_count": 472,
      "outputs": []
    },
    {
      "cell_type": "code",
      "metadata": {
        "id": "6w5FIpXfW_Y3"
      },
      "source": [
        "from sklearn.feature_extraction.text import CountVectorizer, TfidfVectorizer \n",
        "vect = CountVectorizer()\n",
        "tf_train = vect.fit_transform(X_train)\n",
        "tf_test = vect.transform(X_test)"
      ],
      "execution_count": 473,
      "outputs": []
    },
    {
      "cell_type": "code",
      "metadata": {
        "id": "eCPw36U2YelA"
      },
      "source": [
        "tf_train = tf_train.toarray()\n",
        "tf_test = tf_test.toarray()"
      ],
      "execution_count": 474,
      "outputs": []
    },
    {
      "cell_type": "code",
      "metadata": {
        "id": "qVQ2Zy_H3HiX"
      },
      "source": [
        "import numpy as np\n",
        "\n",
        "from sklearn import datasets\n",
        "from sklearn.linear_model import LogisticRegression as sklearnLogisticRegression\n",
        "\n",
        "class LogisticRegression:\n",
        "    \"\"\"\n",
        "            Purpose: To estimate Logistic regression parameters in Python.\n",
        "            Inputs:\n",
        "                alpha           : Is the optimisation learning rate.\n",
        "                maxIterations   : Maximum number of iterations for optimisation routine..\n",
        "                fitIntercept    : Include the intercept in the model fit.\n",
        "                verbose         : Display program information.\n",
        "                optimisation    : The optimisation routine to use. Options are:\n",
        "                                            gradientAscent\n",
        "                                            newton\n",
        "    \"\"\"\n",
        "    def __init__(self, alpha=0.01, maxIterations=100000, fitIntercept=True, verbose=False,optimisation=\"gradientAscent\"):\n",
        "        self.alpha = alpha\n",
        "        self.maxIterations = maxIterations  # Maximum number of times to run the optimisation.\n",
        "        self.numIterations = 0;             # Record the number of iterations performed.\n",
        "        self.hasConverged = False;          # This variable is used to terminate the iterations searching for optimum parameters.\n",
        "        self.fitIntercept = fitIntercept\n",
        "        self.verbose = verbose\n",
        "        self.costHistory = [];\n",
        "        self.tolerance = tol=0; # convergence tolerance;\n",
        "        self.theta=[];\n",
        "        self.optimisation = optimisation;\n",
        "\n",
        "    def __add_intercept(X):\n",
        "        X = X.reshape(len(X), -1)\n",
        "        intercept = np.ones((X.shape[0], 1))\n",
        "        return np.concatenate((intercept, X), axis=1)\n",
        "\n",
        "    def __sigmoid(z):\n",
        "        return 1 / (1 + np.exp(-z))\n",
        "\n",
        "\n",
        "    def __cost(self, X, y, theta):\n",
        "        # Purpose: Logistic regression log cost function.\n",
        "        z = np.dot(X, theta)\n",
        "        p = LogisticRegression.__sigmoid(z)\n",
        "        return (-y * np.log(p) - (1 - y) * np.log(1 - p)).mean()\n",
        "\n",
        "    def gradientAscent(X,y,theta,alpha):\n",
        "        z = np.dot(X, theta)\n",
        "        p = LogisticRegression.__sigmoid(z)\n",
        "        gradient = np.dot(X.T, (p - y)) / y.size;  # 1st derivative of log likelihood wrt parameters.\n",
        "        theta -= alpha * gradient  # Update the parameters.\n",
        "\n",
        "        return theta;\n",
        "    \n",
        "    def gradientAscent2(X,y,theta,alpha):\n",
        "        z = np.dot(X, theta)\n",
        "        p = LogisticRegression.__sigmoid(z)\n",
        "        aux = np.dot(X.T, (p - y))\n",
        "        r = np.median(np.abs(aux[aux != 0]))\n",
        "        # print(r)\n",
        "        if r == 0:\n",
        "          r = 1/y.size;\n",
        "        gradient = r*np.dot(X.T, (p - y));  # 1st derivative of log likelihood wrt parameters.\n",
        "        #print(gradient)\n",
        "        theta -= alpha * gradient  # Update the parameters.\n",
        "\n",
        "        return theta;\n",
        "\n",
        "    def newton(X,y,theta,useRegulisation=False,regulisationParameter=0):\n",
        "        \"\"\" Newton optimisation method.\"\"\"\n",
        "        z = np.dot(X, theta)\n",
        "        p = LogisticRegression.__sigmoid(z)\n",
        "        W = np.diag(p * (1 - p))\n",
        "        hessian = X.T.dot(W).dot(X);\n",
        "\n",
        "        \n",
        "        eig_vals, eig_vects = LA.eig(hessian)\n",
        "\n",
        "        print(len(eig_vals))\n",
        "        val = np.max(eig_vals)\n",
        "        #val = 2\n",
        "\n",
        "        if val < 0:\n",
        "          val *= -1\n",
        "\n",
        "        val = 1/val;\n",
        "        print(val)\n",
        "\n",
        "        a = np.zeros((len(hessian), len(hessian))) #Inicializo una matriz\n",
        "        np.fill_diagonal(a, np.linalg.norm(val)) # Relleno la diagonal con un valor especifico\n",
        "\n",
        "        #print(a[0,0], np.linalg.norm(val))\n",
        "        hessian = hessian + a\n",
        "        \n",
        "\n",
        "        gradient = np.dot(X.T, (y-p));  # 1st derivative of log likelihood wrt parameters.\n",
        "\n",
        "        '''\n",
        "        try:\n",
        "            if useRegulisation:\n",
        "                step = np.dot(np.linalg.inv(hessian + regulisationParameter * np.eye(theta)), grad)\n",
        "            else:\n",
        "                step = np.dot(np.linalg.inv(hessian), gradient)\n",
        "        except np.linalg.LinAlgError:\n",
        "            step=0;'''\n",
        "        \n",
        "        #print(hessian)\n",
        "        print(hessian.shape)\n",
        "        #print(hessian[0,0])\n",
        "        hs = np.linalg.inv(hessian)\n",
        "        print(hs)\n",
        "        step = np.dot(hs, gradient)\n",
        "\n",
        "        ## update the weights\n",
        "        theta = theta + step\n",
        "\n",
        "        print(theta)\n",
        "\n",
        "\n",
        "        return theta;\n",
        "\n",
        "    def fit(self, X, y):\n",
        "        if self.fitIntercept:\n",
        "            X = LogisticRegression.__add_intercept(X=X)\n",
        "\n",
        "\n",
        "        self.theta = np.zeros(X.shape[1]);  # Initialise weights.\n",
        "        alpha=self.alpha;\n",
        "\n",
        "        cost = self.__cost(X, y, self.theta);  # Calculate the cost.\n",
        "        self.costHistory.append(cost);  # Record the intitial cost for plotting.\n",
        "\n",
        "\n",
        "        iterCount=0;\n",
        "\n",
        "        while not self.hasConverged:\n",
        "            # Perform the optimisation many times to reduce the cost by improving the parameters.\n",
        "            iterCount+=1;                       # Counter for the number of optimisation iterations.\n",
        "\n",
        "            # Depending on the optimisation approach. Calculate the coeffient update step differently.\n",
        "            if self.optimisation==\"gradientAscent\":\n",
        "                theta = LogisticRegression.gradientAscent(X,y,self.theta,self.alpha)\n",
        "                iterDisplayVerbose = 1000;\n",
        "            elif self.optimisation==\"newton\":\n",
        "                theta = LogisticRegression.newton(X, y, self.theta)\n",
        "                iterDisplayVerbose = 1;             # The number of iteration steps is significantly less than Gradient Ascent.\n",
        "            elif self.optimisation==\"gradientAscent2\":\n",
        "                theta = LogisticRegression.gradientAscent2(X,y,self.theta,self.alpha)\n",
        "                iterDisplayVerbose = 1000;\n",
        "            else:\n",
        "                assert \"unknown optimisation routine.\"\n",
        "                return;\n",
        "\n",
        "            cost = self.__cost(X,y, theta);     # Calculate the cost.\n",
        "\n",
        "\n",
        "            if iterCount>1:\n",
        "            # Only check to terminate optimisation after performing the second optimisation calculation.\n",
        "                hasConverged = self.__checkConvergence(self.costHistory[-1], cost, self.tolerance,iterCount);  # Check if should terminate iteration updates as convergence tolerance has been reached.\n",
        "\n",
        "                if hasConverged.hasConverged==True:\n",
        "                    print(\"Iteration #:  {:>7,.0f}.  Cost: {:>+7.4f}.\".format(iterCount, cost));\n",
        "                    print(\"Finished because {}. Using {} optimisation method.\".format(hasConverged.reason, self.optimisation));\n",
        "                    self.numIterations = iterCount;\n",
        "                    self.hasConverged == True;\n",
        "\n",
        "                if (self.verbose == True and iterCount % iterDisplayVerbose == 0) and  hasConverged.hasConverged==False:\n",
        "                    # Print out the log output.\n",
        "                    print(\"Iteration #:  {:>7,.0f}.  Cost: {:>+7.4f}\".format(iterCount, cost));\n",
        "\n",
        "\n",
        "            if iterCount < 2:\n",
        "\n",
        "                if (self.verbose == True and iterCount % iterDisplayVerbose == 0):\n",
        "                    # Print out the log output.\n",
        "                    print(\"Iteration #:  {:>7,.0f}.  Cost: {:>+7.4f}\".format(iterCount, cost));\n",
        "\n",
        "                self.theta = theta;\n",
        "                self.costHistory.append(cost);  # Record the cost for plotting.\n",
        "            else:\n",
        "                if not (((self.optimisation == \"newton\") and (cost > self.costHistory[-1])) or (np.isnan(cost))) or iterCount<1:\n",
        "                    # The Newton method on the last step can give coefficients well off and a worse cost as close to the singularity.\n",
        "                    # Because of this. Not recording the last theta and cost found in this case and using the previous one.\n",
        "                    self.theta = theta;\n",
        "                    self.costHistory.append(cost);  # Record the cost for plotting.\n",
        "\n",
        "\n",
        "    def __checkConvergence(self,previousCost, cost, tolerance, iterCount):\n",
        "        ''' Purpose: Checks if coefficients have converged.\n",
        "            Returns True if they have converged, False otherwise.'''\n",
        "        costChange = np.abs(previousCost - cost)\n",
        "\n",
        "        self.reason=\"\";\n",
        "        self.hasConverged=False;\n",
        "        if (np.any(costChange < tolerance)):\n",
        "            self.reason = \"cost function tolerance reached\";\n",
        "            self.hasConverged = True;\n",
        "\n",
        "        # If havn't reached thresholds, perform more iterations (keep training).\n",
        "        if (iterCount > self.maxIterations):\n",
        "            self.reason=\"maximum iterations reached\"\n",
        "            self.hasConverged = True;\n",
        "\n",
        "\n",
        "        if (self.optimisation == \"newton\"):\n",
        "            if (np.isnan(cost)):\n",
        "                # The Newton method on the last step can give coefficients well off and a worse cost as close to the singularity.\n",
        "                # Because of this. Not recording the last theta and cost found in this case and using the previous one.\n",
        "                self.reason=\"singular Hessian\"\n",
        "                self.hasConverged = True;\n",
        "            elif (cost > previousCost):\n",
        "                # The Newton method on the last step can give coefficients well off and a worse cost as close to the singularity.\n",
        "                # Because of this. Not recording the last theta and cost found in this case and using the previous one.\n",
        "                self.reason=\"cost function worsoning as close to solution\"\n",
        "                self.hasConverged = True;\n",
        "\n",
        "\n",
        "\n",
        "        return self\n",
        "\n",
        "\n",
        "    def predict_prob(X,theta,fitIntercept=True):\n",
        "        if fitIntercept:\n",
        "            X = LogisticRegression.__add_intercept(X=X)\n",
        "\n",
        "        return LogisticRegression.__sigmoid(np.dot(X, theta))\n",
        "\n",
        "    def predict(self, X):\n",
        "        #return LogisticRegression.predict_prob((X).round(),self.theta,self.fitIntercept)\n",
        "        prob = LogisticRegression.predict_prob((X).round(),self.theta,self.fitIntercept)\n",
        "        if (prob > 0.5):\n",
        "          return 1\n",
        "        return 0\n",
        "\n",
        "    def formattedOutput(objLogisticRegression):\n",
        "        \"\"\"\n",
        "        Purpose: To produce readable output summary of the results.\n",
        "            Input:\n",
        "                LogisticRegression  : A class instance containing the fitted information.\n",
        "        \"\"\"\n",
        "        optimisationMethod=objLogisticRegression.optimisation;\n",
        "        theta=objLogisticRegression.theta;\n",
        "        inititialCost=objLogisticRegression.costHistory[0];\n",
        "        finalCost=objLogisticRegression.costHistory[-1];\n",
        "        numIterations=objLogisticRegression.numIterations;\n",
        "\n",
        "\n",
        "        dash = '=' * 80; #chr(10000)*50\n",
        "        print(dash)\n",
        "        print(\"LOGISTIC REGRESSION USING {0} TERRMINATION RESULTS\".format(optimisationMethod.upper()))\n",
        "        print(dash)\n",
        "        print(\"Initial Weights were:    {:>12.1f}, {:>2.1f}, {:>2.1f}.\".format(0, 0, 0))\n",
        "        print(\"   With initial cost:    {:>+12.6f}.\".format(inititialCost))\n",
        "        print(\"        # Iterations:    {:>+12,.0f}.    \".format(numIterations))\n",
        "        print(\"       Final weights:    theta0:{:>+0.2f}, theta1:{:>+3.2f}, theta02:{:>+3.3f}.\".format(\n",
        "            theta[0], theta[1], theta[2]))#print(\"       Final weights:    \\u03F4\\u2080:{:>+0.2f}, \\u03F4\\u2081:{:>+3.2f}, \\u03F4\\u2082:{:>+3.3f}.\".format(theta[0], theta[1], theta[2]))\n",
        "        print(\"          Final cost:    {:>+12.6f}.\".format(finalCost))\n",
        "        print(dash)\n"
      ],
      "execution_count": 475,
      "outputs": []
    },
    {
      "cell_type": "code",
      "metadata": {
        "colab": {
          "base_uri": "https://localhost:8080/"
        },
        "id": "LBKdJI0CNLNT",
        "outputId": "1a4a1b93-be3d-43ea-cc9a-577bf627e4be"
      },
      "source": [
        "a = [1,0,1,0,0,3,2]\n",
        "b = a[a != 0]\n",
        "print(b)"
      ],
      "execution_count": 476,
      "outputs": [
        {
          "output_type": "stream",
          "name": "stdout",
          "text": [
            "0\n"
          ]
        }
      ]
    },
    {
      "cell_type": "code",
      "metadata": {
        "id": "1ZqJbEnDmnIr"
      },
      "source": [
        ""
      ],
      "execution_count": 476,
      "outputs": []
    },
    {
      "cell_type": "code",
      "metadata": {
        "id": "CMwLPu4JSQwQ",
        "colab": {
          "base_uri": "https://localhost:8080/"
        },
        "outputId": "8716c54a-d8af-49bf-dd36-96213324fb6a"
      },
      "source": [
        "tf_train.shape"
      ],
      "execution_count": 477,
      "outputs": [
        {
          "output_type": "execute_result",
          "data": {
            "text/plain": [
              "(858, 1770)"
            ]
          },
          "metadata": {},
          "execution_count": 477
        }
      ]
    },
    {
      "cell_type": "code",
      "metadata": {
        "id": "SZpEcvAmSTAN",
        "colab": {
          "base_uri": "https://localhost:8080/"
        },
        "outputId": "024c3551-6b86-490f-c69e-e5496985f8ef"
      },
      "source": [
        "tf_test.shape"
      ],
      "execution_count": 478,
      "outputs": [
        {
          "output_type": "execute_result",
          "data": {
            "text/plain": [
              "(215, 1770)"
            ]
          },
          "metadata": {},
          "execution_count": 478
        }
      ]
    },
    {
      "cell_type": "code",
      "metadata": {
        "id": "n0sHWET9SQ1b"
      },
      "source": [
        ""
      ],
      "execution_count": 478,
      "outputs": []
    },
    {
      "cell_type": "code",
      "metadata": {
        "id": "Xg48ld4vmnKv"
      },
      "source": [
        "tf_train = tf_train"
      ],
      "execution_count": 479,
      "outputs": []
    },
    {
      "cell_type": "code",
      "metadata": {
        "id": "vRiyLOKHmnl5",
        "colab": {
          "base_uri": "https://localhost:8080/"
        },
        "outputId": "12985872-b644-4613-9db3-54c8f498e4b1"
      },
      "source": [
        "corr_matrix = np.corrcoef(tf_train)\n",
        "sumas = sum(corr_matrix >= 0.5)\n",
        "indices = sumas > 1\n",
        "tf_train = tf_train[~indices]\n",
        "\n",
        "y_train = y_train[~indices]\n",
        "\n",
        "tf_train.shape, y_train.shape"
      ],
      "execution_count": 480,
      "outputs": [
        {
          "output_type": "execute_result",
          "data": {
            "text/plain": [
              "((365, 1770), (365,))"
            ]
          },
          "metadata": {},
          "execution_count": 480
        }
      ]
    },
    {
      "cell_type": "code",
      "metadata": {
        "id": "TWU0Uaa9I8G2"
      },
      "source": [
        "tf_train = tf_train"
      ],
      "execution_count": 481,
      "outputs": []
    },
    {
      "cell_type": "code",
      "metadata": {
        "id": "u-ESm6ZwI8JN",
        "colab": {
          "base_uri": "https://localhost:8080/"
        },
        "outputId": "e6bfcfb3-9fcd-4339-e0cd-b231b48ad820"
      },
      "source": [
        "tf_train.shape"
      ],
      "execution_count": 482,
      "outputs": [
        {
          "output_type": "execute_result",
          "data": {
            "text/plain": [
              "(365, 1770)"
            ]
          },
          "metadata": {},
          "execution_count": 482
        }
      ]
    },
    {
      "cell_type": "code",
      "metadata": {
        "id": "Dhmmn1WrSljK",
        "colab": {
          "base_uri": "https://localhost:8080/"
        },
        "outputId": "c6f8e671-aeaf-46d1-9f32-1a7a6c908626"
      },
      "source": [
        "tf_test.shape"
      ],
      "execution_count": 483,
      "outputs": [
        {
          "output_type": "execute_result",
          "data": {
            "text/plain": [
              "(215, 1770)"
            ]
          },
          "metadata": {},
          "execution_count": 483
        }
      ]
    },
    {
      "cell_type": "code",
      "metadata": {
        "id": "FZpNrztFmn1u"
      },
      "source": [
        ""
      ],
      "execution_count": 483,
      "outputs": []
    },
    {
      "cell_type": "code",
      "metadata": {
        "id": "TNw26hiOWVP4",
        "colab": {
          "base_uri": "https://localhost:8080/",
          "height": 137
        },
        "outputId": "b207630b-9533-476f-bea6-1abbd5c6dfbe"
      },
      "source": [
        "'''def run():\n",
        "\n",
        "    #\n",
        "    ## Load Data:\n",
        "    #iris = datasets.load_iris()\n",
        "    #X = iris.data[:, :2]\n",
        "    #y = (iris.target != 0) * 1\n",
        "    #\n",
        "\n",
        "    X = tf_train\n",
        "    y = y_train\n",
        "\n",
        "\n",
        "    # Run the model:\n",
        "    objLogisticRegression = LogisticRegression(alpha=0.1, maxIterations=10,fitIntercept=True, verbose=True,optimisation=\"newton\");   # Initialise the regression.\n",
        "    objLogisticRegression.fit(X, y);                                 # Fit the regression.\n",
        "\n",
        "    # Show the output:\n",
        "    LogisticRegression.formattedOutput(objLogisticRegression=objLogisticRegression);        # Show the formatted results.\n",
        "\n",
        "\n",
        "    #\n",
        "    # Run the model:\n",
        "    #objLogisticRegression = LogisticRegression(alpha=0.1, maxIterations=100000,fitIntercept=True, verbose=True,optimisation=\"gradientAscent\");   # Initialise the regression.\n",
        "    #objLogisticRegression.fit(X, y);                                 # Fit the regression.\n",
        "\n",
        "    # Show the output:\n",
        "    #LogisticRegression.formattedOutput(objLogisticRegression=objLogisticRegression);        # Show the formatted results.\n",
        "    #\n",
        "\n",
        "    # sklearn's Logistic Regression.\n",
        "    model = sklearnLogisticRegression(C=1e8).fit(X, y)\n",
        "    dash = '=' * 80;  # '=' * 80;\n",
        "    print(dash)\n",
        "    print(\"LOGISTIC REGRESSION USING SKLEARN TERMINATION RESULTS\")\n",
        "    print(\"Final weights:    theta0:{:>+0.2f}, theta1:{:>+0.2f}, theta2:{:>+0.2f}.\".format(model.intercept_[0], model.coef_[0][0], model.coef_[0][1]))\n",
        "    print(dash)\n",
        "\n",
        "\n",
        "\n",
        "    print(\"Finished\")\n",
        "\n",
        "\n",
        "\n",
        "\n",
        "\n",
        "if __name__ == '__main__':\n",
        "    run()'''"
      ],
      "execution_count": 484,
      "outputs": [
        {
          "output_type": "execute_result",
          "data": {
            "application/vnd.google.colaboratory.intrinsic+json": {
              "type": "string"
            },
            "text/plain": [
              "'def run():\\n\\n    #\\n    ## Load Data:\\n    #iris = datasets.load_iris()\\n    #X = iris.data[:, :2]\\n    #y = (iris.target != 0) * 1\\n    #\\n\\n    X = tf_train\\n    y = y_train\\n\\n\\n    # Run the model:\\n    objLogisticRegression = LogisticRegression(alpha=0.1, maxIterations=10,fitIntercept=True, verbose=True,optimisation=\"newton\");   # Initialise the regression.\\n    objLogisticRegression.fit(X, y);                                 # Fit the regression.\\n\\n    # Show the output:\\n    LogisticRegression.formattedOutput(objLogisticRegression=objLogisticRegression);        # Show the formatted results.\\n\\n\\n    #\\n    # Run the model:\\n    #objLogisticRegression = LogisticRegression(alpha=0.1, maxIterations=100000,fitIntercept=True, verbose=True,optimisation=\"gradientAscent\");   # Initialise the regression.\\n    #objLogisticRegression.fit(X, y);                                 # Fit the regression.\\n\\n    # Show the output:\\n    #LogisticRegression.formattedOutput(objLogisticRegression=objLogisticRegression);        # Show the formatted results.\\n    #\\n\\n    # sklearn\\'s Logistic Regression.\\n    model = sklearnLogisticRegression(C=1e8).fit(X, y)\\n    dash = \\'=\\' * 80;  # \\'=\\' * 80;\\n    print(dash)\\n    print(\"LOGISTIC REGRESSION USING SKLEARN TERMINATION RESULTS\")\\n    print(\"Final weights:    theta0:{:>+0.2f}, theta1:{:>+0.2f}, theta2:{:>+0.2f}.\".format(model.intercept_[0], model.coef_[0][0], model.coef_[0][1]))\\n    print(dash)\\n\\n\\n\\n    print(\"Finished\")\\n\\n\\n\\n\\n\\nif __name__ == \\'__main__\\':\\n    run()'"
            ]
          },
          "metadata": {},
          "execution_count": 484
        }
      ]
    },
    {
      "cell_type": "code",
      "metadata": {
        "id": "EAcE0Y2al_vd"
      },
      "source": [
        ""
      ],
      "execution_count": 484,
      "outputs": []
    },
    {
      "cell_type": "code",
      "metadata": {
        "id": "X6S9hQAXlqMu",
        "colab": {
          "base_uri": "https://localhost:8080/",
          "height": 1000
        },
        "outputId": "0cc94bd1-02ea-4b8b-9378-8678da9f4110"
      },
      "source": [
        "import matplotlib.pyplot as plt\n",
        "\n",
        "X = tf_train\n",
        "y = y_train\n",
        "\n",
        "print(X)\n",
        "print(y)\n",
        "# cc = np.cov(X)\n",
        "\n",
        "# print('Matriz de covarianzas inicial\\n', cc)\n",
        "\n",
        "# Run the model:\n",
        "objLogisticRegression = LogisticRegression(alpha=0.1, maxIterations=3,fitIntercept=False, verbose=True,optimisation=\"newton\");   # Initialise the regression.\n",
        "objLogisticRegression.fit(X, y);                                 # Fit the regression.\n",
        "\n",
        "thet = objLogisticRegression.theta\n",
        "\n",
        "toPx = np.dot(X, thet)\n",
        "\n",
        "zf = 1 / (1 + np.exp(-toPx))\n",
        "\n",
        "# print(toPx)\n",
        "# print(zf)\n",
        "# print(toPx.shape)\n",
        "# print(zf.shape)\n",
        "conc = [toPx.T, zf.T]\n",
        "# print(conc)\n",
        "conc = np.sort(conc)\n",
        "ss1 = conc[0,:]\n",
        "ss2 = conc[1,:]\n",
        "\n",
        "plt.plot(toPx,y, 'o')\n",
        "plt.plot(ss1, ss2)\n",
        "plt.legend(['Valor esperado','Curva logística'])\n",
        "plt.title(\"Regresión logística Newton-Raphson\")\n",
        "\n",
        "# Show the output:\n",
        "LogisticRegression.formattedOutput(objLogisticRegression=objLogisticRegression);        # Show the formatted results."
      ],
      "execution_count": 485,
      "outputs": [
        {
          "output_type": "stream",
          "name": "stdout",
          "text": [
            "[[0 0 0 ... 0 0 0]\n",
            " [0 0 0 ... 0 0 0]\n",
            " [0 1 0 ... 0 0 0]\n",
            " ...\n",
            " [0 0 0 ... 0 0 0]\n",
            " [0 0 0 ... 0 0 0]\n",
            " [0 0 0 ... 0 0 0]]\n",
            "25      0\n",
            "528     1\n",
            "127     1\n",
            "1057    0\n",
            "409     1\n",
            "       ..\n",
            "596     0\n",
            "849     1\n",
            "1067    1\n",
            "752     0\n",
            "665     0\n",
            "Name: pol_cat, Length: 365, dtype: int64\n",
            "1770\n",
            "(0.0026081351580566994+0j)\n",
            "(1770, 1770)\n",
            "[[ 3.83415713e+02  0.00000000e+00  0.00000000e+00 ...  0.00000000e+00\n",
            "   0.00000000e+00  0.00000000e+00]\n",
            " [ 0.00000000e+00  2.86686584e+02  1.05608583e+01 ...  4.83077721e+00\n",
            "   0.00000000e+00  0.00000000e+00]\n",
            " [ 0.00000000e+00  1.05608583e+01  2.48992866e+02 ... -1.86625061e-01\n",
            "   0.00000000e+00  0.00000000e+00]\n",
            " ...\n",
            " [ 0.00000000e+00  4.83077721e+00 -1.86625061e-01 ...  3.20717305e+02\n",
            "   0.00000000e+00  0.00000000e+00]\n",
            " [ 0.00000000e+00  0.00000000e+00  0.00000000e+00 ...  0.00000000e+00\n",
            "   3.83415713e+02  0.00000000e+00]\n",
            " [ 0.00000000e+00  0.00000000e+00  0.00000000e+00 ...  0.00000000e+00\n",
            "   0.00000000e+00  3.83415713e+02]]\n",
            "[ 0.         -0.40003067  0.63183527 ...  0.00396155  0.\n",
            "  0.        ]\n",
            "Iteration #:        1.  Cost: +0.1276\n",
            "1770\n",
            "(0.0062097416540632675+0j)\n",
            "(1770, 1770)\n",
            "[[ 1.61037295e+02  0.00000000e+00  0.00000000e+00 ...  0.00000000e+00\n",
            "   0.00000000e+00  0.00000000e+00]\n",
            " [ 0.00000000e+00  1.21119193e+02  4.37754812e+00 ...  1.99368578e+00\n",
            "   0.00000000e+00  0.00000000e+00]\n",
            " [ 0.00000000e+00  4.37754812e+00  1.05959249e+02 ... -7.01941724e-02\n",
            "   0.00000000e+00  0.00000000e+00]\n",
            " ...\n",
            " [ 0.00000000e+00  1.99368578e+00 -7.01941724e-02 ...  1.35005492e+02\n",
            "   0.00000000e+00  0.00000000e+00]\n",
            " [ 0.00000000e+00  0.00000000e+00  0.00000000e+00 ...  0.00000000e+00\n",
            "   1.61037295e+02  0.00000000e+00]\n",
            " [ 0.00000000e+00  0.00000000e+00  0.00000000e+00 ...  0.00000000e+00\n",
            "   0.00000000e+00  1.61037295e+02]]\n",
            "[ 0.         -0.61879663  0.98468021 ...  0.0016118   0.\n",
            "  0.        ]\n",
            "Iteration #:        2.  Cost: +0.0435\n",
            "1770\n",
            "(0.01632139675390732+0j)\n",
            "(1770, 1770)\n",
            "[[ 6.12692660e+01  0.00000000e+00  0.00000000e+00 ...  0.00000000e+00\n",
            "   0.00000000e+00  0.00000000e+00]\n",
            " [ 0.00000000e+00  4.76615485e+01  1.49790121e+00 ...  6.81657893e-01\n",
            "   0.00000000e+00  0.00000000e+00]\n",
            " [ 0.00000000e+00  1.49790121e+00  4.31629826e+01 ... -2.15094113e-02\n",
            "   0.00000000e+00  0.00000000e+00]\n",
            " ...\n",
            " [ 0.00000000e+00  6.81657893e-01 -2.15094113e-02 ...  5.20709509e+01\n",
            "   0.00000000e+00  0.00000000e+00]\n",
            " [ 0.00000000e+00  0.00000000e+00  0.00000000e+00 ...  0.00000000e+00\n",
            "   6.12692660e+01  0.00000000e+00]\n",
            " [ 0.00000000e+00  0.00000000e+00  0.00000000e+00 ...  0.00000000e+00\n",
            "   0.00000000e+00  6.12692660e+01]]\n",
            "[ 0.         -0.78179634  1.29226675 ... -0.01575422  0.\n",
            "  0.        ]\n",
            "Iteration #:        3.  Cost: +0.0171\n",
            "1770\n",
            "(0.043832278614780944+0j)\n",
            "(1770, 1770)\n",
            "[[ 2.28142372e+01  0.00000000e+00  0.00000000e+00 ...  0.00000000e+00\n",
            "   0.00000000e+00  0.00000000e+00]\n",
            " [ 0.00000000e+00  1.96201063e+01  3.01117361e-01 ...  1.53900655e-01\n",
            "   0.00000000e+00  0.00000000e+00]\n",
            " [ 0.00000000e+00  3.01117361e-01  1.89270167e+01 ... -5.72159141e-03\n",
            "   0.00000000e+00  0.00000000e+00]\n",
            " ...\n",
            " [ 0.00000000e+00  1.53900655e-01 -5.72159141e-03 ...  2.04196050e+01\n",
            "   0.00000000e+00  0.00000000e+00]\n",
            " [ 0.00000000e+00  0.00000000e+00  0.00000000e+00 ...  0.00000000e+00\n",
            "   2.28142372e+01  0.00000000e+00]\n",
            " [ 0.00000000e+00  0.00000000e+00  0.00000000e+00 ...  0.00000000e+00\n",
            "   0.00000000e+00  2.28142372e+01]]\n",
            "[ 0.         -0.87614127  1.49640591 ... -0.05058879  0.\n",
            "  0.        ]\n",
            "Iteration #:        4.  Cost: +0.0089.\n",
            "Finished because maximum iterations reached. Using newton optimisation method.\n",
            "================================================================================\n",
            "LOGISTIC REGRESSION USING NEWTON TERRMINATION RESULTS\n",
            "================================================================================\n",
            "Initial Weights were:             0.0, 0.0, 0.0.\n",
            "   With initial cost:       +0.693147.\n",
            "        # Iterations:              +4.    \n",
            "       Final weights:    theta0:+0.00, theta1:-0.88, theta02:+1.496.\n",
            "          Final cost:       +0.008895.\n",
            "================================================================================\n"
          ]
        },
        {
          "output_type": "display_data",
          "data": {
            "image/png": "[encoded data removed]",
            "text/plain": [
              "<Figure size 432x288 with 1 Axes>"
            ]
          },
          "metadata": {
            "needs_background": "light"
          }
        }
      ]
    },
    {
      "cell_type": "code",
      "metadata": {
        "id": "f32eSgJdPQqo"
      },
      "source": [
        "#corr_matrix = np.corrcoef(tf_test)\n",
        "#sumas = sum(corr_matrix >= 0.5)\n",
        "#indices = sumas > 1\n",
        "#tf_test = tf_test[~indices]\n",
        "\n",
        "#y_test = y_ttest[~indices]\n",
        "\n",
        "#tf_test.shape, y_test.shape"
      ],
      "execution_count": 486,
      "outputs": []
    },
    {
      "cell_type": "code",
      "metadata": {
        "id": "rFsP_V07R03p",
        "colab": {
          "base_uri": "https://localhost:8080/"
        },
        "outputId": "053a557f-d9cc-406a-8cc1-1cc12412a30c"
      },
      "source": [
        "tf_test.shape"
      ],
      "execution_count": 487,
      "outputs": [
        {
          "output_type": "execute_result",
          "data": {
            "text/plain": [
              "(215, 1770)"
            ]
          },
          "metadata": {},
          "execution_count": 487
        }
      ]
    },
    {
      "cell_type": "code",
      "metadata": {
        "id": "xfajBx8bSC0x",
        "colab": {
          "base_uri": "https://localhost:8080/"
        },
        "outputId": "f697161f-f4b3-4c32-9639-d0f0903389b6"
      },
      "source": [
        "tf_train.shape"
      ],
      "execution_count": 488,
      "outputs": [
        {
          "output_type": "execute_result",
          "data": {
            "text/plain": [
              "(365, 1770)"
            ]
          },
          "metadata": {},
          "execution_count": 488
        }
      ]
    },
    {
      "cell_type": "code",
      "metadata": {
        "id": "8c7CKz7miWbX"
      },
      "source": [
        "from mlxtend.plotting import plot_confusion_matrix\n",
        "import matplotlib.pyplot as plt\n",
        "import numpy as np\n",
        "\n",
        "from sklearn import metrics"
      ],
      "execution_count": 489,
      "outputs": []
    },
    {
      "cell_type": "code",
      "metadata": {
        "id": "CghAhytpjnIS",
        "colab": {
          "base_uri": "https://localhost:8080/"
        },
        "outputId": "ac58405e-bf69-4004-840d-19c22fe4da6e"
      },
      "source": [
        "correctos = 0\n",
        "\n",
        "y_train = list(y_train)\n",
        "\n",
        "predicciones = []\n",
        "for i in range(len(tf_train)):\n",
        "  prediccion = objLogisticRegression.predict(tf_train[i])\n",
        "  #print(prediccion)\n",
        "  if (prediccion == y_train[i]):\n",
        "    correctos += 1\n",
        "\n",
        "  predicciones.append(prediccion)\n",
        "print(f'Accuraccy: {correctos/len(tf_train)}')"
      ],
      "execution_count": 490,
      "outputs": [
        {
          "output_type": "stream",
          "name": "stdout",
          "text": [
            "Accuraccy: 1.0\n"
          ]
        }
      ]
    },
    {
      "cell_type": "code",
      "metadata": {
        "colab": {
          "base_uri": "https://localhost:8080/",
          "height": 340
        },
        "id": "TOMj4Njaicdd",
        "outputId": "6be0ecdb-327b-434d-9bfd-40d082cba52e"
      },
      "source": [
        "cf = metrics.confusion_matrix(y_train,predicciones,labels = [1,0])\n",
        "print(cf)\n",
        "## this command is only for google collab \n",
        "## in the below figure \" 1 is actually showing -1 and 0 is actually showing 1\"\n",
        "fig, ax = plot_confusion_matrix(conf_mat = cf)\n",
        "                                \n",
        "## It canbe used in any platform\n",
        "# fig, ax = plot_confusion_matrix(conf_mat = cf, class_names = [1,-1])\n",
        "plt.title(\"Train\")\n",
        "plt.show()"
      ],
      "execution_count": 491,
      "outputs": [
        {
          "output_type": "stream",
          "name": "stdout",
          "text": [
            "[[169   0]\n",
            " [  0 196]]\n"
          ]
        },
        {
          "output_type": "display_data",
          "data": {
            "image/png": "[encoded data removed]",
            "text/plain": [
              "<Figure size 432x288 with 1 Axes>"
            ]
          },
          "metadata": {
            "needs_background": "light"
          }
        }
      ]
    },
    {
      "cell_type": "code",
      "metadata": {
        "id": "tK3eyI-5NlRw",
        "colab": {
          "base_uri": "https://localhost:8080/"
        },
        "outputId": "b9ff29ca-d8f3-4108-df64-1f5ca4d204a7"
      },
      "source": [
        "correctos = 0\n",
        "\n",
        "y_test = list(y_test)\n",
        "\n",
        "predicciones_test = []\n",
        "for i in range(len(tf_test)):\n",
        "  prediccion = objLogisticRegression.predict(tf_test[i])\n",
        "  #print(prediccion)\n",
        "  if (prediccion == y_test[i]):\n",
        "    correctos += 1\n",
        "\n",
        "  predicciones_test.append(prediccion)\n",
        "print(f'Accuraccy: {correctos/len(tf_test)}')"
      ],
      "execution_count": 492,
      "outputs": [
        {
          "output_type": "stream",
          "name": "stdout",
          "text": [
            "Accuraccy: 0.6744186046511628\n"
          ]
        }
      ]
    },
    {
      "cell_type": "code",
      "metadata": {
        "colab": {
          "base_uri": "https://localhost:8080/",
          "height": 340
        },
        "id": "wkuPwRawig_m",
        "outputId": "fe2be485-fd82-4681-bdb9-a3359dec14b0"
      },
      "source": [
        "cf = metrics.confusion_matrix(y_test,predicciones_test,labels = [1,0])\n",
        "print(cf)\n",
        "## this command is only for google collab \n",
        "## in the below figure \" 1 is actually showing -1 and 0 is actually showing 1\"\n",
        "fig, ax = plot_confusion_matrix(conf_mat = cf)\n",
        "                                \n",
        "## It canbe used in any platform\n",
        "# fig, ax = plot_confusion_matrix(conf_mat = cf, class_names = [1,-1])\n",
        "plt.title(\"Test\")\n",
        "plt.show()"
      ],
      "execution_count": 493,
      "outputs": [
        {
          "output_type": "stream",
          "name": "stdout",
          "text": [
            "[[73 30]\n",
            " [40 72]]\n"
          ]
        },
        {
          "output_type": "display_data",
          "data": {
            "image/png": "[encoded data removed]",
            "text/plain": [
              "<Figure size 432x288 with 1 Axes>"
            ]
          },
          "metadata": {
            "needs_background": "light"
          }
        }
      ]
    },
    {
      "cell_type": "code",
      "metadata": {
        "id": "TF6F8ExRikdK"
      },
      "source": [
        ""
      ],
      "execution_count": 493,
      "outputs": []
    },
    {
      "cell_type": "code",
      "metadata": {
        "colab": {
          "base_uri": "https://localhost:8080/",
          "height": 519
        },
        "id": "eVYlxrwVmbbC",
        "outputId": "537d6414-3e17-4bd5-a66f-b2ca5ab43669"
      },
      "source": [
        "# Run the model:\n",
        "objLogisticRegression1 = LogisticRegression(alpha=0.1, maxIterations=3000,fitIntercept=False, verbose=True,optimisation=\"gradientAscent\");   # Initialise the regression.\n",
        "objLogisticRegression1.fit(X, y);                                 # Fit the regression.\n",
        "\n",
        "thet = objLogisticRegression1.theta\n",
        "\n",
        "toPx = np.dot(X, thet)\n",
        "\n",
        "zf = 1 / (1 + np.exp(-toPx))\n",
        "\n",
        "# print(toPx)\n",
        "# print(zf)\n",
        "# print(toPx.shape)\n",
        "# print(zf.shape)\n",
        "conc = [toPx.T, zf.T]\n",
        "# print(conc)\n",
        "conc = np.sort(conc)\n",
        "ss1 = conc[0,:]\n",
        "ss2 = conc[1,:]\n",
        "\n",
        "plt.plot(toPx,y, 'o')\n",
        "plt.plot(ss1, ss2)\n",
        "plt.legend(['Valor esperado','Curva logística'])\n",
        "plt.title(\"Regresión logística Descenso del gradiente\")\n",
        "\n",
        "# Show the output:\n",
        "LogisticRegression.formattedOutput(objLogisticRegression=objLogisticRegression1);        # Show the formatted results."
      ],
      "execution_count": 494,
      "outputs": [
        {
          "output_type": "stream",
          "name": "stdout",
          "text": [
            "Iteration #:    1,000.  Cost: +0.3552\n",
            "Iteration #:    2,000.  Cost: +0.2583\n",
            "Iteration #:    3,000.  Cost: +0.2050\n",
            "Iteration #:    3,001.  Cost: +0.2050.\n",
            "Finished because maximum iterations reached. Using gradientAscent optimisation method.\n",
            "================================================================================\n",
            "LOGISTIC REGRESSION USING GRADIENTASCENT TERRMINATION RESULTS\n",
            "================================================================================\n",
            "Initial Weights were:             0.0, 0.0, 0.0.\n",
            "   With initial cost:       +0.693147.\n",
            "        # Iterations:          +3,001.    \n",
            "       Final weights:    theta0:+0.00, theta1:-0.18, theta02:+0.356.\n",
            "          Final cost:       +0.204978.\n",
            "================================================================================\n"
          ]
        },
        {
          "output_type": "display_data",
          "data": {
            "image/png": "[encoded data removed]",
            "text/plain": [
              "<Figure size 432x288 with 1 Axes>"
            ]
          },
          "metadata": {
            "needs_background": "light"
          }
        }
      ]
    },
    {
      "cell_type": "code",
      "metadata": {
        "colab": {
          "base_uri": "https://localhost:8080/"
        },
        "id": "9dYnqpzLmbdO",
        "outputId": "47ec15c5-0547-4be3-99dc-1949e9a09d3d"
      },
      "source": [
        "correctos = 0\n",
        "\n",
        "y_train = list(y_train)\n",
        "\n",
        "predicciones = []\n",
        "for i in range(len(tf_train)):\n",
        "  prediccion = objLogisticRegression1.predict(tf_train[i])\n",
        "  #print(prediccion)\n",
        "  if (prediccion == y_train[i]):\n",
        "    correctos += 1\n",
        "\n",
        "  predicciones.append(prediccion)\n",
        "print(f'Accuraccy: {correctos/len(tf_train)}')"
      ],
      "execution_count": 495,
      "outputs": [
        {
          "output_type": "stream",
          "name": "stdout",
          "text": [
            "Accuraccy: 0.989041095890411\n"
          ]
        }
      ]
    },
    {
      "cell_type": "code",
      "metadata": {
        "colab": {
          "base_uri": "https://localhost:8080/",
          "height": 340
        },
        "id": "yN1GNHQ2imiN",
        "outputId": "e0822c50-2359-40da-a303-0ed7f0135e06"
      },
      "source": [
        "cf = metrics.confusion_matrix(y_train,predicciones,labels = [1,0])\n",
        "print(cf)\n",
        "## this command is only for google collab \n",
        "## in the below figure \" 1 is actually showing -1 and 0 is actually showing 1\"\n",
        "fig, ax = plot_confusion_matrix(conf_mat = cf)\n",
        "                                \n",
        "## It canbe used in any platform\n",
        "# fig, ax = plot_confusion_matrix(conf_mat = cf, class_names = [1,-1])\n",
        "plt.title(\"Train\")\n",
        "plt.show()"
      ],
      "execution_count": 496,
      "outputs": [
        {
          "output_type": "stream",
          "name": "stdout",
          "text": [
            "[[169   0]\n",
            " [  4 192]]\n"
          ]
        },
        {
          "output_type": "display_data",
          "data": {
            "image/png": "[encoded data removed]",
            "text/plain": [
              "<Figure size 432x288 with 1 Axes>"
            ]
          },
          "metadata": {
            "needs_background": "light"
          }
        }
      ]
    },
    {
      "cell_type": "code",
      "metadata": {
        "colab": {
          "base_uri": "https://localhost:8080/"
        },
        "id": "ghQSOeIqmbfH",
        "outputId": "0fdd83dc-bc82-4cf8-cb10-46b83ef6c89f"
      },
      "source": [
        "correctos = 0\n",
        "\n",
        "y_test = list(y_test)\n",
        "\n",
        "predicciones_test = []\n",
        "for i in range(len(tf_test)):\n",
        "  prediccion = objLogisticRegression1.predict(tf_test[i])\n",
        "  #print(prediccion)\n",
        "  if (prediccion == y_test[i]):\n",
        "    correctos += 1\n",
        "\n",
        "  predicciones_test.append(prediccion)\n",
        "print(f'Accuraccy: {correctos/len(tf_test)}')"
      ],
      "execution_count": 497,
      "outputs": [
        {
          "output_type": "stream",
          "name": "stdout",
          "text": [
            "Accuraccy: 0.7674418604651163\n"
          ]
        }
      ]
    },
    {
      "cell_type": "code",
      "metadata": {
        "colab": {
          "base_uri": "https://localhost:8080/",
          "height": 340
        },
        "id": "aL_4u0k8isK8",
        "outputId": "93d7a60f-0667-4583-e6a7-b69743718976"
      },
      "source": [
        "cf = metrics.confusion_matrix(y_test,predicciones_test,labels = [1,0])\n",
        "print(cf)\n",
        "## this command is only for google collab \n",
        "## in the below figure \" 1 is actually showing -1 and 0 is actually showing 1\"\n",
        "fig, ax = plot_confusion_matrix(conf_mat = cf)\n",
        "                                \n",
        "## It canbe used in any platform\n",
        "# fig, ax = plot_confusion_matrix(conf_mat = cf, class_names = [1,-1])\n",
        "plt.title(\"Test\")\n",
        "plt.show()"
      ],
      "execution_count": 498,
      "outputs": [
        {
          "output_type": "stream",
          "name": "stdout",
          "text": [
            "[[80 23]\n",
            " [27 85]]\n"
          ]
        },
        {
          "output_type": "display_data",
          "data": {
            "image/png": "[encoded data removed]",
            "text/plain": [
              "<Figure size 432x288 with 1 Axes>"
            ]
          },
          "metadata": {
            "needs_background": "light"
          }
        }
      ]
    },
    {
      "cell_type": "code",
      "metadata": {
        "id": "KySCOjfdeLQY"
      },
      "source": [
        ""
      ],
      "execution_count": 498,
      "outputs": []
    },
    {
      "cell_type": "code",
      "metadata": {
        "colab": {
          "base_uri": "https://localhost:8080/",
          "height": 536
        },
        "id": "JZ6BQuCDJPl1",
        "outputId": "a207526b-9343-4323-ff02-67cfe7ca8219"
      },
      "source": [
        "# Run the model:\n",
        "objLogisticRegression2 = LogisticRegression(alpha=0.1, maxIterations=3000,fitIntercept=False, verbose=True,optimisation=\"gradientAscent2\");   # Initialise the regression.\n",
        "objLogisticRegression2.fit(X, y);                                 # Fit the regression.\n",
        "\n",
        "thet = objLogisticRegression2.theta\n",
        "\n",
        "toPx = np.dot(X, thet)\n",
        "\n",
        "zf = 1 / (1 + np.exp(-toPx))\n",
        "\n",
        "# print(toPx)\n",
        "# print(zf)\n",
        "# print(toPx.shape)\n",
        "# print(zf.shape)\n",
        "conc = [toPx.T, zf.T]\n",
        "# print(conc)\n",
        "conc = np.sort(conc)\n",
        "ss1 = conc[0,:]\n",
        "ss2 = conc[1,:]\n",
        "\n",
        "plt.plot(toPx,y, 'o')\n",
        "plt.plot(ss1, ss2)\n",
        "plt.legend(['Valor esperado','Curva logística'])\n",
        "plt.title(\"Regresión logística Descenso del gradiente modificado\")\n",
        "\n",
        "# Show the output:\n",
        "LogisticRegression.formattedOutput(objLogisticRegression=objLogisticRegression2);        # Show the formatted results."
      ],
      "execution_count": 499,
      "outputs": [
        {
          "output_type": "stream",
          "name": "stderr",
          "text": [
            "/usr/local/lib/python3.7/dist-packages/ipykernel_launcher.py:43: RuntimeWarning: divide by zero encountered in log\n"
          ]
        },
        {
          "output_type": "stream",
          "name": "stdout",
          "text": [
            "Iteration #:    1,000.  Cost: +0.0554\n",
            "Iteration #:    2,000.  Cost: +0.0395\n",
            "Iteration #:    3,000.  Cost: +0.0324\n",
            "Iteration #:    3,001.  Cost: +0.0324.\n",
            "Finished because maximum iterations reached. Using gradientAscent2 optimisation method.\n",
            "================================================================================\n",
            "LOGISTIC REGRESSION USING GRADIENTASCENT2 TERRMINATION RESULTS\n",
            "================================================================================\n",
            "Initial Weights were:             0.0, 0.0, 0.0.\n",
            "   With initial cost:       +0.693147.\n",
            "        # Iterations:          +3,001.    \n",
            "       Final weights:    theta0:+0.00, theta1:-0.42, theta02:+1.149.\n",
            "          Final cost:       +0.032433.\n",
            "================================================================================\n"
          ]
        },
        {
          "output_type": "display_data",
          "data": {
            "image/png": "[encoded data removed]",
            "text/plain": [
              "<Figure size 432x288 with 1 Axes>"
            ]
          },
          "metadata": {
            "needs_background": "light"
          }
        }
      ]
    },
    {
      "cell_type": "code",
      "metadata": {
        "colab": {
          "base_uri": "https://localhost:8080/"
        },
        "id": "uFpHsjOeJd2s",
        "outputId": "734ce4b9-678f-4804-ec91-01473cbbaa4e"
      },
      "source": [
        "correctos = 0\n",
        "\n",
        "y_train = list(y_train)\n",
        "\n",
        "predicciones = []\n",
        "for i in range(len(tf_train)):\n",
        "  prediccion = objLogisticRegression2.predict(tf_train[i])\n",
        "  #print(prediccion)\n",
        "  if (prediccion == y_train[i]):\n",
        "    correctos += 1\n",
        "\n",
        "  predicciones.append(prediccion)\n",
        "print(f'Accuraccy: {correctos/len(tf_train)}')"
      ],
      "execution_count": 500,
      "outputs": [
        {
          "output_type": "stream",
          "name": "stdout",
          "text": [
            "Accuraccy: 1.0\n"
          ]
        }
      ]
    },
    {
      "cell_type": "code",
      "metadata": {
        "colab": {
          "base_uri": "https://localhost:8080/",
          "height": 340
        },
        "id": "EJ_9LPYnJqdU",
        "outputId": "868663d4-3486-4680-f145-04aca8dc129a"
      },
      "source": [
        "cf = metrics.confusion_matrix(y_train,predicciones,labels = [1,0])\n",
        "print(cf)\n",
        "## this command is only for google collab \n",
        "## in the below figure \" 1 is actually showing -1 and 0 is actually showing 1\"\n",
        "fig, ax = plot_confusion_matrix(conf_mat = cf)\n",
        "                                \n",
        "## It canbe used in any platform\n",
        "# fig, ax = plot_confusion_matrix(conf_mat = cf, class_names = [1,-1])\n",
        "plt.title(\"Train\")\n",
        "plt.show()"
      ],
      "execution_count": 501,
      "outputs": [
        {
          "output_type": "stream",
          "name": "stdout",
          "text": [
            "[[169   0]\n",
            " [  0 196]]\n"
          ]
        },
        {
          "output_type": "display_data",
          "data": {
            "image/png": "[encoded data removed]",
            "text/plain": [
              "<Figure size 432x288 with 1 Axes>"
            ]
          },
          "metadata": {
            "needs_background": "light"
          }
        }
      ]
    },
    {
      "cell_type": "code",
      "metadata": {
        "colab": {
          "base_uri": "https://localhost:8080/"
        },
        "id": "ezwW4Xqai2dU",
        "outputId": "d571902c-6555-490b-d87a-19239c8844c6"
      },
      "source": [
        "correctos = 0\n",
        "\n",
        "y_test = list(y_test)\n",
        "\n",
        "predicciones_test = []\n",
        "for i in range(len(tf_test)):\n",
        "  prediccion = objLogisticRegression2.predict(tf_test[i])\n",
        "  #print(prediccion)\n",
        "  if (prediccion == y_test[i]):\n",
        "    correctos += 1\n",
        "\n",
        "  predicciones_test.append(prediccion)\n",
        "print(f'Accuraccy: {correctos/len(tf_test)}')"
      ],
      "execution_count": 502,
      "outputs": [
        {
          "output_type": "stream",
          "name": "stdout",
          "text": [
            "Accuraccy: 0.7581395348837209\n"
          ]
        }
      ]
    },
    {
      "cell_type": "code",
      "metadata": {
        "colab": {
          "base_uri": "https://localhost:8080/",
          "height": 340
        },
        "id": "EmSlNqAZi89w",
        "outputId": "a36fe557-7c0e-48f3-fc0c-6b1f4bae9ccd"
      },
      "source": [
        "cf = metrics.confusion_matrix(y_test,predicciones_test,labels = [1,0])\n",
        "print(cf)\n",
        "## this command is only for google collab \n",
        "## in the below figure \" 1 is actually showing -1 and 0 is actually showing 1\"\n",
        "fig, ax = plot_confusion_matrix(conf_mat = cf)\n",
        "                                \n",
        "## It canbe used in any platform\n",
        "# fig, ax = plot_confusion_matrix(conf_mat = cf, class_names = [1,-1])\n",
        "plt.title(\"Test\")\n",
        "plt.show()"
      ],
      "execution_count": 503,
      "outputs": [
        {
          "output_type": "stream",
          "name": "stdout",
          "text": [
            "[[79 24]\n",
            " [28 84]]\n"
          ]
        },
        {
          "output_type": "display_data",
          "data": {
            "image/png": "[encoded data removed]",
            "text/plain": [
              "<Figure size 432x288 with 1 Axes>"
            ]
          },
          "metadata": {
            "needs_background": "light"
          }
        }
      ]
    },
    {
      "cell_type": "code",
      "metadata": {
        "id": "5SrBHX8Ri-ts"
      },
      "source": [
        ""
      ],
      "execution_count": 503,
      "outputs": []
    },
    {
      "cell_type": "code",
      "metadata": {
        "id": "NOMi5zvAnyZi"
      },
      "source": [
        ""
      ],
      "execution_count": 503,
      "outputs": []
    },
    {
      "cell_type": "code",
      "metadata": {
        "colab": {
          "base_uri": "https://localhost:8080/",
          "height": 298
        },
        "id": "X9_rMsbinycg",
        "outputId": "d89b1bd0-ca05-4d06-c5f5-9b91d2346b36"
      },
      "source": [
        "plt.plot(objLogisticRegression.costHistory)\n",
        "plt.title(\"Función de coste Newton-Raphson\")\n",
        "plt.show"
      ],
      "execution_count": 504,
      "outputs": [
        {
          "output_type": "execute_result",
          "data": {
            "text/plain": [
              "<function matplotlib.pyplot.show>"
            ]
          },
          "metadata": {},
          "execution_count": 504
        },
        {
          "output_type": "display_data",
          "data": {
            "image/png": "[encoded data removed]",
            "text/plain": [
              "<Figure size 432x288 with 1 Axes>"
            ]
          },
          "metadata": {
            "needs_background": "light"
          }
        }
      ]
    },
    {
      "cell_type": "code",
      "metadata": {
        "colab": {
          "base_uri": "https://localhost:8080/",
          "height": 298
        },
        "id": "BK6a5RjXnyhB",
        "outputId": "d7f360f5-ee8a-448d-f3fb-6fec4a510978"
      },
      "source": [
        "plt.plot(objLogisticRegression1.costHistory)\n",
        "plt.title(\"Función de coste Descenso del gradiente\")\n",
        "plt.show"
      ],
      "execution_count": 505,
      "outputs": [
        {
          "output_type": "execute_result",
          "data": {
            "text/plain": [
              "<function matplotlib.pyplot.show>"
            ]
          },
          "metadata": {},
          "execution_count": 505
        },
        {
          "output_type": "display_data",
          "data": {
            "image/png": "[encoded data removed]",
            "text/plain": [
              "<Figure size 432x288 with 1 Axes>"
            ]
          },
          "metadata": {
            "needs_background": "light"
          }
        }
      ]
    },
    {
      "cell_type": "code",
      "metadata": {
        "colab": {
          "base_uri": "https://localhost:8080/",
          "height": 298
        },
        "id": "l_a7XIGGn7Iw",
        "outputId": "d04ae3ea-4d69-4b40-b569-ff9303bdc850"
      },
      "source": [
        "plt.plot(objLogisticRegression2.costHistory)\n",
        "plt.title(\"Función de coste Descenso del gradiente modificado\")\n",
        "plt.show"
      ],
      "execution_count": 506,
      "outputs": [
        {
          "output_type": "execute_result",
          "data": {
            "text/plain": [
              "<function matplotlib.pyplot.show>"
            ]
          },
          "metadata": {},
          "execution_count": 506
        },
        {
          "output_type": "display_data",
          "data": {
            "image/png": "[encoded data removed]",
            "text/plain": [
              "<Figure size 432x288 with 1 Axes>"
            ]
          },
          "metadata": {
            "needs_background": "light"
          }
        }
      ]
    },
    {
      "cell_type": "code",
      "metadata": {
        "id": "E6CxTAMBoDgC"
      },
      "source": [
        ""
      ],
      "execution_count": 506,
      "outputs": []
    }
  ]
}