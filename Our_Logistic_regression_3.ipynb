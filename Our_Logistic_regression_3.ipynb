{
  "nbformat": 4,
  "nbformat_minor": 0,
  "metadata": {
    "colab": {
      "name": "Our_Logistic_regression_3.ipynb",
      "provenance": [],
      "collapsed_sections": [],
      "include_colab_link": true
    },
    "kernelspec": {
      "name": "python3",
      "display_name": "Python 3"
    },
    "language_info": {
      "name": "python"
    }
  },
  "cells": [
    {
      "cell_type": "markdown",
      "metadata": {
        "id": "view-in-github",
        "colab_type": "text"
      },
      "source": [
        "<a href=\"https://colab.research.google.com/github/calzateu/Modeling_and_Simulation_4/blob/main/Our_Logistic_regression_3.ipynb\" target=\"_parent\"><img src=\"https://colab.research.google.com/assets/colab-badge.svg\" alt=\"Open In Colab\"/></a>"
      ]
    },
    {
      "cell_type": "code",
      "metadata": {
        "id": "J5gFZ-WNWB_E"
      },
      "source": [
        "import pandas as pd\n",
        "from scipy import linalg as LA"
      ],
      "execution_count": 160,
      "outputs": []
    },
    {
      "cell_type": "code",
      "metadata": {
        "colab": {
          "base_uri": "https://localhost:8080/",
          "height": 255
        },
        "id": "sOc_oI2WKASW",
        "outputId": "cc26ee31-f135-44e3-9b0e-55d7ebed59a3"
      },
      "source": [
        "data = pd.read_csv('Dataset-with-sentiments.csv')\n",
        "data.head(5)"
      ],
      "execution_count": 161,
      "outputs": [
        {
          "output_type": "execute_result",
          "data": {
            "text/html": [
              "<div>\n",
              "<style scoped>\n",
              "    .dataframe tbody tr th:only-of-type {\n",
              "        vertical-align: middle;\n",
              "    }\n",
              "\n",
              "    .dataframe tbody tr th {\n",
              "        vertical-align: top;\n",
              "    }\n",
              "\n",
              "    .dataframe thead th {\n",
              "        text-align: right;\n",
              "    }\n",
              "</style>\n",
              "<table border=\"1\" class=\"dataframe\">\n",
              "  <thead>\n",
              "    <tr style=\"text-align: right;\">\n",
              "      <th></th>\n",
              "      <th>Video ID</th>\n",
              "      <th>Comment ID</th>\n",
              "      <th>comments</th>\n",
              "      <th>Likes</th>\n",
              "      <th>polarity</th>\n",
              "      <th>pol_cat</th>\n",
              "      <th>stop_comments</th>\n",
              "    </tr>\n",
              "  </thead>\n",
              "  <tbody>\n",
              "    <tr>\n",
              "      <th>0</th>\n",
              "      <td>MwpMEbgC7DA</td>\n",
              "      <td>UgzSCaG-BeNW0LkW2px4AaABAg</td>\n",
              "      <td>that  s  beautiful</td>\n",
              "      <td>0</td>\n",
              "      <td>0.850000</td>\n",
              "      <td>1</td>\n",
              "      <td>beautiful</td>\n",
              "    </tr>\n",
              "    <tr>\n",
              "      <th>1</th>\n",
              "      <td>MwpMEbgC7DA</td>\n",
              "      <td>Ugw6J6RLt2VGaKMAz4h4AaABAg</td>\n",
              "      <td>imagine  being  able  to  listen  to  this  so...</td>\n",
              "      <td>176</td>\n",
              "      <td>0.375000</td>\n",
              "      <td>1</td>\n",
              "      <td>imagine able listen song like first time ever ...</td>\n",
              "    </tr>\n",
              "    <tr>\n",
              "      <th>2</th>\n",
              "      <td>MwpMEbgC7DA</td>\n",
              "      <td>UgwyFvqt1jZGR1l32sl4AaABAg</td>\n",
              "      <td>i've  memorized  this  song  more  than  math ...</td>\n",
              "      <td>4</td>\n",
              "      <td>0.333333</td>\n",
              "      <td>1</td>\n",
              "      <td>'ve memorized song math equations think song m...</td>\n",
              "    </tr>\n",
              "    <tr>\n",
              "      <th>3</th>\n",
              "      <td>MwpMEbgC7DA</td>\n",
              "      <td>UgzzG2fg2Aq8HjJAQUB4AaABAg</td>\n",
              "      <td>every  time  i  listen  to  this  reminds  me ...</td>\n",
              "      <td>0</td>\n",
              "      <td>0.850000</td>\n",
              "      <td>1</td>\n",
              "      <td>every time listen reminds tvd elena damon rain...</td>\n",
              "    </tr>\n",
              "    <tr>\n",
              "      <th>4</th>\n",
              "      <td>MwpMEbgC7DA</td>\n",
              "      <td>Ugwx9ephHmJlIN8Sc614AaABAg</td>\n",
              "      <td>forever  my  cry  song</td>\n",
              "      <td>2</td>\n",
              "      <td>0.000000</td>\n",
              "      <td>0</td>\n",
              "      <td>forever cry song</td>\n",
              "    </tr>\n",
              "  </tbody>\n",
              "</table>\n",
              "</div>"
            ],
            "text/plain": [
              "      Video ID  ...                                      stop_comments\n",
              "0  MwpMEbgC7DA  ...                                          beautiful\n",
              "1  MwpMEbgC7DA  ...  imagine able listen song like first time ever ...\n",
              "2  MwpMEbgC7DA  ...  've memorized song math equations think song m...\n",
              "3  MwpMEbgC7DA  ...  every time listen reminds tvd elena damon rain...\n",
              "4  MwpMEbgC7DA  ...                                   forever cry song\n",
              "\n",
              "[5 rows x 7 columns]"
            ]
          },
          "metadata": {},
          "execution_count": 161
        }
      ]
    },
    {
      "cell_type": "code",
      "metadata": {
        "id": "NAVjRxpEXhzs"
      },
      "source": [
        ""
      ],
      "execution_count": 161,
      "outputs": []
    },
    {
      "cell_type": "code",
      "metadata": {
        "id": "f_gyN-auXh2F"
      },
      "source": [
        ""
      ],
      "execution_count": 161,
      "outputs": []
    },
    {
      "cell_type": "code",
      "metadata": {
        "id": "HIdiQSNaXh62"
      },
      "source": [
        ""
      ],
      "execution_count": 161,
      "outputs": []
    },
    {
      "cell_type": "code",
      "metadata": {
        "colab": {
          "base_uri": "https://localhost:8080/"
        },
        "id": "mpRMqsFCXsmq",
        "outputId": "38815755-9ed9-43c8-db9e-d7a2ff1f9a74"
      },
      "source": [
        "sum(data['stop_comments'].isnull())\n"
      ],
      "execution_count": 162,
      "outputs": [
        {
          "output_type": "execute_result",
          "data": {
            "text/plain": [
              "0"
            ]
          },
          "metadata": {},
          "execution_count": 162
        }
      ]
    },
    {
      "cell_type": "code",
      "metadata": {
        "id": "J2c0AVHVXsom"
      },
      "source": [
        "data = data[data['stop_comments'].notnull()]"
      ],
      "execution_count": 163,
      "outputs": []
    },
    {
      "cell_type": "code",
      "metadata": {
        "colab": {
          "base_uri": "https://localhost:8080/"
        },
        "id": "X47G8LtaXsqa",
        "outputId": "5815070b-6b28-43d0-c744-6f071abd743a"
      },
      "source": [
        "sum(data['stop_comments'].isnull())"
      ],
      "execution_count": 164,
      "outputs": [
        {
          "output_type": "execute_result",
          "data": {
            "text/plain": [
              "0"
            ]
          },
          "metadata": {},
          "execution_count": 164
        }
      ]
    },
    {
      "cell_type": "code",
      "metadata": {
        "id": "4oJdYZIfkahB"
      },
      "source": [
        ""
      ],
      "execution_count": 164,
      "outputs": []
    },
    {
      "cell_type": "code",
      "metadata": {
        "id": "MGATddlAkanR"
      },
      "source": [
        ""
      ],
      "execution_count": 164,
      "outputs": []
    },
    {
      "cell_type": "code",
      "metadata": {
        "colab": {
          "base_uri": "https://localhost:8080/"
        },
        "id": "s3j4DacKXssL",
        "outputId": "4ec59d64-7060-435b-853b-9cb5c3d6a7ec"
      },
      "source": [
        "data['pol_cat']"
      ],
      "execution_count": 165,
      "outputs": [
        {
          "output_type": "execute_result",
          "data": {
            "text/plain": [
              "0       1\n",
              "1       1\n",
              "2       1\n",
              "3       1\n",
              "4       0\n",
              "       ..\n",
              "1068    1\n",
              "1069    1\n",
              "1070    0\n",
              "1071    0\n",
              "1072    1\n",
              "Name: pol_cat, Length: 1073, dtype: int64"
            ]
          },
          "metadata": {},
          "execution_count": 165
        }
      ]
    },
    {
      "cell_type": "code",
      "metadata": {
        "id": "AGN10wmnkbnJ"
      },
      "source": [
        "data[data['pol_cat']==-1] = 0"
      ],
      "execution_count": 166,
      "outputs": []
    },
    {
      "cell_type": "code",
      "metadata": {
        "colab": {
          "base_uri": "https://localhost:8080/"
        },
        "id": "qVmBbynlkbt5",
        "outputId": "3c13f5c4-147f-48ab-d42a-9b4d0d0d582c"
      },
      "source": [
        "data['pol_cat']"
      ],
      "execution_count": 167,
      "outputs": [
        {
          "output_type": "execute_result",
          "data": {
            "text/plain": [
              "0       1\n",
              "1       1\n",
              "2       1\n",
              "3       1\n",
              "4       0\n",
              "       ..\n",
              "1068    1\n",
              "1069    1\n",
              "1070    0\n",
              "1071    0\n",
              "1072    1\n",
              "Name: pol_cat, Length: 1073, dtype: int64"
            ]
          },
          "metadata": {},
          "execution_count": 167
        }
      ]
    },
    {
      "cell_type": "code",
      "metadata": {
        "id": "q-vcKnLxlYzE"
      },
      "source": [
        ""
      ],
      "execution_count": 167,
      "outputs": []
    },
    {
      "cell_type": "code",
      "metadata": {
        "colab": {
          "base_uri": "https://localhost:8080/"
        },
        "id": "5JrH_VwMlY2C",
        "outputId": "19578407-0aa2-43e8-c4c1-b0e65112a27e"
      },
      "source": [
        "data.info()"
      ],
      "execution_count": 168,
      "outputs": [
        {
          "output_type": "stream",
          "name": "stdout",
          "text": [
            "<class 'pandas.core.frame.DataFrame'>\n",
            "Int64Index: 1073 entries, 0 to 1072\n",
            "Data columns (total 7 columns):\n",
            " #   Column         Non-Null Count  Dtype  \n",
            "---  ------         --------------  -----  \n",
            " 0   Video ID       1073 non-null   object \n",
            " 1   Comment ID     1073 non-null   object \n",
            " 2   comments       1073 non-null   object \n",
            " 3   Likes          1073 non-null   int64  \n",
            " 4   polarity       1073 non-null   float64\n",
            " 5   pol_cat        1073 non-null   int64  \n",
            " 6   stop_comments  1073 non-null   object \n",
            "dtypes: float64(1), int64(2), object(4)\n",
            "memory usage: 67.1+ KB\n"
          ]
        }
      ]
    },
    {
      "cell_type": "code",
      "metadata": {
        "id": "1HEC6o4mlwxg"
      },
      "source": [
        "data['stop_comments'] = data[['stop_comments']].astype(str)"
      ],
      "execution_count": 169,
      "outputs": []
    },
    {
      "cell_type": "code",
      "metadata": {
        "id": "5AMmchcUXsue"
      },
      "source": [
        ""
      ],
      "execution_count": 169,
      "outputs": []
    },
    {
      "cell_type": "code",
      "metadata": {
        "id": "2c7nj5ojXfk9"
      },
      "source": [
        "from sklearn.model_selection import train_test_split"
      ],
      "execution_count": 170,
      "outputs": []
    },
    {
      "cell_type": "code",
      "metadata": {
        "id": "w4zTUfJVXcV7"
      },
      "source": [
        "X_train,X_test,y_train,y_test = train_test_split(data['stop_comments'],data['pol_cat'],test_size = 0.2,random_state = 324)"
      ],
      "execution_count": 171,
      "outputs": []
    },
    {
      "cell_type": "code",
      "metadata": {
        "id": "GaDH7-GalgVs"
      },
      "source": [
        ""
      ],
      "execution_count": 171,
      "outputs": []
    },
    {
      "cell_type": "code",
      "metadata": {
        "id": "6w5FIpXfW_Y3"
      },
      "source": [
        "from sklearn.feature_extraction.text import CountVectorizer, TfidfVectorizer \n",
        "vect = CountVectorizer()\n",
        "tf_train = vect.fit_transform(X_train)\n",
        "tf_test = vect.transform(X_test)"
      ],
      "execution_count": 172,
      "outputs": []
    },
    {
      "cell_type": "code",
      "metadata": {
        "id": "eCPw36U2YelA"
      },
      "source": [
        "tf_train = tf_train.toarray()\n",
        "tf_test = tf_test.toarray()"
      ],
      "execution_count": 173,
      "outputs": []
    },
    {
      "cell_type": "code",
      "metadata": {
        "id": "qVQ2Zy_H3HiX"
      },
      "source": [
        "import numpy as np\n",
        "\n",
        "from sklearn import datasets\n",
        "from sklearn.linear_model import LogisticRegression as sklearnLogisticRegression\n",
        "\n",
        "class LogisticRegression:\n",
        "    \"\"\"\n",
        "            Purpose: To estimate Logistic regression parameters in Python.\n",
        "            Inputs:\n",
        "                alpha           : Is the optimisation learning rate.\n",
        "                maxIterations   : Maximum number of iterations for optimisation routine..\n",
        "                fitIntercept    : Include the intercept in the model fit.\n",
        "                verbose         : Display program information.\n",
        "                optimisation    : The optimisation routine to use. Options are:\n",
        "                                            gradientAscent\n",
        "                                            newton\n",
        "    \"\"\"\n",
        "    def __init__(self, alpha=0.01, maxIterations=100000, fitIntercept=True, verbose=False,optimisation=\"gradientAscent\"):\n",
        "        self.alpha = alpha\n",
        "        self.maxIterations = maxIterations  # Maximum number of times to run the optimisation.\n",
        "        self.numIterations = 0;             # Record the number of iterations performed.\n",
        "        self.hasConverged = False;          # This variable is used to terminate the iterations searching for optimum parameters.\n",
        "        self.fitIntercept = fitIntercept\n",
        "        self.verbose = verbose\n",
        "        self.costHistory = [];\n",
        "        self.tolerance = tol=0; # convergence tolerance;\n",
        "        self.theta=[];\n",
        "        self.optimisation = optimisation;\n",
        "\n",
        "    def __add_intercept(X):\n",
        "        X = X.reshape(len(X), -1)\n",
        "        intercept = np.ones((X.shape[0], 1))\n",
        "        return np.concatenate((intercept, X), axis=1)\n",
        "\n",
        "    def __sigmoid(z):\n",
        "        return 1 / (1 + np.exp(-z))\n",
        "\n",
        "\n",
        "    def __cost(self, X, y, theta):\n",
        "        # Purpose: Logistic regression log cost function.\n",
        "        z = np.dot(X, theta)\n",
        "        p = LogisticRegression.__sigmoid(z)\n",
        "        return (-y * np.log(p) - (1 - y) * np.log(1 - p)).mean()\n",
        "\n",
        "    def gradientAscent(X,y,theta,alpha):\n",
        "        z = np.dot(X, theta)\n",
        "        p = LogisticRegression.__sigmoid(z)\n",
        "        gradient = np.dot(X.T, (p - y)) / y.size;  # 1st derivative of log likelihood wrt parameters.\n",
        "        theta -= alpha * gradient  # Update the parameters.\n",
        "\n",
        "        return theta;\n",
        "    \n",
        "    def gradientAscent2(X,y,theta,alpha):\n",
        "        z = np.dot(X, theta)\n",
        "        p = LogisticRegression.__sigmoid(z)\n",
        "        aux = np.dot(X.T, (p - y))\n",
        "        aux = aux[aux != 0]\n",
        "        r = np.median(aux)\n",
        "        gradient = r*np.dot(X.T, (p - y));  # 1st derivative of log likelihood wrt parameters.\n",
        "        #print(gradient)\n",
        "        theta -= alpha * gradient  # Update the parameters.\n",
        "\n",
        "        return theta;\n",
        "\n",
        "    def newton(X,y,theta,useRegulisation=False,regulisationParameter=0):\n",
        "        \"\"\" Newton optimisation method.\"\"\"\n",
        "        z = np.dot(X, theta)\n",
        "        p = LogisticRegression.__sigmoid(z)\n",
        "        W = np.diag(p * (1 - p))\n",
        "        hessian = X.T.dot(W).dot(X);\n",
        "\n",
        "        \n",
        "        eig_vals, eig_vects = LA.eig(hessian)\n",
        "\n",
        "        print(len(eig_vals))\n",
        "        val = np.max(eig_vals)\n",
        "        #val = 2\n",
        "\n",
        "        if val < 0:\n",
        "          val *= -1\n",
        "\n",
        "        val = 1/val;\n",
        "        print(val)\n",
        "\n",
        "        a = np.zeros((len(hessian), len(hessian))) #Inicializo una matriz\n",
        "        np.fill_diagonal(a, np.linalg.norm(val)) # Relleno la diagonal con un valor especifico\n",
        "\n",
        "        #print(a[0,0], np.linalg.norm(val))\n",
        "        hessian = hessian + a\n",
        "        \n",
        "\n",
        "        gradient = np.dot(X.T, (y-p));  # 1st derivative of log likelihood wrt parameters.\n",
        "\n",
        "        '''\n",
        "        try:\n",
        "            if useRegulisation:\n",
        "                step = np.dot(np.linalg.inv(hessian + regulisationParameter * np.eye(theta)), grad)\n",
        "            else:\n",
        "                step = np.dot(np.linalg.inv(hessian), gradient)\n",
        "        except np.linalg.LinAlgError:\n",
        "            step=0;'''\n",
        "        \n",
        "        #print(hessian)\n",
        "        print(hessian.shape)\n",
        "        #print(hessian[0,0])\n",
        "        hs = np.linalg.inv(hessian)\n",
        "        print(hs)\n",
        "        step = np.dot(hs, gradient)\n",
        "\n",
        "        ## update the weights\n",
        "        theta = theta + step\n",
        "\n",
        "        print(theta)\n",
        "\n",
        "\n",
        "        return theta;\n",
        "\n",
        "    def fit(self, X, y):\n",
        "        if self.fitIntercept:\n",
        "            X = LogisticRegression.__add_intercept(X=X)\n",
        "\n",
        "\n",
        "        self.theta = np.zeros(X.shape[1]);  # Initialise weights.\n",
        "        alpha=self.alpha;\n",
        "\n",
        "        cost = self.__cost(X, y, self.theta);  # Calculate the cost.\n",
        "        self.costHistory.append(cost);  # Record the intitial cost for plotting.\n",
        "\n",
        "\n",
        "        iterCount=0;\n",
        "\n",
        "        while not self.hasConverged:\n",
        "            # Perform the optimisation many times to reduce the cost by improving the parameters.\n",
        "            iterCount+=1;                       # Counter for the number of optimisation iterations.\n",
        "\n",
        "            # Depending on the optimisation approach. Calculate the coeffient update step differently.\n",
        "            if self.optimisation==\"gradientAscent\":\n",
        "                theta = LogisticRegression.gradientAscent(X,y,self.theta,self.alpha)\n",
        "                iterDisplayVerbose = 1000;\n",
        "            elif self.optimisation==\"newton\":\n",
        "                theta = LogisticRegression.newton(X, y, self.theta)\n",
        "                iterDisplayVerbose = 1;             # The number of iteration steps is significantly less than Gradient Ascent.\n",
        "            elif self.optimisation==\"gradientAscent2\":\n",
        "                theta = LogisticRegression.gradientAscent2(X,y,self.theta,self.alpha)\n",
        "                iterDisplayVerbose = 1000;\n",
        "            else:\n",
        "                assert \"unknown optimisation routine.\"\n",
        "                return;\n",
        "\n",
        "            cost = self.__cost(X,y, theta);     # Calculate the cost.\n",
        "\n",
        "\n",
        "            if iterCount>1:\n",
        "            # Only check to terminate optimisation after performing the second optimisation calculation.\n",
        "                hasConverged = self.__checkConvergence(self.costHistory[-1], cost, self.tolerance,iterCount);  # Check if should terminate iteration updates as convergence tolerance has been reached.\n",
        "\n",
        "                if hasConverged.hasConverged==True:\n",
        "                    print(\"Iteration #:  {:>7,.0f}.  Cost: {:>+7.4f}.\".format(iterCount, cost));\n",
        "                    print(\"Finished because {}. Using {} optimisation method.\".format(hasConverged.reason, self.optimisation));\n",
        "                    self.numIterations = iterCount;\n",
        "                    self.hasConverged == True;\n",
        "\n",
        "                if (self.verbose == True and iterCount % iterDisplayVerbose == 0) and  hasConverged.hasConverged==False:\n",
        "                    # Print out the log output.\n",
        "                    print(\"Iteration #:  {:>7,.0f}.  Cost: {:>+7.4f}\".format(iterCount, cost));\n",
        "\n",
        "\n",
        "            if iterCount < 2:\n",
        "\n",
        "                if (self.verbose == True and iterCount % iterDisplayVerbose == 0):\n",
        "                    # Print out the log output.\n",
        "                    print(\"Iteration #:  {:>7,.0f}.  Cost: {:>+7.4f}\".format(iterCount, cost));\n",
        "\n",
        "                self.theta = theta;\n",
        "                self.costHistory.append(cost);  # Record the cost for plotting.\n",
        "            else:\n",
        "                if not (((self.optimisation == \"newton\") and (cost > self.costHistory[-1])) or (np.isnan(cost))) or iterCount<1:\n",
        "                    # The Newton method on the last step can give coefficients well off and a worse cost as close to the singularity.\n",
        "                    # Because of this. Not recording the last theta and cost found in this case and using the previous one.\n",
        "                    self.theta = theta;\n",
        "                    self.costHistory.append(cost);  # Record the cost for plotting.\n",
        "\n",
        "\n",
        "    def __checkConvergence(self,previousCost, cost, tolerance, iterCount):\n",
        "        ''' Purpose: Checks if coefficients have converged.\n",
        "            Returns True if they have converged, False otherwise.'''\n",
        "        costChange = np.abs(previousCost - cost)\n",
        "\n",
        "        self.reason=\"\";\n",
        "        self.hasConverged=False;\n",
        "        if (np.any(costChange < tolerance)):\n",
        "            self.reason = \"cost function tolerance reached\";\n",
        "            self.hasConverged = True;\n",
        "\n",
        "        # If havn't reached thresholds, perform more iterations (keep training).\n",
        "        if (iterCount > self.maxIterations):\n",
        "            self.reason=\"maximum iterations reached\"\n",
        "            self.hasConverged = True;\n",
        "\n",
        "\n",
        "        if (self.optimisation == \"newton\"):\n",
        "            if (np.isnan(cost)):\n",
        "                # The Newton method on the last step can give coefficients well off and a worse cost as close to the singularity.\n",
        "                # Because of this. Not recording the last theta and cost found in this case and using the previous one.\n",
        "                self.reason=\"singular Hessian\"\n",
        "                self.hasConverged = True;\n",
        "            elif (cost > previousCost):\n",
        "                # The Newton method on the last step can give coefficients well off and a worse cost as close to the singularity.\n",
        "                # Because of this. Not recording the last theta and cost found in this case and using the previous one.\n",
        "                self.reason=\"cost function worsoning as close to solution\"\n",
        "                self.hasConverged = True;\n",
        "\n",
        "\n",
        "\n",
        "        return self\n",
        "\n",
        "\n",
        "    def predict_prob(X,theta,fitIntercept=True):\n",
        "        if fitIntercept:\n",
        "            X = LogisticRegression.__add_intercept(X=X)\n",
        "\n",
        "        return LogisticRegression.__sigmoid(np.dot(X, theta))\n",
        "\n",
        "    def predict(self, X):\n",
        "        #return LogisticRegression.predict_prob((X).round(),self.theta,self.fitIntercept)\n",
        "        prob = LogisticRegression.predict_prob((X).round(),self.theta,self.fitIntercept)\n",
        "        if (prob > 0.5):\n",
        "          return 1\n",
        "        return 0\n",
        "\n",
        "    def formattedOutput(objLogisticRegression):\n",
        "        \"\"\"\n",
        "        Purpose: To produce readable output summary of the results.\n",
        "            Input:\n",
        "                LogisticRegression  : A class instance containing the fitted information.\n",
        "        \"\"\"\n",
        "        optimisationMethod=objLogisticRegression.optimisation;\n",
        "        theta=objLogisticRegression.theta;\n",
        "        inititialCost=objLogisticRegression.costHistory[0];\n",
        "        finalCost=objLogisticRegression.costHistory[-1];\n",
        "        numIterations=objLogisticRegression.numIterations;\n",
        "\n",
        "\n",
        "        dash = '=' * 80; #chr(10000)*50\n",
        "        print(dash)\n",
        "        print(\"LOGISTIC REGRESSION USING {0} TERRMINATION RESULTS\".format(optimisationMethod.upper()))\n",
        "        print(dash)\n",
        "        print(\"Initial Weights were:    {:>12.1f}, {:>2.1f}, {:>2.1f}.\".format(0, 0, 0))\n",
        "        print(\"   With initial cost:    {:>+12.6f}.\".format(inititialCost))\n",
        "        print(\"        # Iterations:    {:>+12,.0f}.    \".format(numIterations))\n",
        "        print(\"       Final weights:    theta0:{:>+0.2f}, theta1:{:>+3.2f}, theta02:{:>+3.3f}.\".format(\n",
        "            theta[0], theta[1], theta[2]))#print(\"       Final weights:    \\u03F4\\u2080:{:>+0.2f}, \\u03F4\\u2081:{:>+3.2f}, \\u03F4\\u2082:{:>+3.3f}.\".format(theta[0], theta[1], theta[2]))\n",
        "        print(\"          Final cost:    {:>+12.6f}.\".format(finalCost))\n",
        "        print(dash)\n"
      ],
      "execution_count": 174,
      "outputs": []
    },
    {
      "cell_type": "code",
      "metadata": {
        "colab": {
          "base_uri": "https://localhost:8080/"
        },
        "id": "LBKdJI0CNLNT",
        "outputId": "6a67102f-a954-48b7-f376-bb0b809dd545"
      },
      "source": [
        "a = [1,0,1,0,0,3,2]\n",
        "b = a[a != 0]\n",
        "print(b)"
      ],
      "execution_count": 175,
      "outputs": [
        {
          "output_type": "stream",
          "name": "stdout",
          "text": [
            "0\n"
          ]
        }
      ]
    },
    {
      "cell_type": "code",
      "metadata": {
        "id": "1ZqJbEnDmnIr"
      },
      "source": [
        ""
      ],
      "execution_count": 175,
      "outputs": []
    },
    {
      "cell_type": "code",
      "metadata": {
        "id": "CMwLPu4JSQwQ",
        "colab": {
          "base_uri": "https://localhost:8080/"
        },
        "outputId": "1dea14bf-d034-44d5-e36a-99654df37168"
      },
      "source": [
        "tf_train.shape"
      ],
      "execution_count": 176,
      "outputs": [
        {
          "output_type": "execute_result",
          "data": {
            "text/plain": [
              "(858, 1770)"
            ]
          },
          "metadata": {},
          "execution_count": 176
        }
      ]
    },
    {
      "cell_type": "code",
      "metadata": {
        "id": "SZpEcvAmSTAN",
        "colab": {
          "base_uri": "https://localhost:8080/"
        },
        "outputId": "484ed979-4344-4427-cd05-9575a426a300"
      },
      "source": [
        "tf_test.shape"
      ],
      "execution_count": 177,
      "outputs": [
        {
          "output_type": "execute_result",
          "data": {
            "text/plain": [
              "(215, 1770)"
            ]
          },
          "metadata": {},
          "execution_count": 177
        }
      ]
    },
    {
      "cell_type": "code",
      "metadata": {
        "id": "n0sHWET9SQ1b"
      },
      "source": [
        ""
      ],
      "execution_count": 177,
      "outputs": []
    },
    {
      "cell_type": "code",
      "metadata": {
        "id": "Xg48ld4vmnKv"
      },
      "source": [
        "tf_train = tf_train"
      ],
      "execution_count": 178,
      "outputs": []
    },
    {
      "cell_type": "code",
      "metadata": {
        "id": "vRiyLOKHmnl5",
        "colab": {
          "base_uri": "https://localhost:8080/"
        },
        "outputId": "680ac4c2-1135-4c77-b362-5dc6e0ca4e50"
      },
      "source": [
        "corr_matrix = np.corrcoef(tf_train)\n",
        "sumas = sum(corr_matrix >= 0.5)\n",
        "indices = sumas > 1\n",
        "tf_train = tf_train[~indices]\n",
        "\n",
        "y_train = y_train[~indices]\n",
        "\n",
        "tf_train.shape, y_train.shape"
      ],
      "execution_count": 179,
      "outputs": [
        {
          "output_type": "execute_result",
          "data": {
            "text/plain": [
              "((365, 1770), (365,))"
            ]
          },
          "metadata": {},
          "execution_count": 179
        }
      ]
    },
    {
      "cell_type": "code",
      "metadata": {
        "id": "TWU0Uaa9I8G2"
      },
      "source": [
        "tf_train = tf_train"
      ],
      "execution_count": 180,
      "outputs": []
    },
    {
      "cell_type": "code",
      "metadata": {
        "id": "u-ESm6ZwI8JN",
        "colab": {
          "base_uri": "https://localhost:8080/"
        },
        "outputId": "d93d9094-f3c2-4c9a-be6b-9b24697ac58f"
      },
      "source": [
        "tf_train.shape"
      ],
      "execution_count": 181,
      "outputs": [
        {
          "output_type": "execute_result",
          "data": {
            "text/plain": [
              "(365, 1770)"
            ]
          },
          "metadata": {},
          "execution_count": 181
        }
      ]
    },
    {
      "cell_type": "code",
      "metadata": {
        "id": "Dhmmn1WrSljK",
        "colab": {
          "base_uri": "https://localhost:8080/"
        },
        "outputId": "f7a0ba56-141b-4a84-de60-05a55eba6df3"
      },
      "source": [
        "tf_test.shape"
      ],
      "execution_count": 182,
      "outputs": [
        {
          "output_type": "execute_result",
          "data": {
            "text/plain": [
              "(215, 1770)"
            ]
          },
          "metadata": {},
          "execution_count": 182
        }
      ]
    },
    {
      "cell_type": "code",
      "metadata": {
        "id": "FZpNrztFmn1u"
      },
      "source": [
        ""
      ],
      "execution_count": 182,
      "outputs": []
    },
    {
      "cell_type": "code",
      "metadata": {
        "id": "TNw26hiOWVP4",
        "colab": {
          "base_uri": "https://localhost:8080/",
          "height": 137
        },
        "outputId": "045cb0ee-ff96-49f1-bd0a-39d04a7b1341"
      },
      "source": [
        "'''def run():\n",
        "\n",
        "    #\n",
        "    ## Load Data:\n",
        "    #iris = datasets.load_iris()\n",
        "    #X = iris.data[:, :2]\n",
        "    #y = (iris.target != 0) * 1\n",
        "    #\n",
        "\n",
        "    X = tf_train\n",
        "    y = y_train\n",
        "\n",
        "\n",
        "    # Run the model:\n",
        "    objLogisticRegression = LogisticRegression(alpha=0.1, maxIterations=10,fitIntercept=True, verbose=True,optimisation=\"newton\");   # Initialise the regression.\n",
        "    objLogisticRegression.fit(X, y);                                 # Fit the regression.\n",
        "\n",
        "    # Show the output:\n",
        "    LogisticRegression.formattedOutput(objLogisticRegression=objLogisticRegression);        # Show the formatted results.\n",
        "\n",
        "\n",
        "    #\n",
        "    # Run the model:\n",
        "    #objLogisticRegression = LogisticRegression(alpha=0.1, maxIterations=100000,fitIntercept=True, verbose=True,optimisation=\"gradientAscent\");   # Initialise the regression.\n",
        "    #objLogisticRegression.fit(X, y);                                 # Fit the regression.\n",
        "\n",
        "    # Show the output:\n",
        "    #LogisticRegression.formattedOutput(objLogisticRegression=objLogisticRegression);        # Show the formatted results.\n",
        "    #\n",
        "\n",
        "    # sklearn's Logistic Regression.\n",
        "    model = sklearnLogisticRegression(C=1e8).fit(X, y)\n",
        "    dash = '=' * 80;  # '=' * 80;\n",
        "    print(dash)\n",
        "    print(\"LOGISTIC REGRESSION USING SKLEARN TERMINATION RESULTS\")\n",
        "    print(\"Final weights:    theta0:{:>+0.2f}, theta1:{:>+0.2f}, theta2:{:>+0.2f}.\".format(model.intercept_[0], model.coef_[0][0], model.coef_[0][1]))\n",
        "    print(dash)\n",
        "\n",
        "\n",
        "\n",
        "    print(\"Finished\")\n",
        "\n",
        "\n",
        "\n",
        "\n",
        "\n",
        "if __name__ == '__main__':\n",
        "    run()'''"
      ],
      "execution_count": 183,
      "outputs": [
        {
          "output_type": "execute_result",
          "data": {
            "application/vnd.google.colaboratory.intrinsic+json": {
              "type": "string"
            },
            "text/plain": [
              "'def run():\\n\\n    #\\n    ## Load Data:\\n    #iris = datasets.load_iris()\\n    #X = iris.data[:, :2]\\n    #y = (iris.target != 0) * 1\\n    #\\n\\n    X = tf_train\\n    y = y_train\\n\\n\\n    # Run the model:\\n    objLogisticRegression = LogisticRegression(alpha=0.1, maxIterations=10,fitIntercept=True, verbose=True,optimisation=\"newton\");   # Initialise the regression.\\n    objLogisticRegression.fit(X, y);                                 # Fit the regression.\\n\\n    # Show the output:\\n    LogisticRegression.formattedOutput(objLogisticRegression=objLogisticRegression);        # Show the formatted results.\\n\\n\\n    #\\n    # Run the model:\\n    #objLogisticRegression = LogisticRegression(alpha=0.1, maxIterations=100000,fitIntercept=True, verbose=True,optimisation=\"gradientAscent\");   # Initialise the regression.\\n    #objLogisticRegression.fit(X, y);                                 # Fit the regression.\\n\\n    # Show the output:\\n    #LogisticRegression.formattedOutput(objLogisticRegression=objLogisticRegression);        # Show the formatted results.\\n    #\\n\\n    # sklearn\\'s Logistic Regression.\\n    model = sklearnLogisticRegression(C=1e8).fit(X, y)\\n    dash = \\'=\\' * 80;  # \\'=\\' * 80;\\n    print(dash)\\n    print(\"LOGISTIC REGRESSION USING SKLEARN TERMINATION RESULTS\")\\n    print(\"Final weights:    theta0:{:>+0.2f}, theta1:{:>+0.2f}, theta2:{:>+0.2f}.\".format(model.intercept_[0], model.coef_[0][0], model.coef_[0][1]))\\n    print(dash)\\n\\n\\n\\n    print(\"Finished\")\\n\\n\\n\\n\\n\\nif __name__ == \\'__main__\\':\\n    run()'"
            ]
          },
          "metadata": {},
          "execution_count": 183
        }
      ]
    },
    {
      "cell_type": "code",
      "metadata": {
        "id": "EAcE0Y2al_vd"
      },
      "source": [
        ""
      ],
      "execution_count": 183,
      "outputs": []
    },
    {
      "cell_type": "code",
      "metadata": {
        "id": "X6S9hQAXlqMu",
        "colab": {
          "base_uri": "https://localhost:8080/",
          "height": 1000
        },
        "outputId": "b482c3fa-c81b-4593-f74b-64ceaca2588c"
      },
      "source": [
        "import matplotlib.pyplot as plt\n",
        "\n",
        "X = tf_train\n",
        "y = y_train\n",
        "\n",
        "print(X)\n",
        "print(y)\n",
        "plt.plot(X,y)\n",
        "# cc = np.cov(X)\n",
        "\n",
        "# print('Matriz de covarianzas inicial\\n', cc)\n",
        "\n",
        "# Run the model:\n",
        "objLogisticRegression = LogisticRegression(alpha=0.1, maxIterations=3,fitIntercept=False, verbose=True,optimisation=\"newton\");   # Initialise the regression.\n",
        "objLogisticRegression.fit(X, y);                                 # Fit the regression.\n",
        "\n",
        "# Show the output:\n",
        "LogisticRegression.formattedOutput(objLogisticRegression=objLogisticRegression);        # Show the formatted results."
      ],
      "execution_count": 184,
      "outputs": [
        {
          "output_type": "stream",
          "name": "stdout",
          "text": [
            "[[0 0 0 ... 0 0 0]\n",
            " [0 0 0 ... 0 0 0]\n",
            " [0 1 0 ... 0 0 0]\n",
            " ...\n",
            " [0 0 0 ... 0 0 0]\n",
            " [0 0 0 ... 0 0 0]\n",
            " [0 0 0 ... 0 0 0]]\n",
            "25      0\n",
            "528     1\n",
            "127     1\n",
            "1057    0\n",
            "409     1\n",
            "       ..\n",
            "596     0\n",
            "849     1\n",
            "1067    1\n",
            "752     0\n",
            "665     0\n",
            "Name: pol_cat, Length: 365, dtype: int64\n",
            "1770\n",
            "(0.0026081351580566994+0j)\n",
            "(1770, 1770)\n",
            "[[ 3.83415713e+02  0.00000000e+00  0.00000000e+00 ...  0.00000000e+00\n",
            "   0.00000000e+00  0.00000000e+00]\n",
            " [ 0.00000000e+00  2.86686584e+02  1.05608583e+01 ...  4.83077721e+00\n",
            "   0.00000000e+00  0.00000000e+00]\n",
            " [ 0.00000000e+00  1.05608583e+01  2.48992866e+02 ... -1.86625061e-01\n",
            "   0.00000000e+00  0.00000000e+00]\n",
            " ...\n",
            " [ 0.00000000e+00  4.83077721e+00 -1.86625061e-01 ...  3.20717305e+02\n",
            "   0.00000000e+00  0.00000000e+00]\n",
            " [ 0.00000000e+00  0.00000000e+00  0.00000000e+00 ...  0.00000000e+00\n",
            "   3.83415713e+02  0.00000000e+00]\n",
            " [ 0.00000000e+00  0.00000000e+00  0.00000000e+00 ...  0.00000000e+00\n",
            "   0.00000000e+00  3.83415713e+02]]\n",
            "[ 0.         -0.40003067  0.63183527 ...  0.00396155  0.\n",
            "  0.        ]\n",
            "Iteration #:        1.  Cost: +0.1276\n",
            "1770\n",
            "(0.0062097416540632675+0j)\n",
            "(1770, 1770)\n",
            "[[ 1.61037295e+02  0.00000000e+00  0.00000000e+00 ...  0.00000000e+00\n",
            "   0.00000000e+00  0.00000000e+00]\n",
            " [ 0.00000000e+00  1.21119193e+02  4.37754812e+00 ...  1.99368578e+00\n",
            "   0.00000000e+00  0.00000000e+00]\n",
            " [ 0.00000000e+00  4.37754812e+00  1.05959249e+02 ... -7.01941724e-02\n",
            "   0.00000000e+00  0.00000000e+00]\n",
            " ...\n",
            " [ 0.00000000e+00  1.99368578e+00 -7.01941724e-02 ...  1.35005492e+02\n",
            "   0.00000000e+00  0.00000000e+00]\n",
            " [ 0.00000000e+00  0.00000000e+00  0.00000000e+00 ...  0.00000000e+00\n",
            "   1.61037295e+02  0.00000000e+00]\n",
            " [ 0.00000000e+00  0.00000000e+00  0.00000000e+00 ...  0.00000000e+00\n",
            "   0.00000000e+00  1.61037295e+02]]\n",
            "[ 0.         -0.61879663  0.98468021 ...  0.0016118   0.\n",
            "  0.        ]\n",
            "Iteration #:        2.  Cost: +0.0435\n",
            "1770\n",
            "(0.01632139675390732+0j)\n",
            "(1770, 1770)\n",
            "[[ 6.12692660e+01  0.00000000e+00  0.00000000e+00 ...  0.00000000e+00\n",
            "   0.00000000e+00  0.00000000e+00]\n",
            " [ 0.00000000e+00  4.76615485e+01  1.49790121e+00 ...  6.81657893e-01\n",
            "   0.00000000e+00  0.00000000e+00]\n",
            " [ 0.00000000e+00  1.49790121e+00  4.31629826e+01 ... -2.15094113e-02\n",
            "   0.00000000e+00  0.00000000e+00]\n",
            " ...\n",
            " [ 0.00000000e+00  6.81657893e-01 -2.15094113e-02 ...  5.20709509e+01\n",
            "   0.00000000e+00  0.00000000e+00]\n",
            " [ 0.00000000e+00  0.00000000e+00  0.00000000e+00 ...  0.00000000e+00\n",
            "   6.12692660e+01  0.00000000e+00]\n",
            " [ 0.00000000e+00  0.00000000e+00  0.00000000e+00 ...  0.00000000e+00\n",
            "   0.00000000e+00  6.12692660e+01]]\n",
            "[ 0.         -0.78179634  1.29226675 ... -0.01575422  0.\n",
            "  0.        ]\n",
            "Iteration #:        3.  Cost: +0.0171\n",
            "1770\n",
            "(0.043832278614780944+0j)\n",
            "(1770, 1770)\n",
            "[[ 2.28142372e+01  0.00000000e+00  0.00000000e+00 ...  0.00000000e+00\n",
            "   0.00000000e+00  0.00000000e+00]\n",
            " [ 0.00000000e+00  1.96201063e+01  3.01117361e-01 ...  1.53900655e-01\n",
            "   0.00000000e+00  0.00000000e+00]\n",
            " [ 0.00000000e+00  3.01117361e-01  1.89270167e+01 ... -5.72159141e-03\n",
            "   0.00000000e+00  0.00000000e+00]\n",
            " ...\n",
            " [ 0.00000000e+00  1.53900655e-01 -5.72159141e-03 ...  2.04196050e+01\n",
            "   0.00000000e+00  0.00000000e+00]\n",
            " [ 0.00000000e+00  0.00000000e+00  0.00000000e+00 ...  0.00000000e+00\n",
            "   2.28142372e+01  0.00000000e+00]\n",
            " [ 0.00000000e+00  0.00000000e+00  0.00000000e+00 ...  0.00000000e+00\n",
            "   0.00000000e+00  2.28142372e+01]]\n",
            "[ 0.         -0.87614127  1.49640591 ... -0.05058879  0.\n",
            "  0.        ]\n",
            "Iteration #:        4.  Cost: +0.0089.\n",
            "Finished because maximum iterations reached. Using newton optimisation method.\n",
            "================================================================================\n",
            "LOGISTIC REGRESSION USING NEWTON TERRMINATION RESULTS\n",
            "================================================================================\n",
            "Initial Weights were:             0.0, 0.0, 0.0.\n",
            "   With initial cost:       +0.693147.\n",
            "        # Iterations:              +4.    \n",
            "       Final weights:    theta0:+0.00, theta1:-0.88, theta02:+1.496.\n",
            "          Final cost:       +0.008895.\n",
            "================================================================================\n"
          ]
        },
        {
          "output_type": "display_data",
          "data": {
            "image/png": "[encoded data removed]",
            "text/plain": [
              "<Figure size 432x288 with 1 Axes>"
            ]
          },
          "metadata": {
            "needs_background": "light"
          }
        }
      ]
    },
    {
      "cell_type": "code",
      "metadata": {
        "id": "f32eSgJdPQqo"
      },
      "source": [
        "#corr_matrix = np.corrcoef(tf_test)\n",
        "#sumas = sum(corr_matrix >= 0.5)\n",
        "#indices = sumas > 1\n",
        "#tf_test = tf_test[~indices]\n",
        "\n",
        "#y_test = y_ttest[~indices]\n",
        "\n",
        "#tf_test.shape, y_test.shape"
      ],
      "execution_count": 185,
      "outputs": []
    },
    {
      "cell_type": "code",
      "metadata": {
        "id": "rFsP_V07R03p",
        "colab": {
          "base_uri": "https://localhost:8080/"
        },
        "outputId": "49ccbf63-3de5-4d35-a52e-a32fa2f73609"
      },
      "source": [
        "tf_test.shape"
      ],
      "execution_count": 186,
      "outputs": [
        {
          "output_type": "execute_result",
          "data": {
            "text/plain": [
              "(215, 1770)"
            ]
          },
          "metadata": {},
          "execution_count": 186
        }
      ]
    },
    {
      "cell_type": "code",
      "metadata": {
        "id": "xfajBx8bSC0x",
        "colab": {
          "base_uri": "https://localhost:8080/"
        },
        "outputId": "68873478-5f43-4ada-8ccf-67a0938e18f6"
      },
      "source": [
        "tf_train.shape"
      ],
      "execution_count": 187,
      "outputs": [
        {
          "output_type": "execute_result",
          "data": {
            "text/plain": [
              "(365, 1770)"
            ]
          },
          "metadata": {},
          "execution_count": 187
        }
      ]
    },
    {
      "cell_type": "code",
      "metadata": {
        "id": "Gd_dFyMnU4Nz"
      },
      "source": [
        "from mlxtend.plotting import plot_confusion_matrix\n",
        "import matplotlib.pyplot as plt\n",
        "import numpy as np\n",
        "\n",
        "from sklearn import metrics"
      ],
      "execution_count": 188,
      "outputs": []
    },
    {
      "cell_type": "code",
      "metadata": {
        "id": "CghAhytpjnIS",
        "colab": {
          "base_uri": "https://localhost:8080/"
        },
        "outputId": "9d4f693f-82b9-4b0b-a451-129fd960aeee"
      },
      "source": [
        "correctos = 0\n",
        "\n",
        "y_train = list(y_train)\n",
        "\n",
        "predicciones = []\n",
        "for i in range(len(tf_train)):\n",
        "  prediccion = objLogisticRegression.predict(tf_train[i])\n",
        "  #print(prediccion)\n",
        "  if (prediccion == y_train[i]):\n",
        "    correctos += 1\n",
        "\n",
        "  predicciones.append(prediccion)\n",
        "print(f'Accuraccy: {correctos/len(tf_train)}')"
      ],
      "execution_count": 189,
      "outputs": [
        {
          "output_type": "stream",
          "name": "stdout",
          "text": [
            "Accuraccy: 1.0\n"
          ]
        }
      ]
    },
    {
      "cell_type": "code",
      "metadata": {
        "colab": {
          "base_uri": "https://localhost:8080/",
          "height": 313
        },
        "id": "Qn6CnRKyULlY",
        "outputId": "4dde2568-41de-4b21-ee53-47e911d35d6d"
      },
      "source": [
        "cf = metrics.confusion_matrix(y_train,predicciones,labels = [1,0])\n",
        "print(cf)\n",
        "## this command is only for google collab \n",
        "## in the below figure \" 1 is actually showing -1 and 0 is actually showing 1\"\n",
        "fig, ax = plot_confusion_matrix(conf_mat = cf)\n",
        "                                \n",
        "## It canbe used in any platform\n",
        "# fig, ax = plot_confusion_matrix(conf_mat = cf, class_names = [1,-1])\n",
        "plt.show()"
      ],
      "execution_count": 190,
      "outputs": [
        {
          "output_type": "stream",
          "name": "stdout",
          "text": [
            "[[169   0]\n",
            " [  0 196]]\n"
          ]
        },
        {
          "output_type": "display_data",
          "data": {
            "image/png": "[encoded data removed]",
            "text/plain": [
              "<Figure size 432x288 with 1 Axes>"
            ]
          },
          "metadata": {
            "needs_background": "light"
          }
        }
      ]
    },
    {
      "cell_type": "code",
      "metadata": {
        "id": "tK3eyI-5NlRw",
        "colab": {
          "base_uri": "https://localhost:8080/"
        },
        "outputId": "0287b1a2-2469-44b9-a8a6-11cbf5785655"
      },
      "source": [
        "correctos = 0\n",
        "\n",
        "y_test = list(y_test)\n",
        "\n",
        "predicciones_test = []\n",
        "for i in range(len(tf_test)):\n",
        "  prediccion = objLogisticRegression.predict(tf_test[i])\n",
        "  #print(prediccion)\n",
        "  if (prediccion == y_test[i]):\n",
        "    correctos += 1\n",
        "\n",
        "  predicciones_test.append(prediccion)\n",
        "print(f'Accuraccy: {correctos/len(tf_test)}')"
      ],
      "execution_count": 191,
      "outputs": [
        {
          "output_type": "stream",
          "name": "stdout",
          "text": [
            "Accuraccy: 0.6744186046511628\n"
          ]
        }
      ]
    },
    {
      "cell_type": "code",
      "metadata": {
        "colab": {
          "base_uri": "https://localhost:8080/",
          "height": 313
        },
        "id": "4G0sz0wzUS14",
        "outputId": "f34d1dab-bb19-4699-f236-ae8a4a0fba4e"
      },
      "source": [
        "cf = metrics.confusion_matrix(y_test,predicciones_test,labels = [1,0])\n",
        "print(cf)\n",
        "## this command is only for google collab \n",
        "## in the below figure \" 1 is actually showing -1 and 0 is actually showing 1\"\n",
        "fig, ax = plot_confusion_matrix(conf_mat = cf)\n",
        "                                \n",
        "## It canbe used in any platform\n",
        "# fig, ax = plot_confusion_matrix(conf_mat = cf, class_names = [1,-1])\n",
        "plt.show()"
      ],
      "execution_count": 192,
      "outputs": [
        {
          "output_type": "stream",
          "name": "stdout",
          "text": [
            "[[73 30]\n",
            " [40 72]]\n"
          ]
        },
        {
          "output_type": "display_data",
          "data": {
            "image/png": "[encoded data removed]",
            "text/plain": [
              "<Figure size 432x288 with 1 Axes>"
            ]
          },
          "metadata": {
            "needs_background": "light"
          }
        }
      ]
    },
    {
      "cell_type": "code",
      "metadata": {
        "id": "TF6F8ExRikdK"
      },
      "source": [
        ""
      ],
      "execution_count": 192,
      "outputs": []
    },
    {
      "cell_type": "code",
      "metadata": {
        "colab": {
          "base_uri": "https://localhost:8080/"
        },
        "id": "eVYlxrwVmbbC",
        "outputId": "5dc0063c-94bd-4989-bda8-18fc6e5ea907"
      },
      "source": [
        "# Run the model:\n",
        "objLogisticRegression1 = LogisticRegression(alpha=0.1, maxIterations=3000,fitIntercept=False, verbose=True,optimisation=\"gradientAscent\");   # Initialise the regression.\n",
        "objLogisticRegression1.fit(X, y);                                 # Fit the regression.\n",
        "\n",
        "# Show the output:\n",
        "LogisticRegression.formattedOutput(objLogisticRegression=objLogisticRegression1);        # Show the formatted results."
      ],
      "execution_count": 193,
      "outputs": [
        {
          "output_type": "stream",
          "name": "stdout",
          "text": [
            "Iteration #:    1,000.  Cost: +0.3552\n",
            "Iteration #:    2,000.  Cost: +0.2583\n",
            "Iteration #:    3,000.  Cost: +0.2050\n",
            "Iteration #:    3,001.  Cost: +0.2050.\n",
            "Finished because maximum iterations reached. Using gradientAscent optimisation method.\n",
            "================================================================================\n",
            "LOGISTIC REGRESSION USING GRADIENTASCENT TERRMINATION RESULTS\n",
            "================================================================================\n",
            "Initial Weights were:             0.0, 0.0, 0.0.\n",
            "   With initial cost:       +0.693147.\n",
            "        # Iterations:          +3,001.    \n",
            "       Final weights:    theta0:+0.00, theta1:-0.18, theta02:+0.356.\n",
            "          Final cost:       +0.204978.\n",
            "================================================================================\n"
          ]
        }
      ]
    },
    {
      "cell_type": "code",
      "metadata": {
        "colab": {
          "base_uri": "https://localhost:8080/"
        },
        "id": "9dYnqpzLmbdO",
        "outputId": "5e4ac2d2-9591-4c4e-cc9d-44c98606582c"
      },
      "source": [
        "correctos = 0\n",
        "\n",
        "y_train = list(y_train)\n",
        "\n",
        "predicciones = []\n",
        "for i in range(len(tf_train)):\n",
        "  prediccion = objLogisticRegression1.predict(tf_train[i])\n",
        "  #print(prediccion)\n",
        "  if (prediccion == y_train[i]):\n",
        "    correctos += 1\n",
        "\n",
        "  predicciones.append(prediccion)\n",
        "print(f'Accuraccy: {correctos/len(tf_train)}')"
      ],
      "execution_count": 194,
      "outputs": [
        {
          "output_type": "stream",
          "name": "stdout",
          "text": [
            "Accuraccy: 0.989041095890411\n"
          ]
        }
      ]
    },
    {
      "cell_type": "code",
      "metadata": {
        "id": "btbXdCJtUVLK",
        "outputId": "85716a20-f200-4c68-bd9d-cac1151b2aca",
        "colab": {
          "base_uri": "https://localhost:8080/",
          "height": 313
        }
      },
      "source": [
        "cf = metrics.confusion_matrix(y_train,predicciones,labels = [1,0])\n",
        "print(cf)\n",
        "## this command is only for google collab \n",
        "## in the below figure \" 1 is actually showing -1 and 0 is actually showing 1\"\n",
        "fig, ax = plot_confusion_matrix(conf_mat = cf)\n",
        "                                \n",
        "## It canbe used in any platform\n",
        "# fig, ax = plot_confusion_matrix(conf_mat = cf, class_names = [1,-1])\n",
        "plt.show()"
      ],
      "execution_count": 195,
      "outputs": [
        {
          "output_type": "stream",
          "name": "stdout",
          "text": [
            "[[169   0]\n",
            " [  4 192]]\n"
          ]
        },
        {
          "output_type": "display_data",
          "data": {
            "image/png": "[encoded data removed]",
            "text/plain": [
              "<Figure size 432x288 with 1 Axes>"
            ]
          },
          "metadata": {
            "needs_background": "light"
          }
        }
      ]
    },
    {
      "cell_type": "code",
      "metadata": {
        "colab": {
          "base_uri": "https://localhost:8080/"
        },
        "id": "ghQSOeIqmbfH",
        "outputId": "3900eb6b-3d38-40d0-adbf-0ec9443d92b3"
      },
      "source": [
        "correctos = 0\n",
        "\n",
        "y_test = list(y_test)\n",
        "\n",
        "predicciones_test = []\n",
        "for i in range(len(tf_test)):\n",
        "  prediccion = objLogisticRegression1.predict(tf_test[i])\n",
        "  #print(prediccion)\n",
        "  if (prediccion == y_test[i]):\n",
        "    correctos += 1\n",
        "\n",
        "  predicciones_test.append(prediccion)\n",
        "print(f'Accuraccy: {correctos/len(tf_test)}')"
      ],
      "execution_count": 196,
      "outputs": [
        {
          "output_type": "stream",
          "name": "stdout",
          "text": [
            "Accuraccy: 0.7674418604651163\n"
          ]
        }
      ]
    },
    {
      "cell_type": "code",
      "metadata": {
        "id": "VPTNvPnbUWMS",
        "outputId": "c0f7299d-b973-48f4-d108-b6d90f149686",
        "colab": {
          "base_uri": "https://localhost:8080/",
          "height": 313
        }
      },
      "source": [
        "cf = metrics.confusion_matrix(y_test,predicciones_test,labels = [1,0])\n",
        "print(cf)\n",
        "## this command is only for google collab \n",
        "## in the below figure \" 1 is actually showing -1 and 0 is actually showing 1\"\n",
        "fig, ax = plot_confusion_matrix(conf_mat = cf)\n",
        "                                \n",
        "## It canbe used in any platform\n",
        "# fig, ax = plot_confusion_matrix(conf_mat = cf, class_names = [1,-1])\n",
        "plt.show()"
      ],
      "execution_count": 197,
      "outputs": [
        {
          "output_type": "stream",
          "name": "stdout",
          "text": [
            "[[80 23]\n",
            " [27 85]]\n"
          ]
        },
        {
          "output_type": "display_data",
          "data": {
            "image/png": "[encoded data removed]",
            "text/plain": [
              "<Figure size 432x288 with 1 Axes>"
            ]
          },
          "metadata": {
            "needs_background": "light"
          }
        }
      ]
    },
    {
      "cell_type": "code",
      "metadata": {
        "id": "KySCOjfdeLQY"
      },
      "source": [
        ""
      ],
      "execution_count": 197,
      "outputs": []
    },
    {
      "cell_type": "code",
      "metadata": {
        "colab": {
          "base_uri": "https://localhost:8080/"
        },
        "id": "JZ6BQuCDJPl1",
        "outputId": "4fc3f4f9-6709-4518-fcf1-c0cc78b485a0"
      },
      "source": [
        "# Run the model:\n",
        "objLogisticRegression2 = LogisticRegression(alpha=0.1, maxIterations=3000,fitIntercept=False, verbose=True,optimisation=\"gradientAscent2\");   # Initialise the regression.\n",
        "objLogisticRegression2.fit(X, y);                                 # Fit the regression.\n",
        "\n",
        "# Show the output:\n",
        "LogisticRegression.formattedOutput(objLogisticRegression=objLogisticRegression2);        # Show the formatted results."
      ],
      "execution_count": 198,
      "outputs": [
        {
          "output_type": "stream",
          "name": "stderr",
          "text": [
            "/usr/local/lib/python3.7/dist-packages/ipykernel_launcher.py:36: RuntimeWarning: overflow encountered in exp\n",
            "/usr/local/lib/python3.7/dist-packages/ipykernel_launcher.py:43: RuntimeWarning: divide by zero encountered in log\n",
            "/usr/local/lib/python3.7/dist-packages/ipykernel_launcher.py:187: RuntimeWarning: invalid value encountered in double_scalars\n"
          ]
        },
        {
          "output_type": "stream",
          "name": "stdout",
          "text": [
            "Iteration #:    1,000.  Cost:    +inf\n",
            "Iteration #:    2,000.  Cost:    +inf\n",
            "Iteration #:    3,000.  Cost:    +inf\n",
            "Iteration #:    3,001.  Cost:    +inf.\n",
            "Finished because maximum iterations reached. Using gradientAscent2 optimisation method.\n",
            "================================================================================\n",
            "LOGISTIC REGRESSION USING GRADIENTASCENT2 TERRMINATION RESULTS\n",
            "================================================================================\n",
            "Initial Weights were:             0.0, 0.0, 0.0.\n",
            "   With initial cost:       +0.693147.\n",
            "        # Iterations:          +3,001.    \n",
            "       Final weights:    theta0:+0.00, theta1:-299.97, theta02:-299.839.\n",
            "          Final cost:            +inf.\n",
            "================================================================================\n"
          ]
        }
      ]
    },
    {
      "cell_type": "code",
      "metadata": {
        "id": "uFpHsjOeJd2s",
        "colab": {
          "base_uri": "https://localhost:8080/"
        },
        "outputId": "39bd0317-d213-4517-870b-28542dcf804b"
      },
      "source": [
        "correctos = 0\n",
        "\n",
        "y_train = list(y_train)\n",
        "\n",
        "predicciones = []\n",
        "for i in range(len(tf_train)):\n",
        "  prediccion = objLogisticRegression2.predict(tf_train[i])\n",
        "  #print(prediccion)\n",
        "  if (prediccion == y_train[i]):\n",
        "    correctos += 1\n",
        "\n",
        "  predicciones.append(prediccion)\n",
        "print(f'Accuraccy: {correctos/len(tf_train)}')"
      ],
      "execution_count": 199,
      "outputs": [
        {
          "output_type": "stream",
          "name": "stdout",
          "text": [
            "Accuraccy: 0.4931506849315068\n"
          ]
        },
        {
          "output_type": "stream",
          "name": "stderr",
          "text": [
            "/usr/local/lib/python3.7/dist-packages/ipykernel_launcher.py:36: RuntimeWarning: overflow encountered in exp\n"
          ]
        }
      ]
    },
    {
      "cell_type": "code",
      "metadata": {
        "id": "LB8NaWuvUYQD",
        "outputId": "60d2ea9b-9e7c-45ed-8422-e1063a85322e",
        "colab": {
          "base_uri": "https://localhost:8080/",
          "height": 313
        }
      },
      "source": [
        "cf = metrics.confusion_matrix(y_train,predicciones,labels = [1,0])\n",
        "print(cf)\n",
        "## this command is only for google collab \n",
        "## in the below figure \" 1 is actually showing -1 and 0 is actually showing 1\"\n",
        "fig, ax = plot_confusion_matrix(conf_mat = cf)\n",
        "                                \n",
        "## It canbe used in any platform\n",
        "# fig, ax = plot_confusion_matrix(conf_mat = cf, class_names = [1,-1])\n",
        "plt.show()"
      ],
      "execution_count": 200,
      "outputs": [
        {
          "output_type": "stream",
          "name": "stdout",
          "text": [
            "[[  0 169]\n",
            " [ 16 180]]\n"
          ]
        },
        {
          "output_type": "display_data",
          "data": {
            "image/png": "[encoded data removed]",
            "text/plain": [
              "<Figure size 432x288 with 1 Axes>"
            ]
          },
          "metadata": {
            "needs_background": "light"
          }
        }
      ]
    },
    {
      "cell_type": "code",
      "metadata": {
        "id": "EJ_9LPYnJqdU",
        "colab": {
          "base_uri": "https://localhost:8080/"
        },
        "outputId": "6be2a3ae-d261-4751-d788-6e66dd97786d"
      },
      "source": [
        "correctos = 0\n",
        "\n",
        "y_test = list(y_test)\n",
        "\n",
        "predicciones_test = []\n",
        "for i in range(len(tf_test)):\n",
        "  prediccion = objLogisticRegression2.predict(tf_test[i])\n",
        "  #print(prediccion)\n",
        "  if (prediccion == y_test[i]):\n",
        "    correctos += 1\n",
        "\n",
        "  predicciones_test.append(prediccion)\n",
        "print(f'Accuraccy: {correctos/len(tf_test)}')"
      ],
      "execution_count": 201,
      "outputs": [
        {
          "output_type": "stream",
          "name": "stdout",
          "text": [
            "Accuraccy: 0.5162790697674419\n"
          ]
        },
        {
          "output_type": "stream",
          "name": "stderr",
          "text": [
            "/usr/local/lib/python3.7/dist-packages/ipykernel_launcher.py:36: RuntimeWarning: overflow encountered in exp\n"
          ]
        }
      ]
    },
    {
      "cell_type": "code",
      "metadata": {
        "id": "8NW6sQaoUZMp",
        "outputId": "8621e119-9aed-4010-f429-59d25a2b317d",
        "colab": {
          "base_uri": "https://localhost:8080/",
          "height": 313
        }
      },
      "source": [
        "cf = metrics.confusion_matrix(y_test,predicciones_test,labels = [1,0])\n",
        "print(cf)\n",
        "## this command is only for google collab \n",
        "## in the below figure \" 1 is actually showing -1 and 0 is actually showing 1\"\n",
        "fig, ax = plot_confusion_matrix(conf_mat = cf)\n",
        "                                \n",
        "## It canbe used in any platform\n",
        "# fig, ax = plot_confusion_matrix(conf_mat = cf, class_names = [1,-1])\n",
        "plt.show()"
      ],
      "execution_count": 202,
      "outputs": [
        {
          "output_type": "stream",
          "name": "stdout",
          "text": [
            "[[  0 103]\n",
            " [  1 111]]\n"
          ]
        },
        {
          "output_type": "display_data",
          "data": {
            "image/png": "[encoded data removed]",
            "text/plain": [
              "<Figure size 432x288 with 1 Axes>"
            ]
          },
          "metadata": {
            "needs_background": "light"
          }
        }
      ]
    },
    {
      "cell_type": "code",
      "metadata": {
        "id": "ACStg3hMXvG_",
        "outputId": "2b0fd8dc-41ed-40cc-9d8d-e700d68b21fe",
        "colab": {
          "base_uri": "https://localhost:8080/"
        }
      },
      "source": [
        "objLogisticRegression.costHistory"
      ],
      "execution_count": 203,
      "outputs": [
        {
          "output_type": "execute_result",
          "data": {
            "text/plain": [
              "[0.6931471805599467,\n",
              " 0.12762142547559563,\n",
              " 0.0435421466772198,\n",
              " 0.017110745630777746,\n",
              " 0.008894873480585517]"
            ]
          },
          "metadata": {},
          "execution_count": 203
        }
      ]
    },
    {
      "cell_type": "code",
      "metadata": {
        "id": "e-Woyq0RXvL7",
        "outputId": "40548217-d121-46a2-81cf-3142b427af77",
        "colab": {
          "base_uri": "https://localhost:8080/"
        }
      },
      "source": [
        "objLogisticRegression1.costHistory"
      ],
      "execution_count": 204,
      "outputs": [
        {
          "output_type": "execute_result",
          "data": {
            "text/plain": [
              "[0.6931471805599467,\n",
              " 0.6900615711116432,\n",
              " 0.6872999653539363,\n",
              " 0.6847946414651815,\n",
              " 0.682491976024207,\n",
              " 0.6803519510217022,\n",
              " 0.6783451185413948,\n",
              " 0.6764496130438086,\n",
              " 0.6746488835066212,\n",
              " 0.672930115750619,\n",
              " 0.6712831642304453,\n",
              " 0.6696998292398364,\n",
              " 0.6681733619858304,\n",
              " 0.6666981196005056,\n",
              " 0.6652693197299447,\n",
              " 0.6638828622618899,\n",
              " 0.662535197138254,\n",
              " 0.6612232244082153,\n",
              " 0.6599442172732941,\n",
              " 0.6586957618395651,\n",
              " 0.6574757092307274,\n",
              " 0.6562821370034864,\n",
              " 0.6551133176759273,\n",
              " 0.653967692775685,\n",
              " 0.6528438512302039,\n",
              " 0.6517405112153601,\n",
              " 0.6506565047899898,\n",
              " 0.6495907647978163,\n",
              " 0.6485423136320826,\n",
              " 0.6475102535434244,\n",
              " 0.6464937582361134,\n",
              " 0.6454920655474247,\n",
              " 0.6445044710433169,\n",
              " 0.6435303223937955,\n",
              " 0.642569014415179,\n",
              " 0.6416199846855669,\n",
              " 0.6406827096551354,\n",
              " 0.6397567011853861,\n",
              " 0.6388415034616062,\n",
              " 0.6379366902312256,\n",
              " 0.6370418623276607,\n",
              " 0.6361566454450304,\n",
              " 0.6352806881339521,\n",
              " 0.6344136599927018,\n",
              " 0.6335552500314486,\n",
              " 0.6327051651902024,\n",
              " 0.6318631289935751,\n",
              " 0.6310288803276138,\n",
              " 0.6302021723257405,\n",
              " 0.6293827713524481,\n",
              " 0.6285704560747191,\n",
              " 0.6277650166123329,\n",
              " 0.6269662537592234,\n",
              " 0.6261739782689592,\n",
              " 0.6253880101981606,\n",
              " 0.6246081783023876,\n",
              " 0.6238343194795811,\n",
              " 0.623066278256686,\n",
              " 0.622303906315557,\n",
              " 0.6215470620546087,\n",
              " 0.6207956101830864,\n",
              " 0.6200494213450932,\n",
              " 0.619308371770843,\n",
              " 0.6185723429528256,\n",
              " 0.6178412213447971,\n",
              " 0.6171148980817304,\n",
              " 0.6163932687189959,\n",
              " 0.6156762329892472,\n",
              " 0.6149636945755943,\n",
              " 0.6142555608997969,\n",
              " 0.6135517429243014,\n",
              " 0.6128521549670708,\n",
              " 0.6121567145282464,\n",
              " 0.6114653421277376,\n",
              " 0.6107779611529549,\n",
              " 0.6100944977159263,\n",
              " 0.6094148805191356,\n",
              " 0.6087390407294471,\n",
              " 0.6080669118595556,\n",
              " 0.6073984296564244,\n",
              " 0.6067335319962472,\n",
              " 0.6060721587854666,\n",
              " 0.6054142518674558,\n",
              " 0.6047597549344762,\n",
              " 0.6041086134445655,\n",
              " 0.6034607745430305,\n",
              " 0.602816186988247,\n",
              " 0.6021748010814918,\n",
              " 0.6015365686005459,\n",
              " 0.6009014427368387,\n",
              " 0.600269378035899,\n",
              " 0.5996403303409307,\n",
              " 0.5990142567392951,\n",
              " 0.5983911155117452,\n",
              " 0.5977708660842368,\n",
              " 0.5971534689821643,\n",
              " 0.5965388857868781,\n",
              " 0.5959270790943526,\n",
              " 0.5953180124758799,\n",
              " 0.5947116504406622,\n",
              " 0.5941079584002208,\n",
              " 0.5935069026344857,\n",
              " 0.5929084502595002,\n",
              " 0.5923125691966302,\n",
              " 0.5917192281432164,\n",
              " 0.5911283965445645,\n",
              " 0.590540044567224,\n",
              " 0.5899541430734808,\n",
              " 0.589370663596984,\n",
              " 0.5887895783194685,\n",
              " 0.588210860048504,\n",
              " 0.5876344821962192,\n",
              " 0.5870604187589452,\n",
              " 0.5864886442977484,\n",
              " 0.5859191339197851,\n",
              " 0.5853518632604519,\n",
              " 0.5847868084662874,\n",
              " 0.5842239461785879,\n",
              " 0.5836632535177011,\n",
              " 0.5831047080679621,\n",
              " 0.5825482878632523,\n",
              " 0.5819939713731327,\n",
              " 0.5814417374895412,\n",
              " 0.5808915655140133,\n",
              " 0.5803434351454145,\n",
              " 0.5797973264681483,\n",
              " 0.5792532199408262,\n",
              " 0.5787110963853731,\n",
              " 0.5781709369765526,\n",
              " 0.5776327232318862,\n",
              " 0.5770964370019577,\n",
              " 0.5765620604610777,\n",
              " 0.5760295760982979,\n",
              " 0.5754989667087483,\n",
              " 0.5749702153853062,\n",
              " 0.5744433055105528,\n",
              " 0.573918220749026,\n",
              " 0.5733949450397555,\n",
              " 0.5728734625890526,\n",
              " 0.57235375786356,\n",
              " 0.5718358155835431,\n",
              " 0.5713196207164193,\n",
              " 0.5708051584704977,\n",
              " 0.5702924142889453,\n",
              " 0.5697813738439519,\n",
              " 0.5692720230310921,\n",
              " 0.568764347963876,\n",
              " 0.5682583349684818,\n",
              " 0.5677539705786554,\n",
              " 0.56725124153079,\n",
              " 0.5667501347591499,\n",
              " 0.5662506373912577,\n",
              " 0.5657527367434251,\n",
              " 0.5652564203164278,\n",
              " 0.5647616757913112,\n",
              " 0.5642684910253354,\n",
              " 0.5637768540480388,\n",
              " 0.5632867530574215,\n",
              " 0.562798176416256,\n",
              " 0.5623111126484955,\n",
              " 0.561825550435801,\n",
              " 0.5613414786141667,\n",
              " 0.5608588861706446,\n",
              " 0.5603777622401728,\n",
              " 0.5598980961024842,\n",
              " 0.5594198771791165,\n",
              " 0.5589430950305003,\n",
              " 0.5584677393531331,\n",
              " 0.5579937999768364,\n",
              " 0.5575212668620811,\n",
              " 0.557050130097399,\n",
              " 0.5565803798968532,\n",
              " 0.5561120065975924,\n",
              " 0.5556450006574568,\n",
              " 0.5551793526526628,\n",
              " 0.5547150532755398,\n",
              " 0.5542520933323297,\n",
              " 0.5537904637410506,\n",
              " 0.5533301555294056,\n",
              " 0.5528711598327604,\n",
              " 0.5524134678921571,\n",
              " 0.5519570710523926,\n",
              " 0.5515019607601401,\n",
              " 0.5510481285621158,\n",
              " 0.5505955661032981,\n",
              " 0.5501442651251859,\n",
              " 0.5496942174641036,\n",
              " 0.5492454150495443,\n",
              " 0.548797849902556,\n",
              " 0.5483515141341669,\n",
              " 0.5479063999438474,\n",
              " 0.5474624996180109,\n",
              " 0.5470198055285435,\n",
              " 0.5465783101313829,\n",
              " 0.5461380059651113,\n",
              " 0.5456988856495969,\n",
              " 0.54526094188466,\n",
              " 0.5448241674487669,\n",
              " 0.5443885551977633,\n",
              " 0.5439540980636223,\n",
              " 0.5435207890532346,\n",
              " 0.5430886212472146,\n",
              " 0.5426575877987425,\n",
              " 0.5422276819324203,\n",
              " 0.5417988969431644,\n",
              " 0.5413712261951169,\n",
              " 0.5409446631205759,\n",
              " 0.5405192012189581,\n",
              " 0.540094834055778,\n",
              " 0.5396715552616457,\n",
              " 0.5392493585312943,\n",
              " 0.5388282376226174,\n",
              " 0.5384081863557355,\n",
              " 0.537989198612077,\n",
              " 0.5375712683334745,\n",
              " 0.5371543895212892,\n",
              " 0.5367385562355456,\n",
              " 0.5363237625940832,\n",
              " 0.5359100027717272,\n",
              " 0.5354972709994787,\n",
              " 0.5350855615637143,\n",
              " 0.5346748688054058,\n",
              " 0.5342651871193527,\n",
              " 0.5338565109534344,\n",
              " 0.5334488348078662,\n",
              " 0.533042153234484,\n",
              " 0.5326364608360277,\n",
              " 0.5322317522654497,\n",
              " 0.5318280222252307,\n",
              " 0.5314252654667078,\n",
              " 0.5310234767894179,\n",
              " 0.5306226510404515,\n",
              " 0.5302227831138184,\n",
              " 0.5298238679498256,\n",
              " 0.5294259005344639,\n",
              " 0.529028875898811,\n",
              " 0.5286327891184374,\n",
              " 0.528237635312832,\n",
              " 0.5278434096448285,\n",
              " 0.5274501073200503,\n",
              " 0.5270577235863573,\n",
              " 0.5266662537333104,\n",
              " 0.5262756930916377,\n",
              " 0.5258860370327146,\n",
              " 0.5254972809680523,\n",
              " 0.5251094203487918,\n",
              " 0.5247224506652105,\n",
              " 0.5243363674462344,\n",
              " 0.5239511662589611,\n",
              " 0.5235668427081874,\n",
              " 0.5231833924359445,\n",
              " 0.5228008111210488,\n",
              " 0.5224190944786472,\n",
              " 0.5220382382597809,\n",
              " 0.521658238250949,\n",
              " 0.5212790902736868,\n",
              " 0.5209007901841406,\n",
              " 0.5205233338726567,\n",
              " 0.5201467172633796,\n",
              " 0.5197709363138444,\n",
              " 0.519395987014589,\n",
              " 0.5190218653887648,\n",
              " 0.5186485674917559,\n",
              " 0.518276089410803,\n",
              " 0.517904427264634,\n",
              " 0.5175335772031,\n",
              " 0.5171635354068188,\n",
              " 0.5167942980868184,\n",
              " 0.5164258614841932,\n",
              " 0.51605822186976,\n",
              " 0.5156913755437214,\n",
              " 0.5153253188353323,\n",
              " 0.5149600481025752,\n",
              " 0.5145955597318376,\n",
              " 0.5142318501375912,\n",
              " 0.5138689157620855,\n",
              " 0.5135067530750329,\n",
              " 0.5131453585733112,\n",
              " 0.5127847287806574,\n",
              " 0.5124248602473813,\n",
              " 0.512065749550066,\n",
              " 0.5117073932912892,\n",
              " 0.5113497880993358,\n",
              " 0.5109929306279217,\n",
              " 0.5106368175559195,\n",
              " 0.5102814455870858,\n",
              " 0.5099268114497989,\n",
              " 0.509572911896791,\n",
              " 0.5092197437048919,\n",
              " 0.5088673036747741,\n",
              " 0.5085155886306971,\n",
              " 0.5081645954202629,\n",
              " 0.5078143209141688,\n",
              " 0.507464762005965,\n",
              " 0.5071159156118176,\n",
              " 0.5067677786702737,\n",
              " 0.5064203481420269,\n",
              " 0.5060736210096896,\n",
              " 0.5057275942775697,\n",
              " 0.5053822649714452,\n",
              " 0.5050376301383437,\n",
              " 0.5046936868463279,\n",
              " 0.5043504321842797,\n",
              " 0.5040078632616899,\n",
              " 0.5036659772084516,\n",
              " 0.503324771174652,\n",
              " 0.5029842423303683,\n",
              " 0.5026443878654737,\n",
              " 0.5023052049894314,\n",
              " 0.5019666909311068,\n",
              " 0.5016288429385708,\n",
              " 0.5012916582789109,\n",
              " 0.5009551342380435,\n",
              " 0.500619268120529,\n",
              " 0.5002840572493893,\n",
              " 0.49994949896592583,\n",
              " 0.4996155906295421,\n",
              " 0.49928232961756785,\n",
              " 0.4989497133250877,\n",
              " 0.49861773916476404,\n",
              " 0.4982864045666717,\n",
              " 0.4979557069781312,\n",
              " 0.49762564386354113,\n",
              " 0.4972962127042155,\n",
              " 0.49696741099822384,\n",
              " 0.4966392362602323,\n",
              " 0.4963116860213426,\n",
              " 0.4959847578289424,\n",
              " 0.4956584492465477,\n",
              " 0.49533275785365505,\n",
              " 0.4950076812455873,\n",
              " 0.49468321703334983,\n",
              " 0.49435936284348214,\n",
              " 0.4940361163179148,\n",
              " 0.4937134751138252,\n",
              " 0.4933914369035019,\n",
              " 0.4930699993741957,\n",
              " 0.4927491602279942,\n",
              " 0.4924289171816759,\n",
              " 0.4921092679665807,\n",
              " 0.49179021032847686,\n",
              " 0.4914717420274298,\n",
              " 0.4911538608376718,\n",
              " 0.4908365645474742,\n",
              " 0.4905198509590214,\n",
              " 0.4902037178882864,\n",
              " 0.4898881631649043,\n",
              " 0.48957318463205446,\n",
              " 0.48925878014633534,\n",
              " 0.48894494757764906,\n",
              " 0.48863168480908,\n",
              " 0.48831898973678134,\n",
              " 0.4880068602698564,\n",
              " 0.4876952943302489,\n",
              " 0.4873842898526246,\n",
              " 0.4870738447842664,\n",
              " 0.48676395708495884,\n",
              " 0.4864546247268815,\n",
              " 0.4861458456945017,\n",
              " 0.4858376179844678,\n",
              " 0.4855299396055029,\n",
              " 0.4852228085783003,\n",
              " 0.4849162229354239,\n",
              " 0.48461018072120277,\n",
              " 0.484304679991633,\n",
              " 0.4839997188142764,\n",
              " 0.48369529526816196,\n",
              " 0.4833914074436912,\n",
              " 0.4830880534425371,\n",
              " 0.4827852313775551,\n",
              " 0.4824829393726834,\n",
              " 0.4821811755628521,\n",
              " 0.48187993809389024,\n",
              " 0.4815792251224379,\n",
              " 0.48127903481585,\n",
              " 0.48097936535211283,\n",
              " 0.48068021491975194,\n",
              " 0.48038158171774714,\n",
              " 0.4800834639554461,\n",
              " 0.4797858598524765,\n",
              " 0.47948876763866455,\n",
              " 0.47919218555394943,\n",
              " 0.4788961118483009,\n",
              " 0.4786005447816385,\n",
              " 0.4783054826237483,\n",
              " 0.47801092365420567,\n",
              " 0.4777168661622946,\n",
              " 0.4774233084469278,\n",
              " 0.4771302488165711,\n",
              " 0.47683768558916695,\n",
              " 0.4765456170920553,\n",
              " 0.47625404166190194,\n",
              " 0.475962957644622,\n",
              " 0.4756723633953066,\n",
              " 0.47538225727815137,\n",
              " 0.47509263766638027,\n",
              " 0.47480350294218027,\n",
              " 0.47451485149662337,\n",
              " 0.4742266817296039,\n",
              " 0.47393899204976525,\n",
              " 0.4736517808744298,\n",
              " 0.4733650466295352,\n",
              " 0.4730787877495637,\n",
              " 0.47279300267747915,\n",
              " 0.47250768986465586,\n",
              " 0.47222284777081985,\n",
              " 0.4719384748639784,\n",
              " 0.471654569620362,\n",
              " 0.4713711305243549,\n",
              " 0.4710881560684378,\n",
              " 0.47080564475312203,\n",
              " 0.4705235950868925,\n",
              " 0.4702420055861406,\n",
              " 0.4699608747751111,\n",
              " 0.4696802011858375,\n",
              " 0.4693999833580851,\n",
              " 0.4691202198392924,\n",
              " 0.46884090918451393,\n",
              " 0.46856204995636147,\n",
              " 0.4682836407249472,\n",
              " 0.46800568006782955,\n",
              " 0.46772816656995836,\n",
              " 0.4674510988236143,\n",
              " 0.4671744754283614,\n",
              " 0.46689829499098673,\n",
              " 0.46662255612545145,\n",
              " 0.4663472574528371,\n",
              " 0.4660723976012919,\n",
              " 0.4657979752059765,\n",
              " 0.4655239889090185,\n",
              " 0.4652504373594574,\n",
              " 0.4649773192131948,\n",
              " 0.4647046331329429,\n",
              " 0.4644323777881793,\n",
              " 0.46416055185509275,\n",
              " 0.4638891540165388,\n",
              " 0.46361818296198887,\n",
              " 0.46334763738748425,\n",
              " 0.46307751599558655,\n",
              " 0.4628078174953351,\n",
              " 0.46253854060219446,\n",
              " 0.46226968403801666,\n",
              " 0.4620012465309854,\n",
              " 0.4617332268155817,\n",
              " 0.4614656236325299,\n",
              " 0.46119843572876185,\n",
              " 0.4609316618573649,\n",
              " 0.46066530077754453,\n",
              " 0.4603993512545787,\n",
              " 0.46013381205977555,\n",
              " 0.4598686819704318,\n",
              " 0.4596039597697884,\n",
              " 0.4593396442469926,\n",
              " 0.4590757341970555,\n",
              " 0.45881222842081015,\n",
              " 0.4585491257248712,\n",
              " 0.4582864249215972,\n",
              " 0.4580241248290487,\n",
              " 0.4577622242709503,\n",
              " 0.45750072207664844,\n",
              " 0.4572396170810788,\n",
              " 0.45697890812472425,\n",
              " 0.4567185940535748,\n",
              " 0.4564586737190943,\n",
              " 0.45619914597818234,\n",
              " 0.4559400096931352,\n",
              " 0.45568126373161094,\n",
              " 0.45542290696659227,\n",
              " 0.45516493827635207,\n",
              " 0.45490735654441666,\n",
              " 0.4546501606595295,\n",
              " 0.45439334951561855,\n",
              " 0.45413692201176004,\n",
              " 0.45388087705214436,\n",
              " 0.4536252135460413,\n",
              " 0.45336993040776863,\n",
              " 0.4531150265566546,\n",
              " 0.45286050091700925,\n",
              " 0.4526063524180885,\n",
              " 0.4523525799940609,\n",
              " 0.45209918258397913,\n",
              " 0.4518461591317446,\n",
              " 0.45159350858607467,\n",
              " 0.45134122990047487,\n",
              " 0.4510893220332057,\n",
              " 0.45083778394725144,\n",
              " 0.4505866146102883,\n",
              " 0.45033581299465686,\n",
              " 0.4500853780773302,\n",
              " 0.4498353088398821,\n",
              " 0.4495856042684623,\n",
              " 0.4493362633537604,\n",
              " 0.44908728509098406,\n",
              " 0.44883866847982323,\n",
              " 0.4485904125244253,\n",
              " 0.44834251623336563,\n",
              " 0.4480949786196209,\n",
              " 0.4478477987005368,\n",
              " 0.44760097549780536,\n",
              " 0.447354508037434,\n",
              " 0.4471083953497201,\n",
              " 0.44686263646922125,\n",
              " 0.4466172304347337,\n",
              " 0.4463721762892582,\n",
              " 0.4461274730799811,\n",
              " 0.4458831198582427,\n",
              " 0.44563911567951403,\n",
              " 0.44539545960336946,\n",
              " 0.4451521506934638,\n",
              " 0.4449091880175024,\n",
              " 0.4446665706472214,\n",
              " 0.44442429765835767,\n",
              " 0.44418236813062806,\n",
              " 0.44394078114770286,\n",
              " 0.4436995357971819,\n",
              " 0.44345863117057005,\n",
              " 0.4432180663632538,\n",
              " 0.4429778404744773,\n",
              " 0.44273795260731774,\n",
              " 0.4424984018686639,\n",
              " 0.44225918736919306,\n",
              " 0.4420203082233441,\n",
              " 0.44178176354929916,\n",
              " 0.44154355246896,\n",
              " 0.4413056741079233,\n",
              " 0.44106812759546066,\n",
              " 0.44083091206449626,\n",
              " 0.44059402665158226,\n",
              " 0.4403574704968813,\n",
              " 0.4401212427441424,\n",
              " 0.4398853425406793,\n",
              " 0.4396497690373488,\n",
              " 0.4394145213885327,\n",
              " 0.43917959875211315,\n",
              " 0.43894500028945477,\n",
              " 0.43871072516538145,\n",
              " 0.4384767725481583,\n",
              " 0.4382431416094687,\n",
              " 0.4380098315243982,\n",
              " 0.43777684147141055,\n",
              " 0.4375441706323291,\n",
              " 0.43731181819231785,\n",
              " 0.43707978333986225,\n",
              " 0.4368480652667475,\n",
              " 0.43661666316804243,\n",
              " 0.4363855762420783,\n",
              " 0.43615480369043036,\n",
              " 0.4359243447178986,\n",
              " 0.43569419853249186,\n",
              " 0.4354643643454044,\n",
              " 0.4352348413710015,\n",
              " 0.4350056288268006,\n",
              " 0.43477672593345174,\n",
              " 0.43454813191472075,\n",
              " 0.43431984599747137,\n",
              " 0.4340918674116473,\n",
              " 0.4338641953902533,\n",
              " 0.43363682916934165,\n",
              " 0.43340976798799113,\n",
              " 0.4331830110882917,\n",
              " 0.43295655771532493,\n",
              " 0.4327304071171513,\n",
              " 0.43250455854479025,\n",
              " 0.43227901125220414,\n",
              " 0.43205376449628385,\n",
              " 0.43182881753682734,\n",
              " 0.431604169636529,\n",
              " 0.43137982006096004,\n",
              " 0.4311557680785535,\n",
              " 0.43093201296058936,\n",
              " 0.4307085539811755,\n",
              " 0.43048539041723577,\n",
              " 0.43026252154849154,\n",
              " 0.43003994665744805,\n",
              " 0.42981766502937885,\n",
              " 0.42959567595230924,\n",
              " 0.42937397871700167,\n",
              " 0.42915257261694273,\n",
              " 0.42893145694832435,\n",
              " 0.4287106310100326,\n",
              " 0.4284900941036307,\n",
              " 0.42826984553334524,\n",
              " 0.4280498846060527,\n",
              " 0.4278302106312636,\n",
              " 0.4276108229211064,\n",
              " 0.42739172079031873,\n",
              " 0.42717290355622956,\n",
              " 0.4269543705387429,\n",
              " 0.426736121060331,\n",
              " 0.4265181544460112,\n",
              " 0.4263004700233425,\n",
              " 0.426083067122404,\n",
              " 0.42586594507578396,\n",
              " 0.42564910321856814,\n",
              " 0.4254325408883232,\n",
              " 0.4252162574250863,\n",
              " 0.42500025217135157,\n",
              " 0.4247845244720542,\n",
              " 0.42456907367456165,\n",
              " 0.4243538991286591,\n",
              " 0.4241390001865348,\n",
              " 0.4239243762027694,\n",
              " 0.4237100265343231,\n",
              " 0.4234959505405249,\n",
              " 0.4232821475830545,\n",
              " 0.42306861702593723,\n",
              " 0.42285535823552634,\n",
              " 0.42264237058049353,\n",
              " 0.4224296534318165,\n",
              " 0.42221720616276565,\n",
              " 0.4220050281488944,\n",
              " 0.4217931187680247,\n",
              " 0.4215814774002373,\n",
              " 0.4213701034278595,\n",
              " 0.4211589962354539,\n",
              " 0.420948155209806,\n",
              " 0.42073757973991216,\n",
              " 0.42052726921697225,\n",
              " 0.4203172230343725,\n",
              " 0.42010744058767807,\n",
              " 0.4198979212746226,\n",
              " 0.41968866449509357,\n",
              " 0.41947966965112365,\n",
              " 0.4192709361468815,\n",
              " 0.4190624633886554,\n",
              " 0.4188542507848502,\n",
              " 0.41864629774596934,\n",
              " 0.41843860368460883,\n",
              " 0.41823116801544424,\n",
              " 0.41802399015522207,\n",
              " 0.4178170695227483,\n",
              " 0.4176104055388776,\n",
              " 0.4174039976265044,\n",
              " 0.4171978452105514,\n",
              " 0.41699194771796066,\n",
              " 0.4167863045776817,\n",
              " 0.41658091522066465,\n",
              " 0.41637577907984463,\n",
              " 0.41617089559014075,\n",
              " 0.41596626418843585,\n",
              " 0.41576188431357597,\n",
              " 0.4155577554063539,\n",
              " 0.41535387690950454,\n",
              " 0.4151502482676917,\n",
              " 0.41494686892750016,\n",
              " 0.4147437383374272,\n",
              " 0.41454085594787027,\n",
              " 0.41433822121112074,\n",
              " 0.4141358335813548,\n",
              " 0.41393369251462,\n",
              " 0.4137317974688306,\n",
              " 0.41353014790375797,\n",
              " 0.41332874328101804,\n",
              " 0.41312758306406655,\n",
              " 0.41292666671818884,\n",
              " 0.412725993710489,\n",
              " 0.41252556350988345,\n",
              " 0.4123253755870913,\n",
              " 0.41212542941462627,\n",
              " 0.411925724466787,\n",
              " 0.4117262602196488,\n",
              " 0.41152703615105657,\n",
              " 0.41132805174061354,\n",
              " 0.41112930646967627,\n",
              " 0.41093079982134256,\n",
              " 0.4107325312804476,\n",
              " 0.41053450033355,\n",
              " 0.41033670646892895,\n",
              " 0.41013914917657435,\n",
              " 0.4099418279481757,\n",
              " 0.40974474227711966,\n",
              " 0.4095478916584772,\n",
              " 0.40935127558899803,\n",
              " 0.4091548935671009,\n",
              " 0.4089587450928697,\n",
              " 0.40876282966804056,\n",
              " 0.4085671467959968,\n",
              " 0.4083716959817619,\n",
              " 0.40817647673199003,\n",
              " 0.40798148855495936,\n",
              " 0.4077867309605648,\n",
              " 0.40759220346030955,\n",
              " 0.4073979055672985,\n",
              " 0.40720383679623,\n",
              " 0.4070099966633899,\n",
              " 0.40681638468664166,\n",
              " 0.4066230003854222,\n",
              " 0.40642984328073223,\n",
              " 0.40623691289513036,\n",
              " 0.406044208752724,\n",
              " 0.40585173037916655,\n",
              " 0.405659477301645,\n",
              " 0.40546744904887644,\n",
              " 0.40527564515110004,\n",
              " 0.40508406514006967,\n",
              " 0.4048927085490478,\n",
              " 0.404701574912798,\n",
              " 0.404510663767579,\n",
              " 0.40431997465113556,\n",
              " 0.40412950710269624,\n",
              " 0.403939260662961,\n",
              " 0.4037492348740992,\n",
              " 0.4035594292797412,\n",
              " 0.40336984342497073,\n",
              " 0.40318047685632025,\n",
              " 0.4029913291217638,\n",
              " 0.40280239977070864,\n",
              " 0.40261368835399386,\n",
              " 0.4024251944238774,\n",
              " 0.4022369175340337,\n",
              " 0.402048857239548,\n",
              " 0.401861013096907,\n",
              " 0.4016733846639959,\n",
              " 0.4014859715000894,\n",
              " 0.40129877316584717,\n",
              " 0.4011117892233074,\n",
              " 0.4009250192358801,\n",
              " 0.4007384627683416,\n",
              " 0.4005521193868297,\n",
              " 0.40036598865883405,\n",
              " 0.4001800701531948,\n",
              " 0.39999436344009326,\n",
              " 0.3998088680910482,\n",
              " 0.399623583678908,\n",
              " 0.3994385097778448,\n",
              " 0.39925364596335217,\n",
              " 0.3990689918122362,\n",
              " 0.39888454690260905,\n",
              " 0.3987003108138866,\n",
              " 0.3985162831267795,\n",
              " 0.3983324634232894,\n",
              " 0.3981488512867033,\n",
              " 0.39796544630158726,\n",
              " 0.3977822480537808,\n",
              " 0.397599256130393,\n",
              " 0.3974164701197941,\n",
              " 0.39723388961161354,\n",
              " 0.39705151419673146,\n",
              " 0.3968693434672761,\n",
              " 0.3966873770166158,\n",
              " 0.39650561443935517,\n",
              " 0.3963240553313297,\n",
              " 0.3961426992896008,\n",
              " 0.39596154591245014,\n",
              " 0.39578059479937344,\n",
              " 0.3955998455510772,\n",
              " 0.39541929776947266,\n",
              " 0.39523895105767076,\n",
              " 0.3950588050199765,\n",
              " 0.3948788592618845,\n",
              " 0.39469911339007585,\n",
              " 0.39451956701240753,\n",
              " 0.3943402197379137,\n",
              " 0.39416107117679744,\n",
              " 0.39398212094042695,\n",
              " 0.39380336864132987,\n",
              " 0.39362481389318826,\n",
              " 0.39344645631083464,\n",
              " 0.39326829551024783,\n",
              " 0.3930903311085451,\n",
              " 0.39291256272398206,\n",
              " 0.39273498997594375,\n",
              " 0.3925576124849414,\n",
              " 0.39238042987260907,\n",
              " 0.3922034417616965,\n",
              " 0.39202664777606716,\n",
              " 0.39185004754069075,\n",
              " 0.39167364068164245,\n",
              " 0.391497426826094,\n",
              " 0.3913214056023121,\n",
              " 0.3911455766396521,\n",
              " 0.3909699395685582,\n",
              " 0.39079449402055,\n",
              " 0.39061923962822737,\n",
              " 0.3904441760252607,\n",
              " 0.39026930284638733,\n",
              " 0.39009461972740905,\n",
              " 0.38992012630518497,\n",
              " 0.38974582221763016,\n",
              " 0.38957170710370914,\n",
              " 0.3893977806034319,\n",
              " 0.38922404235785163,\n",
              " 0.389050492009058,\n",
              " 0.3888771292001735,\n",
              " 0.3887039535753508,\n",
              " 0.388530964779767,\n",
              " 0.38835816245961974,\n",
              " 0.38818554626212426,\n",
              " 0.3880131158355081,\n",
              " 0.38784087082900687,\n",
              " 0.387668810892861,\n",
              " 0.38749693567831206,\n",
              " 0.38732524483759656,\n",
              " 0.3871537380239459,\n",
              " 0.38698241489157725,\n",
              " 0.38681127509569485,\n",
              " 0.38664031829248247,\n",
              " 0.3864695441391007,\n",
              " 0.38629895229368283,\n",
              " 0.38612854241533284,\n",
              " 0.3859583141641177,\n",
              " 0.3857882672010672,\n",
              " 0.38561840118816826,\n",
              " 0.38544871578836243,\n",
              " 0.38527921066553944,\n",
              " 0.38510988548453784,\n",
              " 0.38494073991113686,\n",
              " 0.38477177361205633,\n",
              " 0.3846029862549491,\n",
              " 0.3844343775084019,\n",
              " 0.38426594704192757,\n",
              " 0.38409769452596504,\n",
              " 0.38392961963187233,\n",
              " 0.3837617220319255,\n",
              " 0.38359400139931343,\n",
              " 0.3834264574081364,\n",
              " 0.3832590897334,\n",
              " 0.3830918980510116,\n",
              " 0.3829248820377819,\n",
              " 0.382758041371414,\n",
              " 0.3825913757305035,\n",
              " 0.38242488479453773,\n",
              " 0.38225856824388693,\n",
              " 0.3820924257598059,\n",
              " 0.38192645702442596,\n",
              " 0.381760661720756,\n",
              " 0.3815950395326758,\n",
              " 0.3814295901449346,\n",
              " 0.38126431324314536,\n",
              " 0.3810992085137857,\n",
              " 0.3809342756441907,\n",
              " 0.3807695143225502,\n",
              " 0.38060492423790854,\n",
              " 0.38044050508015714,\n",
              " 0.3802762565400338,\n",
              " 0.3801121783091197,\n",
              " 0.37994827007983467,\n",
              " 0.37978453154543484,\n",
              " 0.3796209624000097,\n",
              " 0.37945756233847844,\n",
              " 0.3792943310565874,\n",
              " 0.3791312682509062,\n",
              " 0.37896837361882507,\n",
              " 0.3788056468585528,\n",
              " 0.3786430876691108,\n",
              " 0.3784806957503333,\n",
              " 0.37831847080286163,\n",
              " 0.3781564125281448,\n",
              " 0.3779945206284308,\n",
              " 0.37783279480676946,\n",
              " 0.3776712347670057,\n",
              " 0.3775098402137792,\n",
              " 0.37734861085251786,\n",
              " 0.37718754638943913,\n",
              " 0.37702664653154433,\n",
              " 0.37686591098661515,\n",
              " 0.3767053394632142,\n",
              " 0.3765449316706787,\n",
              " 0.3763846873191188,\n",
              " 0.37622460611941505,\n",
              " 0.3760646877832157,\n",
              " 0.375904932022933,\n",
              " 0.3757453385517402,\n",
              " 0.3755859070835716,\n",
              " 0.37542663733311515,\n",
              " 0.3752675290158137,\n",
              " 0.37510858184786,\n",
              " 0.37494979554619445,\n",
              " 0.374791169828503,\n",
              " 0.3746327044132143,\n",
              " 0.37447439901949475,\n",
              " 0.3743162533672505,\n",
              " 0.37415826717712025,\n",
              " 0.37400044017047435,\n",
              " 0.3738427720694124,\n",
              " 0.37368526259676094,\n",
              " 0.37352791147606884,\n",
              " 0.3733707184316076,\n",
              " 0.3732136831883654,\n",
              " 0.37305680547204806,\n",
              " 0.37290008500907373,\n",
              " 0.37274352152657136,\n",
              " 0.3725871147523784,\n",
              " 0.37243086441503753,\n",
              " 0.37227477024379524,\n",
              " 0.37211883196859696,\n",
              " 0.3719630493200884,\n",
              " 0.37180742202960937,\n",
              " 0.3716519498291933,\n",
              " 0.3714966324515637,\n",
              " 0.37134146963013265,\n",
              " 0.3711864610989982,\n",
              " 0.37103160659294104,\n",
              " 0.3708769058474237,\n",
              " 0.3707223585985853,\n",
              " 0.3705679645832433,\n",
              " 0.3704137235388871,\n",
              " 0.3702596352036779,\n",
              " 0.3701056993164445,\n",
              " 0.3699519156166851,\n",
              " 0.36979828384455976,\n",
              " 0.3696448037408914,\n",
              " 0.36949147504716123,\n",
              " 0.36933829750550873,\n",
              " 0.36918527085872727,\n",
              " 0.3690323948502645,\n",
              " 0.3688796692242169,\n",
              " 0.368727093725329,\n",
              " 0.36857466809899125,\n",
              " 0.36842239209123784,\n",
              " 0.36827026544874475,\n",
              " 0.3681182879188256,\n",
              " 0.367966459249432,\n",
              " 0.36781477918914807,\n",
              " 0.3676632474871944,\n",
              " 0.36751186389341733,\n",
              " 0.3673606281582938,\n",
              " 0.36720954003292494,\n",
              " 0.3670585992690375,\n",
              " 0.36690780561897773,\n",
              " 0.36675715883571275,\n",
              " 0.36660665867282627,\n",
              " 0.3664563048845163,\n",
              " 0.3663060972255954,\n",
              " 0.36615603545148606,\n",
              " 0.36600611931821975,\n",
              " 0.3658563485824335,\n",
              " 0.36570672300137175,\n",
              " 0.3655572423328783,\n",
              " 0.3654079063353993,\n",
              " 0.3652587147679786,\n",
              " 0.36510966739025713,\n",
              " 0.36496076396246996,\n",
              " 0.364812004245443,\n",
              " 0.3646633880005955,\n",
              " 0.3645149149899318,\n",
              " 0.36436658497604396,\n",
              " 0.36421839772210995,\n",
              " 0.36407035299188667,\n",
              " 0.36392245054971434,\n",
              " 0.3637746901605099,\n",
              " 0.3636270715897678,\n",
              " 0.3634795946035567,\n",
              " 0.3633322589685174,\n",
              " 0.3631850644518613,\n",
              " 0.3630380108213693,\n",
              " 0.36289109784538853,\n",
              " 0.3627443252928312,\n",
              " 0.3625976929331725,\n",
              " 0.3624512005364488,\n",
              " 0.36230484787325623,\n",
              " 0.36215863471474724,\n",
              " 0.3620125608326304,\n",
              " 0.36186662599916836,\n",
              " 0.36172082998717475,\n",
              " 0.3615751725700139,\n",
              " 0.36142965352159867,\n",
              " 0.36128427261638646,\n",
              " 0.36113902962938094,\n",
              " 0.3609939243361286,\n",
              " 0.36084895651271504,\n",
              " 0.3607041259357676,\n",
              " 0.36055943238244864,\n",
              " 0.360414875630457,\n",
              " 0.36027045545802605,\n",
              " 0.36012617164391997,\n",
              " 0.3599820239674343,\n",
              " 0.3598380122083928,\n",
              " 0.3596941361471453,\n",
              " 0.35955039556456847,\n",
              " 0.3594067902420601,\n",
              " 0.3592633199615416,\n",
              " 0.3591199845054536,\n",
              " 0.35897678365675484,\n",
              " 0.3588337171989206,\n",
              " 0.35869078491594136,\n",
              " 0.35854798659232084,\n",
              " 0.35840532201307346,\n",
              " 0.35826279096372476,\n",
              " 0.3581203932303079,\n",
              " 0.3579781285993625,\n",
              " 0.35783599685793277,\n",
              " 0.35769399779356703,\n",
              " 0.357552131194315,\n",
              " 0.35741039684872616,\n",
              " 0.3572687945458479,\n",
              " 0.35712732407522657,\n",
              " 0.35698598522690034,\n",
              " 0.35684477779140417,\n",
              " 0.3567037015597629,\n",
              " 0.35656275632349316,\n",
              " 0.35642194187459986,\n",
              " 0.35628125800557486,\n",
              " 0.35614070450939705,\n",
              " 0.3560002811795275,\n",
              " 0.35585998780991224,\n",
              " 0.35571982419497583,\n",
              " 0.3555797901296248,\n",
              " 0.3554398854092422,\n",
              " 0.35530010982968796,\n",
              " ...]"
            ]
          },
          "metadata": {},
          "execution_count": 204
        }
      ]
    },
    {
      "cell_type": "code",
      "metadata": {
        "id": "QrGZE42MVONd",
        "outputId": "41738635-a88f-440d-ef91-3247da6b4063",
        "colab": {
          "base_uri": "https://localhost:8080/"
        }
      },
      "source": [
        "objLogisticRegression2.costHistory"
      ],
      "execution_count": 205,
      "outputs": [
        {
          "output_type": "execute_result",
          "data": {
            "text/plain": [
              "[0.6931471805599467,\n",
              " 1.7899324267815695,\n",
              " 8.706054549994386,\n",
              " inf,\n",
              " inf,\n",
              " inf,\n",
              " inf,\n",
              " inf,\n",
              " inf,\n",
              " inf,\n",
              " inf,\n",
              " inf,\n",
              " inf,\n",
              " inf,\n",
              " inf,\n",
              " inf,\n",
              " inf,\n",
              " inf,\n",
              " inf,\n",
              " inf,\n",
              " inf,\n",
              " inf,\n",
              " inf,\n",
              " inf,\n",
              " inf,\n",
              " inf,\n",
              " inf,\n",
              " inf,\n",
              " inf,\n",
              " inf,\n",
              " inf,\n",
              " inf,\n",
              " inf,\n",
              " inf,\n",
              " inf,\n",
              " inf,\n",
              " inf,\n",
              " inf,\n",
              " inf,\n",
              " inf,\n",
              " inf,\n",
              " inf,\n",
              " inf,\n",
              " inf,\n",
              " inf,\n",
              " inf,\n",
              " inf,\n",
              " inf,\n",
              " inf,\n",
              " inf,\n",
              " inf,\n",
              " inf,\n",
              " inf,\n",
              " inf,\n",
              " inf,\n",
              " inf,\n",
              " inf,\n",
              " inf,\n",
              " inf,\n",
              " inf,\n",
              " inf,\n",
              " inf,\n",
              " inf,\n",
              " inf,\n",
              " inf,\n",
              " inf,\n",
              " inf,\n",
              " inf,\n",
              " inf,\n",
              " inf,\n",
              " inf,\n",
              " inf,\n",
              " inf,\n",
              " inf,\n",
              " inf,\n",
              " inf,\n",
              " inf,\n",
              " inf,\n",
              " inf,\n",
              " inf,\n",
              " inf,\n",
              " inf,\n",
              " inf,\n",
              " inf,\n",
              " inf,\n",
              " inf,\n",
              " inf,\n",
              " inf,\n",
              " inf,\n",
              " inf,\n",
              " inf,\n",
              " inf,\n",
              " inf,\n",
              " inf,\n",
              " inf,\n",
              " inf,\n",
              " inf,\n",
              " inf,\n",
              " inf,\n",
              " inf,\n",
              " inf,\n",
              " inf,\n",
              " inf,\n",
              " inf,\n",
              " inf,\n",
              " inf,\n",
              " inf,\n",
              " inf,\n",
              " inf,\n",
              " inf,\n",
              " inf,\n",
              " inf,\n",
              " inf,\n",
              " inf,\n",
              " inf,\n",
              " inf,\n",
              " inf,\n",
              " inf,\n",
              " inf,\n",
              " inf,\n",
              " inf,\n",
              " inf,\n",
              " inf,\n",
              " inf,\n",
              " inf,\n",
              " inf,\n",
              " inf,\n",
              " inf,\n",
              " inf,\n",
              " inf,\n",
              " inf,\n",
              " inf,\n",
              " inf,\n",
              " inf,\n",
              " inf,\n",
              " inf,\n",
              " inf,\n",
              " inf,\n",
              " inf,\n",
              " inf,\n",
              " inf,\n",
              " inf,\n",
              " inf,\n",
              " inf,\n",
              " inf,\n",
              " inf,\n",
              " inf,\n",
              " inf,\n",
              " inf,\n",
              " inf,\n",
              " inf,\n",
              " inf,\n",
              " inf,\n",
              " inf,\n",
              " inf,\n",
              " inf,\n",
              " inf,\n",
              " inf,\n",
              " inf,\n",
              " inf,\n",
              " inf,\n",
              " inf,\n",
              " inf,\n",
              " inf,\n",
              " inf,\n",
              " inf,\n",
              " inf,\n",
              " inf,\n",
              " inf,\n",
              " inf,\n",
              " inf,\n",
              " inf,\n",
              " inf,\n",
              " inf,\n",
              " inf,\n",
              " inf,\n",
              " inf,\n",
              " inf,\n",
              " inf,\n",
              " inf,\n",
              " inf,\n",
              " inf,\n",
              " inf,\n",
              " inf,\n",
              " inf,\n",
              " inf,\n",
              " inf,\n",
              " inf,\n",
              " inf,\n",
              " inf,\n",
              " inf,\n",
              " inf,\n",
              " inf,\n",
              " inf,\n",
              " inf,\n",
              " inf,\n",
              " inf,\n",
              " inf,\n",
              " inf,\n",
              " inf,\n",
              " inf,\n",
              " inf,\n",
              " inf,\n",
              " inf,\n",
              " inf,\n",
              " inf,\n",
              " inf,\n",
              " inf,\n",
              " inf,\n",
              " inf,\n",
              " inf,\n",
              " inf,\n",
              " inf,\n",
              " inf,\n",
              " inf,\n",
              " inf,\n",
              " inf,\n",
              " inf,\n",
              " inf,\n",
              " inf,\n",
              " inf,\n",
              " inf,\n",
              " inf,\n",
              " inf,\n",
              " inf,\n",
              " inf,\n",
              " inf,\n",
              " inf,\n",
              " inf,\n",
              " inf,\n",
              " inf,\n",
              " inf,\n",
              " inf,\n",
              " inf,\n",
              " inf,\n",
              " inf,\n",
              " inf,\n",
              " inf,\n",
              " inf,\n",
              " inf,\n",
              " inf,\n",
              " inf,\n",
              " inf,\n",
              " inf,\n",
              " inf,\n",
              " inf,\n",
              " inf,\n",
              " inf,\n",
              " inf,\n",
              " inf,\n",
              " inf,\n",
              " inf,\n",
              " inf,\n",
              " inf,\n",
              " inf,\n",
              " inf,\n",
              " inf,\n",
              " inf,\n",
              " inf,\n",
              " inf,\n",
              " inf,\n",
              " inf,\n",
              " inf,\n",
              " inf,\n",
              " inf,\n",
              " inf,\n",
              " inf,\n",
              " inf,\n",
              " inf,\n",
              " inf,\n",
              " inf,\n",
              " inf,\n",
              " inf,\n",
              " inf,\n",
              " inf,\n",
              " inf,\n",
              " inf,\n",
              " inf,\n",
              " inf,\n",
              " inf,\n",
              " inf,\n",
              " inf,\n",
              " inf,\n",
              " inf,\n",
              " inf,\n",
              " inf,\n",
              " inf,\n",
              " inf,\n",
              " inf,\n",
              " inf,\n",
              " inf,\n",
              " inf,\n",
              " inf,\n",
              " inf,\n",
              " inf,\n",
              " inf,\n",
              " inf,\n",
              " inf,\n",
              " inf,\n",
              " inf,\n",
              " inf,\n",
              " inf,\n",
              " inf,\n",
              " inf,\n",
              " inf,\n",
              " inf,\n",
              " inf,\n",
              " inf,\n",
              " inf,\n",
              " inf,\n",
              " inf,\n",
              " inf,\n",
              " inf,\n",
              " inf,\n",
              " inf,\n",
              " inf,\n",
              " inf,\n",
              " inf,\n",
              " inf,\n",
              " inf,\n",
              " inf,\n",
              " inf,\n",
              " inf,\n",
              " inf,\n",
              " inf,\n",
              " inf,\n",
              " inf,\n",
              " inf,\n",
              " inf,\n",
              " inf,\n",
              " inf,\n",
              " inf,\n",
              " inf,\n",
              " inf,\n",
              " inf,\n",
              " inf,\n",
              " inf,\n",
              " inf,\n",
              " inf,\n",
              " inf,\n",
              " inf,\n",
              " inf,\n",
              " inf,\n",
              " inf,\n",
              " inf,\n",
              " inf,\n",
              " inf,\n",
              " inf,\n",
              " inf,\n",
              " inf,\n",
              " inf,\n",
              " inf,\n",
              " inf,\n",
              " inf,\n",
              " inf,\n",
              " inf,\n",
              " inf,\n",
              " inf,\n",
              " inf,\n",
              " inf,\n",
              " inf,\n",
              " inf,\n",
              " inf,\n",
              " inf,\n",
              " inf,\n",
              " inf,\n",
              " inf,\n",
              " inf,\n",
              " inf,\n",
              " inf,\n",
              " inf,\n",
              " inf,\n",
              " inf,\n",
              " inf,\n",
              " inf,\n",
              " inf,\n",
              " inf,\n",
              " inf,\n",
              " inf,\n",
              " inf,\n",
              " inf,\n",
              " inf,\n",
              " inf,\n",
              " inf,\n",
              " inf,\n",
              " inf,\n",
              " inf,\n",
              " inf,\n",
              " inf,\n",
              " inf,\n",
              " inf,\n",
              " inf,\n",
              " inf,\n",
              " inf,\n",
              " inf,\n",
              " inf,\n",
              " inf,\n",
              " inf,\n",
              " inf,\n",
              " inf,\n",
              " inf,\n",
              " inf,\n",
              " inf,\n",
              " inf,\n",
              " inf,\n",
              " inf,\n",
              " inf,\n",
              " inf,\n",
              " inf,\n",
              " inf,\n",
              " inf,\n",
              " inf,\n",
              " inf,\n",
              " inf,\n",
              " inf,\n",
              " inf,\n",
              " inf,\n",
              " inf,\n",
              " inf,\n",
              " inf,\n",
              " inf,\n",
              " inf,\n",
              " inf,\n",
              " inf,\n",
              " inf,\n",
              " inf,\n",
              " inf,\n",
              " inf,\n",
              " inf,\n",
              " inf,\n",
              " inf,\n",
              " inf,\n",
              " inf,\n",
              " inf,\n",
              " inf,\n",
              " inf,\n",
              " inf,\n",
              " inf,\n",
              " inf,\n",
              " inf,\n",
              " inf,\n",
              " inf,\n",
              " inf,\n",
              " inf,\n",
              " inf,\n",
              " inf,\n",
              " inf,\n",
              " inf,\n",
              " inf,\n",
              " inf,\n",
              " inf,\n",
              " inf,\n",
              " inf,\n",
              " inf,\n",
              " inf,\n",
              " inf,\n",
              " inf,\n",
              " inf,\n",
              " inf,\n",
              " inf,\n",
              " inf,\n",
              " inf,\n",
              " inf,\n",
              " inf,\n",
              " inf,\n",
              " inf,\n",
              " inf,\n",
              " inf,\n",
              " inf,\n",
              " inf,\n",
              " inf,\n",
              " inf,\n",
              " inf,\n",
              " inf,\n",
              " inf,\n",
              " inf,\n",
              " inf,\n",
              " inf,\n",
              " inf,\n",
              " inf,\n",
              " inf,\n",
              " inf,\n",
              " inf,\n",
              " inf,\n",
              " inf,\n",
              " inf,\n",
              " inf,\n",
              " inf,\n",
              " inf,\n",
              " inf,\n",
              " inf,\n",
              " inf,\n",
              " inf,\n",
              " inf,\n",
              " inf,\n",
              " inf,\n",
              " inf,\n",
              " inf,\n",
              " inf,\n",
              " inf,\n",
              " inf,\n",
              " inf,\n",
              " inf,\n",
              " inf,\n",
              " inf,\n",
              " inf,\n",
              " inf,\n",
              " inf,\n",
              " inf,\n",
              " inf,\n",
              " inf,\n",
              " inf,\n",
              " inf,\n",
              " inf,\n",
              " inf,\n",
              " inf,\n",
              " inf,\n",
              " inf,\n",
              " inf,\n",
              " inf,\n",
              " inf,\n",
              " inf,\n",
              " inf,\n",
              " inf,\n",
              " inf,\n",
              " inf,\n",
              " inf,\n",
              " inf,\n",
              " inf,\n",
              " inf,\n",
              " inf,\n",
              " inf,\n",
              " inf,\n",
              " inf,\n",
              " inf,\n",
              " inf,\n",
              " inf,\n",
              " inf,\n",
              " inf,\n",
              " inf,\n",
              " inf,\n",
              " inf,\n",
              " inf,\n",
              " inf,\n",
              " inf,\n",
              " inf,\n",
              " inf,\n",
              " inf,\n",
              " inf,\n",
              " inf,\n",
              " inf,\n",
              " inf,\n",
              " inf,\n",
              " inf,\n",
              " inf,\n",
              " inf,\n",
              " inf,\n",
              " inf,\n",
              " inf,\n",
              " inf,\n",
              " inf,\n",
              " inf,\n",
              " inf,\n",
              " inf,\n",
              " inf,\n",
              " inf,\n",
              " inf,\n",
              " inf,\n",
              " inf,\n",
              " inf,\n",
              " inf,\n",
              " inf,\n",
              " inf,\n",
              " inf,\n",
              " inf,\n",
              " inf,\n",
              " inf,\n",
              " inf,\n",
              " inf,\n",
              " inf,\n",
              " inf,\n",
              " inf,\n",
              " inf,\n",
              " inf,\n",
              " inf,\n",
              " inf,\n",
              " inf,\n",
              " inf,\n",
              " inf,\n",
              " inf,\n",
              " inf,\n",
              " inf,\n",
              " inf,\n",
              " inf,\n",
              " inf,\n",
              " inf,\n",
              " inf,\n",
              " inf,\n",
              " inf,\n",
              " inf,\n",
              " inf,\n",
              " inf,\n",
              " inf,\n",
              " inf,\n",
              " inf,\n",
              " inf,\n",
              " inf,\n",
              " inf,\n",
              " inf,\n",
              " inf,\n",
              " inf,\n",
              " inf,\n",
              " inf,\n",
              " inf,\n",
              " inf,\n",
              " inf,\n",
              " inf,\n",
              " inf,\n",
              " inf,\n",
              " inf,\n",
              " inf,\n",
              " inf,\n",
              " inf,\n",
              " inf,\n",
              " inf,\n",
              " inf,\n",
              " inf,\n",
              " inf,\n",
              " inf,\n",
              " inf,\n",
              " inf,\n",
              " inf,\n",
              " inf,\n",
              " inf,\n",
              " inf,\n",
              " inf,\n",
              " inf,\n",
              " inf,\n",
              " inf,\n",
              " inf,\n",
              " inf,\n",
              " inf,\n",
              " inf,\n",
              " inf,\n",
              " inf,\n",
              " inf,\n",
              " inf,\n",
              " inf,\n",
              " inf,\n",
              " inf,\n",
              " inf,\n",
              " inf,\n",
              " inf,\n",
              " inf,\n",
              " inf,\n",
              " inf,\n",
              " inf,\n",
              " inf,\n",
              " inf,\n",
              " inf,\n",
              " inf,\n",
              " inf,\n",
              " inf,\n",
              " inf,\n",
              " inf,\n",
              " inf,\n",
              " inf,\n",
              " inf,\n",
              " inf,\n",
              " inf,\n",
              " inf,\n",
              " inf,\n",
              " inf,\n",
              " inf,\n",
              " inf,\n",
              " inf,\n",
              " inf,\n",
              " inf,\n",
              " inf,\n",
              " inf,\n",
              " inf,\n",
              " inf,\n",
              " inf,\n",
              " inf,\n",
              " inf,\n",
              " inf,\n",
              " inf,\n",
              " inf,\n",
              " inf,\n",
              " inf,\n",
              " inf,\n",
              " inf,\n",
              " inf,\n",
              " inf,\n",
              " inf,\n",
              " inf,\n",
              " inf,\n",
              " inf,\n",
              " inf,\n",
              " inf,\n",
              " inf,\n",
              " inf,\n",
              " inf,\n",
              " inf,\n",
              " inf,\n",
              " inf,\n",
              " inf,\n",
              " inf,\n",
              " inf,\n",
              " inf,\n",
              " inf,\n",
              " inf,\n",
              " inf,\n",
              " inf,\n",
              " inf,\n",
              " inf,\n",
              " inf,\n",
              " inf,\n",
              " inf,\n",
              " inf,\n",
              " inf,\n",
              " inf,\n",
              " inf,\n",
              " inf,\n",
              " inf,\n",
              " inf,\n",
              " inf,\n",
              " inf,\n",
              " inf,\n",
              " inf,\n",
              " inf,\n",
              " inf,\n",
              " inf,\n",
              " inf,\n",
              " inf,\n",
              " inf,\n",
              " inf,\n",
              " inf,\n",
              " inf,\n",
              " inf,\n",
              " inf,\n",
              " inf,\n",
              " inf,\n",
              " inf,\n",
              " inf,\n",
              " inf,\n",
              " inf,\n",
              " inf,\n",
              " inf,\n",
              " inf,\n",
              " inf,\n",
              " inf,\n",
              " inf,\n",
              " inf,\n",
              " inf,\n",
              " inf,\n",
              " inf,\n",
              " inf,\n",
              " inf,\n",
              " inf,\n",
              " inf,\n",
              " inf,\n",
              " inf,\n",
              " inf,\n",
              " inf,\n",
              " inf,\n",
              " inf,\n",
              " inf,\n",
              " inf,\n",
              " inf,\n",
              " inf,\n",
              " inf,\n",
              " inf,\n",
              " inf,\n",
              " inf,\n",
              " inf,\n",
              " inf,\n",
              " inf,\n",
              " inf,\n",
              " inf,\n",
              " inf,\n",
              " inf,\n",
              " inf,\n",
              " inf,\n",
              " inf,\n",
              " inf,\n",
              " inf,\n",
              " inf,\n",
              " inf,\n",
              " inf,\n",
              " inf,\n",
              " inf,\n",
              " inf,\n",
              " inf,\n",
              " inf,\n",
              " inf,\n",
              " inf,\n",
              " inf,\n",
              " inf,\n",
              " inf,\n",
              " inf,\n",
              " inf,\n",
              " inf,\n",
              " inf,\n",
              " inf,\n",
              " inf,\n",
              " inf,\n",
              " inf,\n",
              " inf,\n",
              " inf,\n",
              " inf,\n",
              " inf,\n",
              " inf,\n",
              " inf,\n",
              " inf,\n",
              " inf,\n",
              " inf,\n",
              " inf,\n",
              " inf,\n",
              " inf,\n",
              " inf,\n",
              " inf,\n",
              " inf,\n",
              " inf,\n",
              " inf,\n",
              " inf,\n",
              " inf,\n",
              " inf,\n",
              " inf,\n",
              " inf,\n",
              " inf,\n",
              " inf,\n",
              " inf,\n",
              " inf,\n",
              " inf,\n",
              " inf,\n",
              " inf,\n",
              " inf,\n",
              " inf,\n",
              " inf,\n",
              " inf,\n",
              " inf,\n",
              " inf,\n",
              " inf,\n",
              " inf,\n",
              " inf,\n",
              " inf,\n",
              " inf,\n",
              " inf,\n",
              " inf,\n",
              " inf,\n",
              " inf,\n",
              " inf,\n",
              " inf,\n",
              " inf,\n",
              " inf,\n",
              " inf,\n",
              " inf,\n",
              " inf,\n",
              " inf,\n",
              " inf,\n",
              " inf,\n",
              " inf,\n",
              " inf,\n",
              " inf,\n",
              " inf,\n",
              " inf,\n",
              " inf,\n",
              " inf,\n",
              " inf,\n",
              " inf,\n",
              " inf,\n",
              " inf,\n",
              " inf,\n",
              " inf,\n",
              " inf,\n",
              " inf,\n",
              " inf,\n",
              " inf,\n",
              " inf,\n",
              " inf,\n",
              " inf,\n",
              " inf,\n",
              " inf,\n",
              " inf,\n",
              " inf,\n",
              " inf,\n",
              " inf,\n",
              " inf,\n",
              " inf,\n",
              " inf,\n",
              " inf,\n",
              " inf,\n",
              " inf,\n",
              " inf,\n",
              " inf,\n",
              " inf,\n",
              " inf,\n",
              " inf,\n",
              " inf,\n",
              " inf,\n",
              " inf,\n",
              " inf,\n",
              " inf,\n",
              " inf,\n",
              " inf,\n",
              " inf,\n",
              " inf,\n",
              " inf,\n",
              " inf,\n",
              " inf,\n",
              " inf,\n",
              " inf,\n",
              " inf,\n",
              " inf,\n",
              " inf,\n",
              " inf,\n",
              " inf,\n",
              " inf,\n",
              " inf,\n",
              " inf,\n",
              " inf,\n",
              " inf,\n",
              " inf,\n",
              " inf,\n",
              " inf,\n",
              " inf,\n",
              " inf,\n",
              " inf,\n",
              " inf,\n",
              " inf,\n",
              " inf,\n",
              " inf,\n",
              " inf,\n",
              " inf,\n",
              " inf,\n",
              " inf,\n",
              " inf,\n",
              " inf,\n",
              " inf,\n",
              " inf,\n",
              " inf,\n",
              " inf,\n",
              " inf,\n",
              " inf,\n",
              " inf,\n",
              " inf,\n",
              " inf,\n",
              " inf,\n",
              " inf,\n",
              " inf,\n",
              " inf,\n",
              " inf,\n",
              " inf,\n",
              " inf,\n",
              " inf,\n",
              " inf,\n",
              " inf,\n",
              " inf,\n",
              " inf,\n",
              " inf,\n",
              " inf,\n",
              " inf,\n",
              " inf,\n",
              " inf,\n",
              " inf,\n",
              " inf,\n",
              " inf,\n",
              " inf,\n",
              " inf,\n",
              " inf,\n",
              " inf,\n",
              " inf,\n",
              " inf,\n",
              " inf,\n",
              " inf,\n",
              " inf,\n",
              " inf,\n",
              " inf,\n",
              " inf,\n",
              " inf,\n",
              " inf,\n",
              " inf,\n",
              " inf,\n",
              " inf,\n",
              " inf,\n",
              " inf,\n",
              " inf,\n",
              " inf,\n",
              " inf,\n",
              " inf,\n",
              " inf,\n",
              " inf,\n",
              " inf,\n",
              " inf,\n",
              " inf,\n",
              " inf,\n",
              " inf,\n",
              " inf,\n",
              " inf,\n",
              " ...]"
            ]
          },
          "metadata": {},
          "execution_count": 205
        }
      ]
    },
    {
      "cell_type": "code",
      "metadata": {
        "id": "g1XQ4YJsVP5m",
        "outputId": "0920ec9e-bdf6-4d83-8d90-2a334a84b041",
        "colab": {
          "base_uri": "https://localhost:8080/",
          "height": 282
        }
      },
      "source": [
        "plt.plot(objLogisticRegression.costHistory)\n",
        "plt.show"
      ],
      "execution_count": 206,
      "outputs": [
        {
          "output_type": "execute_result",
          "data": {
            "text/plain": [
              "<function matplotlib.pyplot.show>"
            ]
          },
          "metadata": {},
          "execution_count": 206
        },
        {
          "output_type": "display_data",
          "data": {
            "image/png": "[encoded data removed]",
            "text/plain": [
              "<Figure size 432x288 with 1 Axes>"
            ]
          },
          "metadata": {
            "needs_background": "light"
          }
        }
      ]
    },
    {
      "cell_type": "code",
      "metadata": {
        "id": "acNZ9ulLVR_-",
        "outputId": "c13c4db0-7570-4eac-dce9-bf5ce5b50153",
        "colab": {
          "base_uri": "https://localhost:8080/",
          "height": 282
        }
      },
      "source": [
        "plt.plot(objLogisticRegression1.costHistory)\n",
        "plt.show"
      ],
      "execution_count": 207,
      "outputs": [
        {
          "output_type": "execute_result",
          "data": {
            "text/plain": [
              "<function matplotlib.pyplot.show>"
            ]
          },
          "metadata": {},
          "execution_count": 207
        },
        {
          "output_type": "display_data",
          "data": {
            "image/png": "[encoded data removed]",
            "text/plain": [
              "<Figure size 432x288 with 1 Axes>"
            ]
          },
          "metadata": {
            "needs_background": "light"
          }
        }
      ]
    },
    {
      "cell_type": "code",
      "metadata": {
        "id": "-wf0JHIYX-1V",
        "outputId": "7672c9a9-3b3f-46f2-86e7-ef758e6ca723",
        "colab": {
          "base_uri": "https://localhost:8080/",
          "height": 284
        }
      },
      "source": [
        "plt.plot(objLogisticRegression2.costHistory)\n",
        "plt.show"
      ],
      "execution_count": 208,
      "outputs": [
        {
          "output_type": "execute_result",
          "data": {
            "text/plain": [
              "<function matplotlib.pyplot.show>"
            ]
          },
          "metadata": {},
          "execution_count": 208
        },
        {
          "output_type": "display_data",
          "data": {
            "image/png": "[encoded data removed]",
            "text/plain": [
              "<Figure size 432x288 with 1 Axes>"
            ]
          },
          "metadata": {
            "needs_background": "light"
          }
        }
      ]
    },
    {
      "cell_type": "code",
      "metadata": {
        "id": "qE5a59BdYCOW"
      },
      "source": [
        ""
      ],
      "execution_count": 208,
      "outputs": []
    }
  ]
}