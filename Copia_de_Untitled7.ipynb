{
  "nbformat": 4,
  "nbformat_minor": 0,
  "metadata": {
    "colab": {
      "name": "Copia de Untitled7.ipynb",
      "provenance": [],
      "collapsed_sections": [],
      "authorship_tag": "ABX9TyPOap0aaRH+M0kCne0akgIj",
      "include_colab_link": true
    },
    "kernelspec": {
      "name": "python3",
      "display_name": "Python 3"
    },
    "language_info": {
      "name": "python"
    }
  },
  "cells": [
    {
      "cell_type": "markdown",
      "metadata": {
        "id": "view-in-github",
        "colab_type": "text"
      },
      "source": [
        "<a href=\"https://colab.research.google.com/github/calzateu/Modeling_and_Simulation_4/blob/main/Copia_de_Untitled7.ipynb\" target=\"_parent\"><img src=\"https://colab.research.google.com/assets/colab-badge.svg\" alt=\"Open In Colab\"/></a>"
      ]
    },
    {
      "cell_type": "code",
      "metadata": {
        "id": "YGijB9E5Uvbs"
      },
      "source": [
        "#Import libraries.\n",
        "\n",
        "import pandas as pd\n",
        "import numpy as np\n",
        "from scipy import linalg as LA\n",
        "from sklearn import metrics\n",
        "from random import sample\n",
        "from sklearn.model_selection import train_test_split\n",
        "from sklearn.feature_extraction.text import CountVectorizer, TfidfVectorizer \n",
        "from sklearn import datasets\n",
        "from sklearn.linear_model import LogisticRegression as sklearnLogisticRegression\n",
        "import matplotlib.pyplot as plt\n",
        "from mlxtend.plotting import plot_confusion_matrix\n",
        "\n",
        "from sklearn.naive_bayes import MultinomialNB\n",
        "from sklearn import svm"
      ],
      "execution_count": 48,
      "outputs": []
    },
    {
      "cell_type": "code",
      "metadata": {
        "id": "nY756g25U1QS"
      },
      "source": [
        "#Import dataset\n",
        "\n",
        "data = pd.read_csv('Dataset-with-sentiments.csv')"
      ],
      "execution_count": 49,
      "outputs": []
    },
    {
      "cell_type": "code",
      "metadata": {
        "id": "Ogz8DMIYU32I"
      },
      "source": [
        "#Erase null comments\n",
        "\n",
        "data = data[data['stop_comments'].notnull()]"
      ],
      "execution_count": 50,
      "outputs": []
    },
    {
      "cell_type": "code",
      "metadata": {
        "id": "k_HWUf2fU7qv"
      },
      "source": [
        "#Rename\n",
        "\n",
        "data[data['pol_cat']==-1] = 0"
      ],
      "execution_count": 51,
      "outputs": []
    },
    {
      "cell_type": "code",
      "metadata": {
        "id": "urxOEuE5U-LG"
      },
      "source": [
        "#Retype\n",
        "\n",
        "data['stop_comments'] = data[['stop_comments']].astype(str)"
      ],
      "execution_count": 52,
      "outputs": []
    },
    {
      "cell_type": "code",
      "metadata": {
        "id": "GaCb3_brVAc3"
      },
      "source": [
        "#Split dataset\n",
        "\n",
        "X_train,X_test,y_train,y_test = train_test_split(data['stop_comments'],data['pol_cat'],test_size = 0.2,random_state = 324)"
      ],
      "execution_count": 53,
      "outputs": []
    },
    {
      "cell_type": "code",
      "metadata": {
        "id": "La1zD0_QVCkv"
      },
      "source": [
        "#Vectorize dataset\n",
        "\n",
        "vect = CountVectorizer()\n",
        "tf_train = vect.fit_transform(X_train)\n",
        "tf_test = vect.transform(X_test)\n",
        "tf_train = tf_train.toarray()\n",
        "tf_test = tf_test.toarray()"
      ],
      "execution_count": 54,
      "outputs": []
    },
    {
      "cell_type": "code",
      "metadata": {
        "id": "mDek-IvOVFtQ"
      },
      "source": [
        "#Logistic regression\n",
        "\n",
        "class LogisticRegression:\n",
        "    \"\"\"\n",
        "            Purpose: To estimate Logistic regression parameters in Python.\n",
        "            Inputs:\n",
        "                alpha           : Is the optimisation learning rate.\n",
        "                maxIterations   : Maximum number of iterations for optimisation routine..\n",
        "                fitIntercept    : Include the intercept in the model fit.\n",
        "                verbose         : Display program information.\n",
        "                optimisation    : The optimisation routine to use. Options are:\n",
        "                                            gradientAscent\n",
        "                                            newton\n",
        "    \"\"\"\n",
        "    def __init__(self, alpha=0.01, maxIterations=100000, fitIntercept=True, verbose=False,optimisation=\"gradientAscent\"):\n",
        "        self.alpha = alpha\n",
        "        self.maxIterations = maxIterations  # Maximum number of times to run the optimisation.\n",
        "        self.numIterations = 0;             # Record the number of iterations performed.\n",
        "        self.hasConverged = False;          # This variable is used to terminate the iterations searching for optimum parameters.\n",
        "        self.fitIntercept = fitIntercept\n",
        "        self.verbose = verbose\n",
        "        self.costHistory = [];\n",
        "        self.tolerance = tol=0; # convergence tolerance;\n",
        "        self.theta=[];\n",
        "        self.optimisation = optimisation;\n",
        "\n",
        "    def __add_intercept(X):\n",
        "        X = X.reshape(len(X), -1)\n",
        "        intercept = np.ones((X.shape[0], 1))\n",
        "        return np.concatenate((intercept, X), axis=1)\n",
        "\n",
        "    def __sigmoid(z):\n",
        "        return 1 / (1 + np.exp(-z))\n",
        "\n",
        "\n",
        "    def __cost(self, X, y, theta):\n",
        "        # Purpose: Logistic regression log cost function.\n",
        "        z = np.dot(X, theta)\n",
        "        p = LogisticRegression.__sigmoid(z)\n",
        "        return (-y * np.log(p) - (1 - y) * np.log(1 - p)).mean()\n",
        "\n",
        "    def gradientAscent(X,y,theta,alpha):\n",
        "        z = np.dot(X, theta)\n",
        "        p = LogisticRegression.__sigmoid(z)\n",
        "        gradient = np.dot(X.T, (p - y)) / y.size;  # 1st derivative of log likelihood wrt parameters.\n",
        "        theta -= alpha * gradient  # Update the parameters.\n",
        "\n",
        "        return theta;\n",
        "    \n",
        "    def gradientAscent2(X,y,theta,alpha):\n",
        "        z = np.dot(X, theta)\n",
        "        p = LogisticRegression.__sigmoid(z)\n",
        "        aux = np.dot(X.T, (p - y))\n",
        "        r = np.median(np.abs(aux[aux != 0]))\n",
        "        if r == 0:\n",
        "          r = 1/y.size;\n",
        "        gradient = r*np.dot(X.T, (p - y));  # 1st derivative of log likelihood wrt parameters.\n",
        "        theta -= alpha * gradient  # Update the parameters.\n",
        "\n",
        "        return theta;\n",
        "\n",
        "    def newton(X,y,theta,useRegulisation=False,regulisationParameter=0):\n",
        "        \"\"\" Newton optimization method.\"\"\"\n",
        "        z = np.dot(X, theta)\n",
        "        p = LogisticRegression.__sigmoid(z)\n",
        "        W = np.diag(p * (1 - p))\n",
        "        hessian = X.T.dot(W).dot(X);\n",
        "\n",
        "        print(1)\n",
        "        eig_vals, eig_vects = LA.eig(hessian)\n",
        "\n",
        "        print(len(eig_vals))\n",
        "        val = np.max(eig_vals)\n",
        "\n",
        "        if val < 0:\n",
        "          val *= -1\n",
        "\n",
        "        print(val)\n",
        "\n",
        "        a = np.zeros((len(hessian), len(hessian))) #Inicializo una matriz\n",
        "        np.fill_diagonal(a, np.linalg.norm(val)) # Relleno la diagonal con un valor especifico\n",
        "\n",
        "        #print(a[0,0], np.linalg.norm(val))\n",
        "        hessian = hessian + a\n",
        "        \n",
        "\n",
        "        gradient = np.dot(X.T, (y-p));  # 1st derivative of log likelihood wrt parameters.\n",
        "\n",
        "        '''\n",
        "        try:\n",
        "            if useRegulisation:\n",
        "                step = np.dot(np.linalg.inv(hessian + regulisationParameter * np.eye(theta)), grad)\n",
        "            else:\n",
        "                step = np.dot(np.linalg.inv(hessian), gradient)\n",
        "        except np.linalg.LinAlgError:\n",
        "            step=0;'''\n",
        "        \n",
        "        print(hessian.shape)\n",
        "        hs = np.linalg.inv(hessian)\n",
        "        print(hs)\n",
        "        step = np.dot(hs, gradient)\n",
        "\n",
        "        ## update the weights\n",
        "        theta = theta + step\n",
        "\n",
        "        print(theta)\n",
        "\n",
        "\n",
        "        return theta;\n",
        "\n",
        "    def fit(self, X, y):\n",
        "        if self.fitIntercept:\n",
        "            X = LogisticRegression.__add_intercept(X=X)\n",
        "\n",
        "\n",
        "        self.theta = np.zeros(X.shape[1]);  # Initialise weights.\n",
        "        alpha=self.alpha;\n",
        "\n",
        "        cost = self.__cost(X, y, self.theta);  # Calculate the cost.\n",
        "        self.costHistory.append(cost);  # Record the intitial cost for plotting.\n",
        "\n",
        "\n",
        "        iterCount=0;\n",
        "\n",
        "        while not self.hasConverged:\n",
        "            # Perform the optimisation many times to reduce the cost by improving the parameters.\n",
        "            iterCount+=1;                       # Counter for the number of optimisation iterations.\n",
        "\n",
        "            # Depending on the optimisation approach. Calculate the coeffient update step differently.\n",
        "            if self.optimisation==\"gradientAscent\":\n",
        "                theta = LogisticRegression.gradientAscent(X,y,self.theta,self.alpha)\n",
        "                iterDisplayVerbose = 1000;\n",
        "            elif self.optimisation==\"newton\":\n",
        "                theta = LogisticRegression.newton(X, y, self.theta)\n",
        "                iterDisplayVerbose = 1;             # The number of iteration steps is significantly less than Gradient Ascent.\n",
        "            elif self.optimisation==\"gradientAscent2\":\n",
        "                theta = LogisticRegression.gradientAscent2(X,y,self.theta,self.alpha)\n",
        "                iterDisplayVerbose = 1000;\n",
        "            else:\n",
        "                assert \"unknown optimisation routine.\"\n",
        "                return;\n",
        "\n",
        "            cost = self.__cost(X,y, theta);     # Calculate the cost.\n",
        "\n",
        "\n",
        "            if iterCount>1:\n",
        "            # Only check to terminate optimisation after performing the second optimisation calculation.\n",
        "                hasConverged = self.__checkConvergence(self.costHistory[-1], cost, self.tolerance,iterCount);  # Check if should terminate iteration updates as convergence tolerance has been reached.\n",
        "\n",
        "                if hasConverged.hasConverged==True:\n",
        "                    print(\"Iteration #:  {:>7,.0f}.  Cost: {:>+7.4f}.\".format(iterCount, cost));\n",
        "                    print(\"Finished because {}. Using {} optimisation method.\".format(hasConverged.reason, self.optimisation));\n",
        "                    self.numIterations = iterCount;\n",
        "                    self.hasConverged == True;\n",
        "\n",
        "                if (self.verbose == True and iterCount % iterDisplayVerbose == 0) and  hasConverged.hasConverged==False:\n",
        "                    # Print out the log output.\n",
        "                    print(\"Iteration #:  {:>7,.0f}.  Cost: {:>+7.4f}\".format(iterCount, cost));\n",
        "\n",
        "\n",
        "            if iterCount < 2:\n",
        "\n",
        "                if (self.verbose == True and iterCount % iterDisplayVerbose == 0):\n",
        "                    # Print out the log output.\n",
        "                    print(\"Iteration #:  {:>7,.0f}.  Cost: {:>+7.4f}\".format(iterCount, cost));\n",
        "\n",
        "                self.theta = theta;\n",
        "                self.costHistory.append(cost);  # Record the cost for plotting.\n",
        "            else:\n",
        "                if not (((self.optimisation == \"newton\") and (cost > self.costHistory[-1])) or (np.isnan(cost))) or iterCount<1:\n",
        "                    # The Newton method on the last step can give coefficients well off and a worse cost as close to the singularity.\n",
        "                    # Because of this. Not recording the last theta and cost found in this case and using the previous one.\n",
        "                    self.theta = theta;\n",
        "                    self.costHistory.append(cost);  # Record the cost for plotting.\n",
        "\n",
        "\n",
        "    def __checkConvergence(self,previousCost, cost, tolerance, iterCount):\n",
        "        ''' Purpose: Checks if coefficients have converged.\n",
        "            Returns True if they have converged, False otherwise.'''\n",
        "        costChange = np.abs(previousCost - cost)\n",
        "\n",
        "        self.reason=\"\";\n",
        "        self.hasConverged=False;\n",
        "        if (np.any(costChange < tolerance)):\n",
        "            self.reason = \"cost function tolerance reached\";\n",
        "            self.hasConverged = True;\n",
        "\n",
        "        # If havn't reached thresholds, perform more iterations (keep training).\n",
        "        if (iterCount > self.maxIterations):\n",
        "            self.reason=\"maximum iterations reached\"\n",
        "            self.hasConverged = True;\n",
        "\n",
        "\n",
        "        if (self.optimisation == \"newton\"):\n",
        "            if (np.isnan(cost)):\n",
        "                # The Newton method on the last step can give coefficients well off and a worse cost as close to the singularity.\n",
        "                # Because of this. Not recording the last theta and cost found in this case and using the previous one.\n",
        "                self.reason=\"singular Hessian\"\n",
        "                self.hasConverged = True;\n",
        "            elif (cost > previousCost):\n",
        "                # The Newton method on the last step can give coefficients well off and a worse cost as close to the singularity.\n",
        "                # Because of this. Not recording the last theta and cost found in this case and using the previous one.\n",
        "                self.reason=\"cost function worsoning as close to solution\"\n",
        "                self.hasConverged = True;\n",
        "\n",
        "\n",
        "\n",
        "        return self\n",
        "\n",
        "\n",
        "    def predict_prob(X,theta,fitIntercept=True):\n",
        "        if fitIntercept:\n",
        "            X = LogisticRegression.__add_intercept(X=X)\n",
        "\n",
        "        return LogisticRegression.__sigmoid(np.dot(X, theta))\n",
        "\n",
        "    def predict(self, X):\n",
        "        prob = LogisticRegression.predict_prob((X).round(),self.theta,self.fitIntercept)\n",
        "        if (prob > 0.5):\n",
        "          return 1\n",
        "        return 0\n",
        "\n",
        "    def formattedOutput(objLogisticRegression):\n",
        "        \"\"\"\n",
        "        Purpose: To produce readable output summary of the results.\n",
        "            Input:\n",
        "                LogisticRegression  : A class instance containing the fitted information.\n",
        "        \"\"\"\n",
        "        optimisationMethod=objLogisticRegression.optimisation;\n",
        "        theta=objLogisticRegression.theta;\n",
        "        inititialCost=objLogisticRegression.costHistory[0];\n",
        "        finalCost=objLogisticRegression.costHistory[-1];\n",
        "        numIterations=objLogisticRegression.numIterations;\n",
        "\n",
        "\n",
        "        dash = '=' * 80; #chr(10000)*50\n",
        "        print(dash)\n",
        "        print(\"LOGISTIC REGRESSION USING {0} TERRMINATION RESULTS\".format(optimisationMethod.upper()))\n",
        "        print(dash)\n",
        "        print(\"Initial Weights were:    {:>12.1f}, {:>2.1f}, {:>2.1f}.\".format(0, 0, 0))\n",
        "        print(\"   With initial cost:    {:>+12.6f}.\".format(inititialCost))\n",
        "        print(\"        # Iterations:    {:>+12,.0f}.    \".format(numIterations))\n",
        "        print(\"       Final weights:    theta0:{:>+0.2f}, theta1:{:>+3.2f}, theta02:{:>+3.3f}.\".format(\n",
        "            theta[0], theta[1], theta[2]))#print(\"       Final weights:    \\u03F4\\u2080:{:>+0.2f}, \\u03F4\\u2081:{:>+3.2f}, \\u03F4\\u2082:{:>+3.3f}.\".format(theta[0], theta[1], theta[2]))\n",
        "        print(\"          Final cost:    {:>+12.6f}.\".format(finalCost))\n",
        "        print(dash)"
      ],
      "execution_count": 55,
      "outputs": []
    },
    {
      "cell_type": "code",
      "metadata": {
        "id": "9p7Ko-FqVNvk",
        "colab": {
          "base_uri": "https://localhost:8080/"
        },
        "outputId": "73632854-2136-4e48-9267-53bd9e589fd6"
      },
      "source": [
        "#Organize\n",
        "\n",
        "corr_matrix = np.corrcoef(tf_train)\n",
        "sumas = sum(corr_matrix >= 0.5)\n",
        "indices = sumas > 1\n",
        "tf_train = tf_train[~indices]\n",
        "\n",
        "y_train = y_train[~indices]"
      ],
      "execution_count": 56,
      "outputs": [
        {
          "output_type": "stream",
          "name": "stderr",
          "text": [
            "/usr/local/lib/python3.7/dist-packages/numpy/lib/function_base.py:2559: RuntimeWarning: invalid value encountered in true_divide\n",
            "  c /= stddev[:, None]\n",
            "/usr/local/lib/python3.7/dist-packages/numpy/lib/function_base.py:2560: RuntimeWarning: invalid value encountered in true_divide\n",
            "  c /= stddev[None, :]\n"
          ]
        }
      ]
    },
    {
      "cell_type": "code",
      "metadata": {
        "colab": {
          "base_uri": "https://localhost:8080/",
          "height": 1000
        },
        "id": "6vBQf5WrVQU2",
        "outputId": "adb765a0-412a-4132-d2af-0cabacb0c59b"
      },
      "source": [
        "#Plotting Logistic Regression\n",
        "\n",
        "X = tf_train\n",
        "y = y_train\n",
        "\n",
        "print(tf_train)\n",
        "\n",
        "objLogisticRegression = LogisticRegression(alpha=0.1, maxIterations=10,fitIntercept=False, verbose=True,optimisation=\"newton\");   # Initialise the regression.\n",
        "objLogisticRegression.fit(X, y);                                 # Fit the regression.\n",
        "\n",
        "thet = objLogisticRegression.theta\n",
        "\n",
        "toPx = np.dot(X, thet)\n",
        "\n",
        "zf = 1 / (1 + np.exp(-toPx))\n",
        "\n",
        "conc = [toPx.T, zf.T]\n",
        "conc = np.sort(conc)\n",
        "\n",
        "plt.plot(toPx,y, 'o')\n",
        "plt.plot(conc[0,:], conc[1,:])\n",
        "plt.legend(['Valor esperado','Curva logística'])\n",
        "plt.title(\"Regresión logística Newton-Raphson\")\n",
        "plt.show()"
      ],
      "execution_count": 39,
      "outputs": [
        {
          "output_type": "stream",
          "name": "stdout",
          "text": [
            "[[0 0 0 ... 0 0 0]\n",
            " [0 0 0 ... 1 0 0]\n",
            " [0 0 0 ... 0 0 0]\n",
            " ...\n",
            " [0 0 0 ... 0 0 0]\n",
            " [0 0 0 ... 0 0 0]\n",
            " [0 0 0 ... 0 0 0]]\n",
            "1\n",
            "2103\n",
            "(485.8926398843587+0j)\n",
            "(2103, 2103)\n",
            "[[ 2.05704071e-03 -6.27340722e-11  0.00000000e+00 ...  0.00000000e+00\n",
            "   1.22940468e-09  1.03267310e-08]\n",
            " [-6.27340722e-11  2.05279706e-03  0.00000000e+00 ...  0.00000000e+00\n",
            "   1.03537841e-09 -8.54512216e-11]\n",
            " [ 0.00000000e+00  0.00000000e+00  2.05806781e-03 ...  0.00000000e+00\n",
            "   0.00000000e+00  0.00000000e+00]\n",
            " ...\n",
            " [ 0.00000000e+00  0.00000000e+00  0.00000000e+00 ...  2.05700999e-03\n",
            "   0.00000000e+00  0.00000000e+00]\n",
            " [ 1.22940468e-09  1.03537841e-09  0.00000000e+00 ...  0.00000000e+00\n",
            "   2.05701950e-03  1.06201436e-09]\n",
            " [ 1.03267310e-08 -8.54512216e-11  0.00000000e+00 ...  0.00000000e+00\n",
            "   1.06201436e-09  2.05285689e-03]]\n",
            "[ 0.00087357  0.00307726  0.         ... -0.00102798  0.00097886\n",
            "  0.0048756 ]\n",
            "Iteration #:        1.  Cost: +0.6786\n",
            "1\n",
            "2103\n",
            "(325.132509509314+0j)\n",
            "(2103, 2103)\n",
            "[[ 3.07345599e-03 -2.37264516e-10  0.00000000e+00 ...  0.00000000e+00\n",
            "   3.69872708e-09  3.07315812e-08]\n",
            " [-2.37264516e-10  3.06392373e-03  0.00000000e+00 ...  0.00000000e+00\n",
            "   3.39092328e-09 -3.24097334e-10]\n",
            " [ 0.00000000e+00  0.00000000e+00  3.07566906e-03 ...  0.00000000e+00\n",
            "   0.00000000e+00  0.00000000e+00]\n",
            " ...\n",
            " [ 0.00000000e+00  0.00000000e+00  0.00000000e+00 ...  3.07330776e-03\n",
            "   0.00000000e+00  0.00000000e+00]\n",
            " [ 3.69872708e-09  3.39092328e-09  0.00000000e+00 ...  0.00000000e+00\n",
            "   3.07334462e-03  3.12220894e-09]\n",
            " [ 3.07315812e-08 -3.24097334e-10  0.00000000e+00 ...  0.00000000e+00\n",
            "   3.12220894e-09  3.06415616e-03]]\n",
            "[ 0.00192969  0.0076581   0.         ... -0.00256187  0.00235481\n",
            "  0.01169798]\n",
            "Iteration #:        2.  Cost: +0.6623\n",
            "1\n",
            "2103\n",
            "(169.9375609257066+0j)\n",
            "(2103, 2103)\n",
            "[[ 5.87723531e-03 -1.84099823e-09  0.00000000e+00 ...  0.00000000e+00\n",
            "   2.00815581e-08  1.59643557e-07]\n",
            " [-1.84099823e-09  5.84178195e-03  0.00000000e+00 ...  0.00000000e+00\n",
            "   2.25947275e-08 -2.65401090e-09]\n",
            " [ 0.00000000e+00  0.00000000e+00  5.88451426e-03 ...  0.00000000e+00\n",
            "   0.00000000e+00  0.00000000e+00]\n",
            " ...\n",
            " [ 0.00000000e+00  0.00000000e+00  0.00000000e+00 ...  5.87588283e-03\n",
            "   0.00000000e+00  0.00000000e+00]\n",
            " [ 2.00815581e-08  2.25947275e-08  0.00000000e+00 ...  0.00000000e+00\n",
            "   5.87618754e-03  1.61172018e-08]\n",
            " [ 1.59643557e-07 -2.65401090e-09  0.00000000e+00 ...  0.00000000e+00\n",
            "   1.61172018e-08  5.84366710e-03]]\n",
            "[ 0.00340503  0.01636647  0.         ... -0.00548798  0.00475129\n",
            "  0.02356718]\n",
            "Iteration #:        3.  Cost: +0.6388\n",
            "1\n",
            "2103\n",
            "(98.73602561214012+0j)\n",
            "(2103, 2103)\n",
            "[[ 1.01103051e-02 -8.54892205e-09  0.00000000e+00 ...  0.00000000e+00\n",
            "   7.20841829e-08  5.21244691e-07]\n",
            " [-8.54892205e-09  1.00025842e-02  0.00000000e+00 ...  0.00000000e+00\n",
            "   1.06536908e-07 -1.40824365e-08]\n",
            " [ 0.00000000e+00  0.00000000e+00  1.01280155e-02 ...  0.00000000e+00\n",
            "   0.00000000e+00  0.00000000e+00]\n",
            " ...\n",
            " [ 0.00000000e+00  0.00000000e+00  0.00000000e+00 ...  1.01025013e-02\n",
            "   0.00000000e+00  0.00000000e+00]\n",
            " [ 7.20841829e-08  1.06536908e-07  0.00000000e+00 ...  0.00000000e+00\n",
            "   1.01043535e-02  5.65818363e-08]\n",
            " [ 5.21244691e-07 -1.40824365e-08  0.00000000e+00 ...  0.00000000e+00\n",
            "   5.65818363e-08  1.00135308e-02]]\n",
            "[ 0.00516174  0.03120355  0.         ... -0.01049882  0.00837854\n",
            "  0.04175481]\n",
            "Iteration #:        4.  Cost: +0.6083\n",
            "1\n",
            "2103\n",
            "(82.74702352601808+0j)\n",
            "(2103, 2103)\n",
            "[[ 1.20652038e-02 -1.10752581e-08  0.00000000e+00 ...  0.00000000e+00\n",
            "   9.19861056e-08  6.02844411e-07]\n",
            " [-1.10752581e-08  1.19072317e-02  0.00000000e+00 ...  0.00000000e+00\n",
            "   1.69342736e-07 -2.18033432e-08]\n",
            " [ 0.00000000e+00  0.00000000e+00  1.20850268e-02 ...  0.00000000e+00\n",
            "   0.00000000e+00  0.00000000e+00]\n",
            " ...\n",
            " [ 0.00000000e+00  0.00000000e+00  0.00000000e+00 ...  1.20487381e-02\n",
            "   0.00000000e+00  0.00000000e+00]\n",
            " [ 9.19861056e-08  1.69342736e-07  0.00000000e+00 ...  0.00000000e+00\n",
            "   1.20531058e-02  8.36604720e-08]\n",
            " [ 6.02844411e-07 -2.18033432e-08  0.00000000e+00 ...  0.00000000e+00\n",
            "   8.36604720e-08  1.19318075e-02]]\n",
            "[ 0.00673465  0.04869991  0.         ... -0.01644199  0.01219398\n",
            "  0.06134532]\n",
            "Iteration #:        5.  Cost: +0.5794\n",
            "1\n",
            "2103\n",
            "(76.78096874386445+0j)\n",
            "(2103, 2103)\n",
            "[[ 1.30057019e-02 -1.09447824e-08  0.00000000e+00 ...  0.00000000e+00\n",
            "   8.81855430e-08  5.38052391e-07]\n",
            " [-1.09447824e-08  1.28180896e-02  0.00000000e+00 ...  0.00000000e+00\n",
            "   1.98043104e-07 -2.49773305e-08]\n",
            " [ 0.00000000e+00  0.00000000e+00  1.30240607e-02 ...  0.00000000e+00\n",
            "   0.00000000e+00  0.00000000e+00]\n",
            " ...\n",
            " [ 0.00000000e+00  0.00000000e+00  0.00000000e+00 ...  1.29819399e-02\n",
            "   0.00000000e+00  0.00000000e+00]\n",
            " [ 8.81855430e-08  1.98043104e-07  0.00000000e+00 ...  0.00000000e+00\n",
            "   1.29892148e-02  9.46934433e-08]\n",
            " [ 5.38052391e-07 -2.49773305e-08  0.00000000e+00 ...  0.00000000e+00\n",
            "   9.46934433e-08  1.28568702e-02]]\n",
            "[ 0.0080741   0.06731738  0.         ... -0.02280553  0.01585986\n",
            "  0.08067258]\n",
            "Iteration #:        6.  Cost: +0.5537\n",
            "1\n",
            "2103\n",
            "(73.11570855369796+0j)\n",
            "(2103, 2103)\n",
            "[[ 1.36604024e-02 -1.03767764e-08  0.00000000e+00 ...  0.00000000e+00\n",
            "   7.94389844e-08  4.59291958e-07]\n",
            " [-1.03767764e-08  1.34503221e-02  0.00000000e+00 ...  0.00000000e+00\n",
            "   2.13953573e-07 -2.67513534e-08]\n",
            " [ 0.00000000e+00  0.00000000e+00  1.36769515e-02 ...  0.00000000e+00\n",
            "   0.00000000e+00  0.00000000e+00]\n",
            " ...\n",
            " [ 0.00000000e+00  0.00000000e+00  0.00000000e+00 ...  1.36305284e-02\n",
            "   0.00000000e+00  0.00000000e+00]\n",
            " [ 7.94389844e-08  2.13953573e-07  0.00000000e+00 ...  0.00000000e+00\n",
            "   1.36409387e-02  9.88432509e-08]\n",
            " [ 4.59291958e-07 -2.67513534e-08  0.00000000e+00 ...  0.00000000e+00\n",
            "   9.88432509e-08  1.35034535e-02]]\n",
            "[ 0.00921493  0.08660393  0.         ... -0.02944272  0.01932656\n",
            "  0.09942386]\n",
            "Iteration #:        7.  Cost: +0.5308\n",
            "1\n",
            "2103\n",
            "(70.40726975042035+0j)\n",
            "(2103, 2103)\n",
            "[[ 1.41882285e-02 -9.69235273e-09  0.00000000e+00 ...  0.00000000e+00\n",
            "   7.01154908e-08  3.87741890e-07]\n",
            " [-9.69235273e-09  1.39592427e-02  0.00000000e+00 ...  0.00000000e+00\n",
            "   2.23635369e-07 -2.78090471e-08]\n",
            " [ 0.00000000e+00  0.00000000e+00  1.42030788e-02 ...  0.00000000e+00\n",
            "   0.00000000e+00  0.00000000e+00]\n",
            " ...\n",
            " [ 0.00000000e+00  0.00000000e+00  0.00000000e+00 ...  1.41530456e-02\n",
            "   0.00000000e+00  0.00000000e+00]\n",
            " [ 7.01154908e-08  2.23635369e-07  0.00000000e+00 ...  0.00000000e+00\n",
            "   1.41666901e-02  9.99692795e-08]\n",
            " [ 3.87741890e-07 -2.78090471e-08  0.00000000e+00 ...  0.00000000e+00\n",
            "   9.99692795e-08  1.40267144e-02]]\n",
            "[ 0.01019107  0.10634368  0.         ... -0.03628667  0.02259535\n",
            "  0.1175316 ]\n",
            "Iteration #:        8.  Cost: +0.5102\n",
            "1\n",
            "2103\n",
            "(68.21556121396792+0j)\n",
            "(2103, 2103)\n",
            "[[ 1.46461024e-02 -8.96692407e-09  0.00000000e+00 ...  0.00000000e+00\n",
            "   6.13402442e-08  3.25960563e-07]\n",
            " [-8.96692407e-09  1.44003161e-02  0.00000000e+00 ...  0.00000000e+00\n",
            "   2.29808655e-07 -2.83916190e-08]\n",
            " [ 0.00000000e+00  0.00000000e+00  1.46594118e-02 ...  0.00000000e+00\n",
            "   0.00000000e+00  0.00000000e+00]\n",
            " ...\n",
            " [ 0.00000000e+00  0.00000000e+00  0.00000000e+00 ...  1.46061477e-02\n",
            "   0.00000000e+00  0.00000000e+00]\n",
            " [ 6.13402442e-08  2.29808655e-07  0.00000000e+00 ...  0.00000000e+00\n",
            "   1.46230578e-02  9.98902023e-08]\n",
            " [ 3.25960563e-07 -2.83916190e-08  0.00000000e+00 ...  0.00000000e+00\n",
            "   9.98902023e-08  1.44820504e-02]]\n",
            "[ 0.0110301   0.12640519  0.         ... -0.04329919  0.02567961\n",
            "  0.13500039]\n",
            "Iteration #:        9.  Cost: +0.4916\n",
            "1\n",
            "2103\n",
            "(66.33693201269801+0j)\n",
            "(2103, 2103)\n",
            "[[ 1.50626355e-02 -8.23611349e-09  0.00000000e+00 ...  0.00000000e+00\n",
            "   5.34576840e-08  2.73581300e-07]\n",
            " [-8.23611349e-09  1.48013710e-02  0.00000000e+00 ...  0.00000000e+00\n",
            "   2.33927047e-07 -2.86323791e-08]\n",
            " [ 0.00000000e+00  0.00000000e+00  1.50745591e-02 ...  0.00000000e+00\n",
            "   0.00000000e+00  0.00000000e+00]\n",
            " ...\n",
            " [ 0.00000000e+00  0.00000000e+00  0.00000000e+00 ...  1.50182783e-02\n",
            "   0.00000000e+00  0.00000000e+00]\n",
            " [ 5.34576840e-08  2.33927047e-07  0.00000000e+00 ...  0.00000000e+00\n",
            "   1.50384573e-02  9.95158421e-08]\n",
            " [ 2.73581300e-07 -2.86323791e-08  0.00000000e+00 ...  0.00000000e+00\n",
            "   9.95158421e-08  1.48972427e-02]]\n",
            "[ 0.01175439  0.1466995   0.         ... -0.05045647  0.02859568\n",
            "  0.15186447]\n",
            "Iteration #:       10.  Cost: +0.4746\n",
            "1\n",
            "2103\n",
            "(64.63519648652931+0j)\n",
            "(2103, 2103)\n",
            "[[ 1.54607528e-02 -7.53520736e-09  0.00000000e+00 ...  0.00000000e+00\n",
            "   4.65968346e-08  2.29900033e-07]\n",
            " [-7.53520736e-09  1.51846400e-02  0.00000000e+00 ...  0.00000000e+00\n",
            "   2.37115540e-07 -2.86659190e-08]\n",
            " [ 0.00000000e+00  0.00000000e+00  1.54714467e-02 ...  0.00000000e+00\n",
            "   0.00000000e+00  0.00000000e+00]\n",
            " ...\n",
            " [ 0.00000000e+00  0.00000000e+00  0.00000000e+00 ...  1.54122145e-02\n",
            "   0.00000000e+00  0.00000000e+00]\n",
            " [ 4.65968346e-08  2.37115540e-07  0.00000000e+00 ...  0.00000000e+00\n",
            "   1.54356776e-02  9.93585706e-08]\n",
            " [ 2.29900033e-07 -2.86659190e-08  0.00000000e+00 ...  0.00000000e+00\n",
            "   9.93585706e-08  1.52945718e-02]]\n",
            "[ 0.01238251  0.1671705   0.         ... -0.05774596  0.03136084\n",
            "  0.16817692]\n",
            "Iteration #:       11.  Cost: +0.4590.\n",
            "Finished because maximum iterations reached. Using newton optimisation method.\n"
          ]
        },
        {
          "output_type": "display_data",
          "data": {
            "image/png": "[encoded data removed]",
            "text/plain": [
              "<Figure size 432x288 with 1 Axes>"
            ]
          },
          "metadata": {
            "needs_background": "light"
          }
        }
      ]
    },
    {
      "cell_type": "code",
      "metadata": {
        "colab": {
          "base_uri": "https://localhost:8080/",
          "height": 281
        },
        "id": "csRLbca4VaHw",
        "outputId": "b7a07642-876e-4f08-c0e8-80575595494f"
      },
      "source": [
        "#Confusion matrix and metrics\n",
        "\n",
        "correctos = 0\n",
        "\n",
        "y_test = list(y_test)\n",
        "\n",
        "predicciones_test = []\n",
        "for i in range(len(tf_test)):\n",
        "  prediccion = objLogisticRegression.predict(tf_test[i])\n",
        "  if (prediccion == y_test[i]):\n",
        "    correctos += 1\n",
        "\n",
        "  predicciones_test.append(prediccion)\n",
        "\n",
        "thet = objLogisticRegression.theta\n",
        "\n",
        "toPx = np.dot(tf_test, thet)\n",
        "\n",
        "zf = 1 / (1 + np.exp(-toPx))\n",
        "\n",
        "conc = [toPx.T, zf.T]\n",
        "conc = np.sort(conc)\n",
        "ss1 = conc[0,:]\n",
        "ss2 = conc[1,:]\n",
        "plt.plot(toPx,y_test, 'o')\n",
        "plt.plot(ss1, ss2)\n",
        "plt.legend(['Valor esperado','Curva logística'])\n",
        "plt.title(\"Regresión logística Newton-Raphson T\")\n",
        "plt.show()"
      ],
      "execution_count": 40,
      "outputs": [
        {
          "output_type": "display_data",
          "data": {
            "image/png": "[encoded data removed]",
            "text/plain": [
              "<Figure size 432x288 with 1 Axes>"
            ]
          },
          "metadata": {
            "needs_background": "light"
          }
        }
      ]
    },
    {
      "cell_type": "code",
      "metadata": {
        "colab": {
          "base_uri": "https://localhost:8080/",
          "height": 466
        },
        "id": "CsXGrHQ_VhGn",
        "outputId": "0e0e4bf2-2355-4e57-dbb7-ae61539f5350"
      },
      "source": [
        "cf = metrics.confusion_matrix(y_test,predicciones_test,labels = [1,0])\n",
        "print(cf)\n",
        "## this command is only for google collab \n",
        "## in the below figure \" 1 is actually showing -1 and 0 is actually showing 1\"\n",
        "fig, ax = plot_confusion_matrix(conf_mat = cf)\n",
        "plt.xlabel('Predicciones')\n",
        "plt.ylabel('Valores esperados')\n",
        "                                \n",
        "## It canbe used in any platform\n",
        "# fig, ax = plot_confusion_matrix(conf_mat = cf, class_names = [1,-1])\n",
        "plt.show()\n",
        "\n",
        "print(metrics.classification_report(y_test,predicciones_test))"
      ],
      "execution_count": 41,
      "outputs": [
        {
          "output_type": "stream",
          "name": "stdout",
          "text": [
            "[[115  13]\n",
            " [ 34  74]]\n"
          ]
        },
        {
          "output_type": "display_data",
          "data": {
            "image/png": "[encoded data removed]",
            "text/plain": [
              "<Figure size 432x288 with 1 Axes>"
            ]
          },
          "metadata": {
            "needs_background": "light"
          }
        },
        {
          "output_type": "stream",
          "name": "stdout",
          "text": [
            "              precision    recall  f1-score   support\n",
            "\n",
            "           0       0.85      0.69      0.76       108\n",
            "           1       0.77      0.90      0.83       128\n",
            "\n",
            "    accuracy                           0.80       236\n",
            "   macro avg       0.81      0.79      0.79       236\n",
            "weighted avg       0.81      0.80      0.80       236\n",
            "\n"
          ]
        }
      ]
    },
    {
      "cell_type": "code",
      "metadata": {
        "colab": {
          "base_uri": "https://localhost:8080/",
          "height": 312
        },
        "id": "T_Ro0XHzV2Hl",
        "outputId": "a28fadbc-7fd0-4a7a-9e47-7e9d19f049ef"
      },
      "source": [
        "#Cost\n",
        "\n",
        "plt.plot(objLogisticRegression.costHistory)\n",
        "plt.title('Función de costo Newton Raphson')\n",
        "plt.xlabel('Iteración')\n",
        "plt.ylabel('Costo')"
      ],
      "execution_count": 42,
      "outputs": [
        {
          "output_type": "execute_result",
          "data": {
            "text/plain": [
              "Text(0, 0.5, 'Costo')"
            ]
          },
          "metadata": {},
          "execution_count": 42
        },
        {
          "output_type": "display_data",
          "data": {
            "image/png": "[encoded data removed]",
            "text/plain": [
              "<Figure size 432x288 with 1 Axes>"
            ]
          },
          "metadata": {
            "needs_background": "light"
          }
        }
      ]
    },
    {
      "cell_type": "code",
      "metadata": {
        "colab": {
          "base_uri": "https://localhost:8080/",
          "height": 519
        },
        "id": "PQ1ev17HYzBN",
        "outputId": "31497ce0-b8b0-4225-c67b-5a57ec8bbf65"
      },
      "source": [
        "#Gradient ascent\n",
        "\n",
        "# Run the model:\n",
        "X = tf_train\n",
        "y = y_train\n",
        "objLogisticRegression1 = LogisticRegression(alpha=0.1, maxIterations=3000,fitIntercept=False, verbose=True,optimisation=\"gradientAscent\");   # Initialise the regression.\n",
        "objLogisticRegression1.fit(X, y);                                 # Fit the regression.\n",
        "\n",
        "thet = objLogisticRegression1.theta\n",
        "\n",
        "toPx = np.dot(X, thet)\n",
        "\n",
        "zf = 1 / (1 + np.exp(-toPx))\n",
        "\n",
        "conc = [toPx.T, zf.T]\n",
        "conc = np.sort(conc)\n",
        "\n",
        "plt.plot(toPx,y, 'o')\n",
        "plt.plot(conc[0,:], conc[1,:])\n",
        "plt.legend(['Valor esperado','Curva logística'])\n",
        "plt.title(\"Regresión logística Descenso del gradiente\")\n",
        "\n",
        "# Show the output:\n",
        "LogisticRegression.formattedOutput(objLogisticRegression=objLogisticRegression1);        # Show the formatted results."
      ],
      "execution_count": 43,
      "outputs": [
        {
          "output_type": "stream",
          "name": "stdout",
          "text": [
            "Iteration #:    1,000.  Cost: +0.4029\n",
            "Iteration #:    2,000.  Cost: +0.3150\n",
            "Iteration #:    3,000.  Cost: +0.2630\n",
            "Iteration #:    3,001.  Cost: +0.2630.\n",
            "Finished because maximum iterations reached. Using gradientAscent optimisation method.\n",
            "================================================================================\n",
            "LOGISTIC REGRESSION USING GRADIENTASCENT TERRMINATION RESULTS\n",
            "================================================================================\n",
            "Initial Weights were:             0.0, 0.0, 0.0.\n",
            "   With initial cost:       +0.693147.\n",
            "        # Iterations:          +3,001.    \n",
            "       Final weights:    theta0:+0.02, theta1:+0.62, theta02:+0.000.\n",
            "          Final cost:       +0.262972.\n",
            "================================================================================\n"
          ]
        },
        {
          "output_type": "display_data",
          "data": {
            "image/png": "[encoded data removed]",
            "text/plain": [
              "<Figure size 432x288 with 1 Axes>"
            ]
          },
          "metadata": {
            "needs_background": "light"
          }
        }
      ]
    },
    {
      "cell_type": "code",
      "metadata": {
        "colab": {
          "base_uri": "https://localhost:8080/",
          "height": 281
        },
        "id": "_GfPKtPXY4A3",
        "outputId": "bf5d4808-3faf-4f3b-96a2-3e6a7216975e"
      },
      "source": [
        "#Confusion matrix and metrics\n",
        "\n",
        "correctos = 0\n",
        "\n",
        "y_test = list(y_test)\n",
        "\n",
        "predicciones_test = []\n",
        "for i in range(len(tf_test)):\n",
        "  prediccion = objLogisticRegression1.predict(tf_test[i])\n",
        "  #print(prediccion)\n",
        "  if (prediccion == y_test[i]):\n",
        "    correctos += 1\n",
        "\n",
        "  predicciones_test.append(prediccion)\n",
        "\n",
        "thet = objLogisticRegression1.theta\n",
        "\n",
        "toPx = np.dot(tf_test, thet)\n",
        "\n",
        "zf = 1 / (1 + np.exp(-toPx))\n",
        "\n",
        "conc = [toPx.T, zf.T]\n",
        "conc = np.sort(conc)\n",
        "ss1 = conc[0,:]\n",
        "ss2 = conc[1,:]\n",
        "plt.plot(toPx,y_test, 'o')\n",
        "plt.plot(ss1, ss2)\n",
        "plt.legend(['Valor esperado','Curva logística'])\n",
        "plt.title(\"Regresión logística Descenso del gradiente\")\n",
        "plt.show()"
      ],
      "execution_count": 44,
      "outputs": [
        {
          "output_type": "display_data",
          "data": {
            "image/png": "[encoded data removed]",
            "text/plain": [
              "<Figure size 432x288 with 1 Axes>"
            ]
          },
          "metadata": {
            "needs_background": "light"
          }
        }
      ]
    },
    {
      "cell_type": "code",
      "metadata": {
        "colab": {
          "base_uri": "https://localhost:8080/",
          "height": 466
        },
        "id": "i5bJvhQAY-Nd",
        "outputId": "f5391882-45da-45e6-8557-3faf006168dd"
      },
      "source": [
        "cf = metrics.confusion_matrix(y_test,predicciones_test,labels = [1,0])\n",
        "print(cf)\n",
        "## this command is only for google collab \n",
        "## in the below figure \" 1 is actually showing -1 and 0 is actually showing 1\"\n",
        "fig, ax = plot_confusion_matrix(conf_mat = cf)\n",
        "plt.xlabel('Predicciones')\n",
        "plt.ylabel('Valores esperados')\n",
        "                                \n",
        "## It canbe used in any platform\n",
        "# fig, ax = plot_confusion_matrix(conf_mat = cf, class_names = [1,-1])\n",
        "plt.show()\n",
        "\n",
        "print(metrics.classification_report(y_test,predicciones_test))"
      ],
      "execution_count": 45,
      "outputs": [
        {
          "output_type": "stream",
          "name": "stdout",
          "text": [
            "[[114  14]\n",
            " [ 26  82]]\n"
          ]
        },
        {
          "output_type": "display_data",
          "data": {
            "image/png": "[encoded data removed]",
            "text/plain": [
              "<Figure size 432x288 with 1 Axes>"
            ]
          },
          "metadata": {
            "needs_background": "light"
          }
        },
        {
          "output_type": "stream",
          "name": "stdout",
          "text": [
            "              precision    recall  f1-score   support\n",
            "\n",
            "           0       0.85      0.76      0.80       108\n",
            "           1       0.81      0.89      0.85       128\n",
            "\n",
            "    accuracy                           0.83       236\n",
            "   macro avg       0.83      0.82      0.83       236\n",
            "weighted avg       0.83      0.83      0.83       236\n",
            "\n"
          ]
        }
      ]
    },
    {
      "cell_type": "code",
      "metadata": {
        "colab": {
          "base_uri": "https://localhost:8080/",
          "height": 312
        },
        "id": "v4l3Xof8ZCzE",
        "outputId": "c8affa9a-3f8b-4029-db05-460ac7850e7b"
      },
      "source": [
        "#Cost\n",
        "\n",
        "plt.plot(objLogisticRegression1.costHistory)\n",
        "plt.title('Función de costo Descenso del gradiente')\n",
        "plt.xlabel('Iteración')\n",
        "plt.ylabel('Costo')"
      ],
      "execution_count": 46,
      "outputs": [
        {
          "output_type": "execute_result",
          "data": {
            "text/plain": [
              "Text(0, 0.5, 'Costo')"
            ]
          },
          "metadata": {},
          "execution_count": 46
        },
        {
          "output_type": "display_data",
          "data": {
            "image/png": "[encoded data removed]",
            "text/plain": [
              "<Figure size 432x288 with 1 Axes>"
            ]
          },
          "metadata": {
            "needs_background": "light"
          }
        }
      ]
    },
    {
      "cell_type": "code",
      "metadata": {
        "colab": {
          "base_uri": "https://localhost:8080/",
          "height": 556
        },
        "id": "InZugZUXZFWV",
        "outputId": "603cc828-ba62-4808-fd9f-3d0f070a939a"
      },
      "source": [
        "#Modified Gradient Ascent\n",
        "\n",
        "# Run the model:\n",
        "objLogisticRegression2 = LogisticRegression(alpha=0.1, maxIterations=3000,fitIntercept=False, verbose=True,optimisation=\"gradientAscent2\");   # Initialise the regression.\n",
        "objLogisticRegression2.fit(X, y);                                 # Fit the regression.\n",
        "\n",
        "thet = objLogisticRegression2.theta\n",
        "\n",
        "toPx = np.dot(X, thet)\n",
        "\n",
        "zf = 1 / (1 + np.exp(-toPx))\n",
        "\n",
        "conc = [toPx.T, zf.T]\n",
        "conc = np.sort(conc)\n",
        "\n",
        "plt.plot(toPx,y, 'o')\n",
        "plt.plot(conc[0,:], conc[1,:])\n",
        "plt.legend(['Valor esperado','Curva logística'])\n",
        "plt.title(\"Regresión logística Descenso del gradiente modificado\")\n",
        "\n",
        "# Show the output:\n",
        "LogisticRegression.formattedOutput(objLogisticRegression=objLogisticRegression2);        # Show the formatted results."
      ],
      "execution_count": 47,
      "outputs": [
        {
          "output_type": "stream",
          "name": "stderr",
          "text": [
            "/usr/local/lib/python3.7/dist-packages/ipykernel_launcher.py:40: RuntimeWarning: divide by zero encountered in log\n"
          ]
        },
        {
          "output_type": "stream",
          "name": "stdout",
          "text": [
            "Iteration #:    1,000.  Cost: +0.0707\n",
            "Iteration #:    2,000.  Cost: +0.0516\n",
            "Iteration #:    3,000.  Cost: +0.0430\n",
            "Iteration #:    3,001.  Cost: +0.0430.\n",
            "Finished because maximum iterations reached. Using gradientAscent2 optimisation method.\n",
            "================================================================================\n",
            "LOGISTIC REGRESSION USING GRADIENTASCENT2 TERRMINATION RESULTS\n",
            "================================================================================\n",
            "Initial Weights were:             0.0, 0.0, 0.0.\n",
            "   With initial cost:       +0.693147.\n",
            "        # Iterations:          +3,001.    \n",
            "       Final weights:    theta0:+0.04, theta1:+1.81, theta02:+0.000.\n",
            "          Final cost:       +0.042990.\n",
            "================================================================================\n"
          ]
        },
        {
          "output_type": "display_data",
          "data": {
            "image/png": "[encoded data removed]",
            "text/plain": [
              "<Figure size 432x288 with 1 Axes>"
            ]
          },
          "metadata": {
            "needs_background": "light"
          }
        }
      ]
    },
    {
      "cell_type": "code",
      "metadata": {
        "colab": {
          "base_uri": "https://localhost:8080/",
          "height": 281
        },
        "id": "fIKbTNhlZIRb",
        "outputId": "da280b61-4483-402f-c1a5-654318a5d2c3"
      },
      "source": [
        "#Confusion matrix and metrics\n",
        "\n",
        "correctos = 0\n",
        "\n",
        "y_test = list(y_test)\n",
        "\n",
        "predicciones_test = []\n",
        "for i in range(len(tf_test)):\n",
        "  prediccion = objLogisticRegression2.predict(tf_test[i])\n",
        "  #print(prediccion)\n",
        "  if (prediccion == y_test[i]):\n",
        "    correctos += 1\n",
        "  \n",
        "  predicciones_test.append(prediccion)\n",
        "\n",
        "thet = objLogisticRegression2.theta\n",
        "\n",
        "toPx = np.dot(tf_test, thet)\n",
        "\n",
        "zf = 1 / (1 + np.exp(-toPx))\n",
        "\n",
        "conc = [toPx.T, zf.T]\n",
        "conc = np.sort(conc)\n",
        "ss1 = conc[0,:]\n",
        "ss2 = conc[1,:]\n",
        "plt.plot(toPx,y_test, 'o')\n",
        "plt.plot(ss1, ss2)\n",
        "plt.legend(['Valor esperado','Curva logística'])\n",
        "plt.title(\"Regresión logística Descenso del gradiente modificado\")\n",
        "plt.show()"
      ],
      "execution_count": 57,
      "outputs": [
        {
          "output_type": "display_data",
          "data": {
            "image/png": "[encoded data removed]",
            "text/plain": [
              "<Figure size 432x288 with 1 Axes>"
            ]
          },
          "metadata": {
            "needs_background": "light"
          }
        }
      ]
    },
    {
      "cell_type": "code",
      "metadata": {
        "colab": {
          "base_uri": "https://localhost:8080/",
          "height": 466
        },
        "id": "jWQaqqZ5ZNnT",
        "outputId": "8fbeedfe-9902-4e01-bba9-11ecd887713a"
      },
      "source": [
        "cf = metrics.confusion_matrix(y_test,predicciones_test,labels = [1,0])\n",
        "print(cf)\n",
        "## this command is only for google collab \n",
        "## in the below figure \" 1 is actually showing -1 and 0 is actually showing 1\"\n",
        "fig, ax = plot_confusion_matrix(conf_mat = cf)\n",
        "plt.xlabel('Predicciones')\n",
        "plt.ylabel('Valores esperados')\n",
        "                                \n",
        "## It canbe used in any platform\n",
        "# fig, ax = plot_confusion_matrix(conf_mat = cf, class_names = [1,-1])\n",
        "plt.show()\n",
        "\n",
        "print(metrics.classification_report(y_test,predicciones_test))"
      ],
      "execution_count": 58,
      "outputs": [
        {
          "output_type": "stream",
          "name": "stdout",
          "text": [
            "[[112  16]\n",
            " [ 27  81]]\n"
          ]
        },
        {
          "output_type": "display_data",
          "data": {
            "image/png": "[encoded data removed]",
            "text/plain": [
              "<Figure size 432x288 with 1 Axes>"
            ]
          },
          "metadata": {
            "needs_background": "light"
          }
        },
        {
          "output_type": "stream",
          "name": "stdout",
          "text": [
            "              precision    recall  f1-score   support\n",
            "\n",
            "           0       0.84      0.75      0.79       108\n",
            "           1       0.81      0.88      0.84       128\n",
            "\n",
            "    accuracy                           0.82       236\n",
            "   macro avg       0.82      0.81      0.81       236\n",
            "weighted avg       0.82      0.82      0.82       236\n",
            "\n"
          ]
        }
      ]
    },
    {
      "cell_type": "code",
      "metadata": {
        "colab": {
          "base_uri": "https://localhost:8080/",
          "height": 312
        },
        "id": "QoBu2fl-ZQZq",
        "outputId": "6f815d54-43f4-42a3-a0eb-39f5d1036900"
      },
      "source": [
        "#Cost\n",
        "\n",
        "plt.plot(objLogisticRegression2.costHistory)\n",
        "plt.title('Función de costo Descenso del gradiente modificado')\n",
        "plt.xlabel('Iteración')\n",
        "plt.ylabel('Costo')"
      ],
      "execution_count": 59,
      "outputs": [
        {
          "output_type": "execute_result",
          "data": {
            "text/plain": [
              "Text(0, 0.5, 'Costo')"
            ]
          },
          "metadata": {},
          "execution_count": 59
        },
        {
          "output_type": "display_data",
          "data": {
            "image/png": "[encoded data removed]",
            "text/plain": [
              "<Figure size 432x288 with 1 Axes>"
            ]
          },
          "metadata": {
            "needs_background": "light"
          }
        }
      ]
    },
    {
      "cell_type": "markdown",
      "metadata": {
        "id": "CF4lT2saaZm3"
      },
      "source": [
        "# **Naive Bayes**"
      ]
    },
    {
      "cell_type": "code",
      "metadata": {
        "id": "GO_rb_MTZScj"
      },
      "source": [
        "clf = MultinomialNB().fit(X, y)"
      ],
      "execution_count": 60,
      "outputs": []
    },
    {
      "cell_type": "code",
      "metadata": {
        "id": "TJ84nAPCaYHe"
      },
      "source": [
        "predicciones_test = clf.predict(tf_test)"
      ],
      "execution_count": 61,
      "outputs": []
    },
    {
      "cell_type": "code",
      "metadata": {
        "colab": {
          "base_uri": "https://localhost:8080/",
          "height": 466
        },
        "id": "ycEWdrHNaYKg",
        "outputId": "810324ca-01ca-49f2-9255-2f1b700cfac5"
      },
      "source": [
        "cf = metrics.confusion_matrix(y_test,predicciones_test,labels = [1,0])\n",
        "print(cf)\n",
        "## this command is only for google collab \n",
        "## in the below figure \" 1 is actually showing -1 and 0 is actually showing 1\"\n",
        "fig, ax = plot_confusion_matrix(conf_mat = cf)\n",
        "plt.xlabel('Predicciones')\n",
        "plt.ylabel('Valores esperados')\n",
        "                                \n",
        "## It canbe used in any platform\n",
        "# fig, ax = plot_confusion_matrix(conf_mat = cf, class_names = [1,-1])\n",
        "plt.show()\n",
        "\n",
        "print(metrics.classification_report(y_test,predicciones_test))"
      ],
      "execution_count": 62,
      "outputs": [
        {
          "output_type": "stream",
          "name": "stdout",
          "text": [
            "[[112  16]\n",
            " [ 51  57]]\n"
          ]
        },
        {
          "output_type": "display_data",
          "data": {
            "image/png": "[encoded data removed]",
            "text/plain": [
              "<Figure size 432x288 with 1 Axes>"
            ]
          },
          "metadata": {
            "needs_background": "light"
          }
        },
        {
          "output_type": "stream",
          "name": "stdout",
          "text": [
            "              precision    recall  f1-score   support\n",
            "\n",
            "           0       0.78      0.53      0.63       108\n",
            "           1       0.69      0.88      0.77       128\n",
            "\n",
            "    accuracy                           0.72       236\n",
            "   macro avg       0.73      0.70      0.70       236\n",
            "weighted avg       0.73      0.72      0.71       236\n",
            "\n"
          ]
        }
      ]
    },
    {
      "cell_type": "code",
      "metadata": {
        "id": "C6hRkddGbNNW"
      },
      "source": [
        ""
      ],
      "execution_count": 62,
      "outputs": []
    },
    {
      "cell_type": "markdown",
      "metadata": {
        "id": "E50ic5tSbThx"
      },
      "source": [
        "# **SVM**"
      ]
    },
    {
      "cell_type": "code",
      "metadata": {
        "colab": {
          "base_uri": "https://localhost:8080/"
        },
        "id": "os2hhVXGbW2h",
        "outputId": "c8015169-f9ff-4cbd-f965-6a34800f58e9"
      },
      "source": [
        "# Perform classification with SVM, kernel=linear\n",
        "classifier_linear = svm.SVC(kernel='linear')\n",
        "classifier_linear.fit(X, y)"
      ],
      "execution_count": 63,
      "outputs": [
        {
          "output_type": "execute_result",
          "data": {
            "text/plain": [
              "SVC(kernel='linear')"
            ]
          },
          "metadata": {},
          "execution_count": 63
        }
      ]
    },
    {
      "cell_type": "code",
      "metadata": {
        "id": "ZJ3dVqU-bpSY"
      },
      "source": [
        "predicciones_test = classifier_linear.predict(tf_test)"
      ],
      "execution_count": 64,
      "outputs": []
    },
    {
      "cell_type": "code",
      "metadata": {
        "colab": {
          "base_uri": "https://localhost:8080/",
          "height": 466
        },
        "id": "Wze7hRmwbuxO",
        "outputId": "19cebc0e-ac91-4fa9-dd26-b3d530d4325f"
      },
      "source": [
        "cf = metrics.confusion_matrix(y_test,predicciones_test,labels = [1,0])\n",
        "print(cf)\n",
        "## this command is only for google collab \n",
        "## in the below figure \" 1 is actually showing -1 and 0 is actually showing 1\"\n",
        "fig, ax = plot_confusion_matrix(conf_mat = cf)\n",
        "plt.xlabel('Predicciones')\n",
        "plt.ylabel('Valores esperados')\n",
        "\n",
        "## It canbe used in any platform\n",
        "# fig, ax = plot_confusion_matrix(conf_mat = cf, class_names = [1,-1])\n",
        "plt.show()\n",
        "\n",
        "print(metrics.classification_report(y_test,predicciones_test))"
      ],
      "execution_count": 65,
      "outputs": [
        {
          "output_type": "stream",
          "name": "stdout",
          "text": [
            "[[107  21]\n",
            " [ 14  94]]\n"
          ]
        },
        {
          "output_type": "display_data",
          "data": {
            "image/png": "[encoded data removed]",
            "text/plain": [
              "<Figure size 432x288 with 1 Axes>"
            ]
          },
          "metadata": {
            "needs_background": "light"
          }
        },
        {
          "output_type": "stream",
          "name": "stdout",
          "text": [
            "              precision    recall  f1-score   support\n",
            "\n",
            "           0       0.82      0.87      0.84       108\n",
            "           1       0.88      0.84      0.86       128\n",
            "\n",
            "    accuracy                           0.85       236\n",
            "   macro avg       0.85      0.85      0.85       236\n",
            "weighted avg       0.85      0.85      0.85       236\n",
            "\n"
          ]
        }
      ]
    },
    {
      "cell_type": "code",
      "metadata": {
        "id": "i6J_jX-HbzJP"
      },
      "source": [
        ""
      ],
      "execution_count": 65,
      "outputs": []
    }
  ]
}